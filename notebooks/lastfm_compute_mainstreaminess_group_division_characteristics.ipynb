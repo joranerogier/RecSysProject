{
 "cells": [
  {
   "cell_type": "code",
   "execution_count": 35,
   "id": "loving-vehicle",
   "metadata": {},
   "outputs": [],
   "source": [
    "from transform_data_representation import transform_dense_to_sparse_data\n",
    "import pandas as pd\n",
    "import numpy as np\n",
    "from scipy import stats\n",
    "import matplotlib.pyplot as plt\n",
    "import os\n",
    "from sklearn.neighbors import KernelDensity\n",
    "from sklearn.model_selection import GridSearchCV\n",
    "from collections import Counter"
   ]
  },
  {
   "cell_type": "code",
   "execution_count": 36,
   "id": "considered-split",
   "metadata": {},
   "outputs": [],
   "source": [
    "lastfm_path = \"C:/Users/Jorane Rogier/Documents/studie/year2/Research Internship/RecSysProject/data/lastfm/threshold_artists_lfm1k-play-counts_Final.csv\"\n",
    "test_saving_file = 'test_img.png'"
   ]
  },
  {
   "cell_type": "code",
   "execution_count": 37,
   "id": "descending-scheme",
   "metadata": {},
   "outputs": [],
   "source": [
    "def load_implicit_user_item_matrix_lfm_All(lastfm_path, max_user=884, max_item=55686): #885 177023 max_user=992, max_item=70547 10000\n",
    "    \"\"\"\n",
    "    this function loads the user x items matrix from the *old* movie lens data set.\n",
    "    Both input parameter represent a threshold for the maximum user id or maximum item id\n",
    "    The highest user id is  and the highest movie id is  for the original data set, however, the masked data\n",
    "    set contains only 943 users and  items\n",
    "    :return: user-item matrix\n",
    "    \"\"\"\n",
    "    import os.path\n",
    "    df = np.zeros(shape=(max_user, max_item)) #LastFM_10K_Features\n",
    "    with open(lastfm_path, 'r') as f: \n",
    "        for line in f.readlines():\n",
    "            user_id, movie_id, rating = line.split(\",\")\n",
    "            user_id, movie_id, rating = int(user_id), int(movie_id), float(rating)\n",
    "            df[user_id-1, movie_id-1] = 1\n",
    "\n",
    "    return df"
   ]
  },
  {
   "cell_type": "code",
   "execution_count": 38,
   "id": "difficult-amplifier",
   "metadata": {
    "scrolled": true
   },
   "outputs": [
    {
     "name": "stdout",
     "output_type": "stream",
     "text": [
      "item  1      2      3      4      5      6      7      8      9      10     \\\n",
      "user                                                                         \n",
      "1       0.0  855.0  779.0   12.0   18.0    8.0   15.0    6.0    6.0   20.0   \n",
      "2       0.0    0.0    0.0    0.0    0.0    0.0    0.0    0.0    0.0    0.0   \n",
      "3       2.0    0.0    2.0    1.0    0.0    0.0    0.0    0.0    0.0    0.0   \n",
      "4       0.0    0.0    0.0    1.0    0.0    0.0    0.0    0.0    0.0    0.0   \n",
      "5     119.0    0.0    5.0    1.0    0.0    2.0    0.0    0.0    0.0    0.0   \n",
      "...     ...    ...    ...    ...    ...    ...    ...    ...    ...    ...   \n",
      "880     0.0    0.0   34.0    0.0    0.0    0.0    0.0    0.0    0.0    0.0   \n",
      "881     0.0    0.0    0.0    0.0    0.0    0.0    0.0    0.0    0.0    0.0   \n",
      "882     0.0    0.0    0.0    0.0    0.0    0.0    0.0    0.0    0.0    0.0   \n",
      "883     0.0    0.0    0.0    0.0    0.0    0.0    0.0    0.0    0.0    0.0   \n",
      "884     0.0    0.0    0.0    0.0    0.0    0.0    0.0    0.0    0.0    0.0   \n",
      "\n",
      "item  ...  55677  55678  55679  55680  55681  55682  55683  55684  55685  \\\n",
      "user  ...                                                                  \n",
      "1     ...    0.0    0.0    0.0    0.0    0.0    0.0    0.0    0.0    0.0   \n",
      "2     ...    0.0    0.0    0.0    0.0    0.0    0.0    0.0    0.0    0.0   \n",
      "3     ...    0.0    0.0    0.0    0.0    0.0    0.0    0.0    0.0    0.0   \n",
      "4     ...    0.0    0.0    0.0    0.0    0.0    0.0    0.0    0.0    0.0   \n",
      "5     ...    0.0    0.0    0.0    0.0    0.0    0.0    0.0    0.0    0.0   \n",
      "...   ...    ...    ...    ...    ...    ...    ...    ...    ...    ...   \n",
      "880   ...    0.0    0.0    0.0    0.0    0.0    0.0    0.0    0.0    0.0   \n",
      "881   ...    0.0    0.0    0.0    0.0    0.0    0.0    0.0    0.0    0.0   \n",
      "882   ...    0.0    0.0    0.0    0.0    0.0    0.0    0.0    0.0    0.0   \n",
      "883   ...   39.0   13.0  128.0    0.0    0.0    0.0    0.0    0.0    0.0   \n",
      "884   ...    0.0    0.0    0.0   13.0   17.0   57.0   25.0   16.0   21.0   \n",
      "\n",
      "item  55686  \n",
      "user         \n",
      "1       0.0  \n",
      "2       0.0  \n",
      "3       0.0  \n",
      "4       0.0  \n",
      "5       0.0  \n",
      "...     ...  \n",
      "880     0.0  \n",
      "881     0.0  \n",
      "882     0.0  \n",
      "883     0.0  \n",
      "884    14.0  \n",
      "\n",
      "[884 rows x 55686 columns]\n"
     ]
    }
   ],
   "source": [
    "# Load implicit input data\n",
    "#lastfm = pd.DataFrame(load_user_item_matrix_lfm_All(lastfm_path))\n",
    "\n",
    "lastfm = pd.read_csv(lastfm_path, sep=',')\n",
    "lastfm.columns = ['user', 'item', 'playCounts']\n",
    "\n",
    "user_item_matrix = lastfm.pivot(*lastfm.columns)\n",
    "user_item_matrix = user_item_matrix.fillna(0)\n",
    "#user_item_matrix.columns = user_item_matrix.columns.astype(str)\n",
    "df = pd.DataFrame(user_item_matrix)\n",
    "print(df)"
   ]
  },
  {
   "cell_type": "code",
   "execution_count": 39,
   "id": "driving-marriage",
   "metadata": {},
   "outputs": [],
   "source": [
    "def compute_taus(df, minimum=0, maximum=10000000, rounding_tau=2, min_implicit=0):\n",
    "    \"\"\"\n",
    "    Function to compute global ranking and user ranking, followed by kendall's tau\n",
    "    INPUT: \n",
    "    * min, max -> items to be removed below/higher than these values\n",
    "    * df -> input dataframe\n",
    "    * rounding_tau -> rounding value for kendall's tau\n",
    "\n",
    "    OUTPUT:\n",
    "    * user_mainstreamnesses (tau, p-value)\n",
    "    * taus \n",
    "    \"\"\"\n",
    "    # Create Global Item Ranking (GIR), looping over all artists (items), count how often the artist has been played\n",
    "    GIR = {}\n",
    "    for col in df:#Col starts at 1\n",
    "        # does not take into account movies that have not been watched\n",
    "        summed_rating = df[col].sum()\n",
    "        nr_implicit = len(df[col].to_numpy().nonzero()[0])\n",
    "        #print(len(nr_implicit[0]))\n",
    "        #only take into account items that have been listened to a minimum and maximum amount of times\n",
    "        if (summed_rating >= minimum) & (summed_rating <= maximum) & (nr_implicit>min_implicit):\n",
    "            GIR[col] = summed_rating\n",
    "\n",
    "    ranks_GIR = {k: v for k,v in sorted(GIR.items(), key=lambda item: item[1], reverse=True)}\n",
    "    ranks_GIR_items = [*ranks_GIR]\n",
    "    print(f'Length of ranks_GIR_items: {len(ranks_GIR_items)}')\n",
    "    #print(GIR.keys())\n",
    "    #return None\n",
    "    \n",
    "    sub_df = df[list(GIR.keys())]\n",
    "    print(sub_df)\n",
    "    # Compute user mainstreaminess (UM)\n",
    "    user_mainstreamnesses = {}\n",
    "    taus = []\n",
    "    for uid in range(len(df)):\n",
    "        user_dict = {}\n",
    "        for item_id in sub_df:\n",
    "            rating = df.iloc[uid][item_id]# uid here is not the true user_id (which is uid + 1), iloc needs integer, thus starting at 0\n",
    "            # only take into account items that have been rated > minimum & < maximum times\n",
    "            if item_id in GIR:\n",
    "                user_dict[item_id] = rating\n",
    "        \n",
    "        # Rank the items for the user based on given ratings\n",
    "        ranks_user = {k: v for k,v in sorted(user_dict.items(), key=lambda item: item[1], reverse=True)}\n",
    "        ranks_user_items = [*ranks_user]\n",
    "        \n",
    "        # compute the mainstreaminess measure with Kendall's rank-order correlation\n",
    "        tau, p_value = stats.kendalltau(ranks_GIR_items, ranks_user_items)\n",
    "        user_mainstreamnesses[uid+1] = [tau, p_value] # Here, the actual user_id is used\n",
    "        taus.append(round(tau, rounding_tau))\n",
    "        \n",
    "    print(\"Finished computing users' mainstreaminesses\")\n",
    "    \n",
    "    # Plot taus to investigate the values\n",
    "    plt.figure(0)\n",
    "    plt.hist(taus)\n",
    "    plt.xlabel(\"Kendall's tau\")\n",
    "    plt.ylabel(\"Counts\")\n",
    "    \n",
    "    return user_mainstreamnesses, pd.Series(taus), GIR.keys()"
   ]
  },
  {
   "cell_type": "code",
   "execution_count": 6,
   "id": "warming-deployment",
   "metadata": {},
   "outputs": [],
   "source": [
    "def compute_best_bandwidth(d):\n",
    "    \"\"\"\n",
    "    Function to find the best bandwidth for kernel density estimation, given input d.\n",
    "    \"\"\"\n",
    "    bandwidths = 10 ** np.linspace(-1, 1, 100)\n",
    "    grid = GridSearchCV(KernelDensity(kernel='gaussian'),\n",
    "                        {'bandwidth': bandwidths})\n",
    "    grid.fit(d[:, None])\n",
    "    print(grid.best_params_)\n",
    "    return grid.best_params_"
   ]
  },
  {
   "cell_type": "code",
   "execution_count": 7,
   "id": "behind-calendar",
   "metadata": {},
   "outputs": [],
   "source": [
    "def plot_distribution(df_orig, df_syn):   \n",
    "    plt.plot(range(len(df_orig)), df_orig['counts'], label='Original')\n",
    "    plt.fill_between(range(len(df_orig)), df_orig['counts'], color='#539ecd', alpha=0.5)\n",
    "\n",
    "    plt.plot(range(len(df_syn)), df_syn['counts'], label='CTGAN')\n",
    "    plt.fill_between(range(len(df_syn)), df_syn['counts'], color='#4cad6e', alpha=0.5)\n",
    "    plt.legend(loc='upper right')\n"
   ]
  },
  {
   "cell_type": "code",
   "execution_count": 8,
   "id": "casual-leadership",
   "metadata": {},
   "outputs": [],
   "source": [
    "def transform_sparse_to_dense_data(sparse_df):\n",
    "    if 'total' in sparse_df.columns:\n",
    "        sparse_df = sparse_df.reset_index(drop=True)\n",
    "        sparse_df = sparse_df.drop(labels='total', axis=1)\n",
    "        print(sparse_df.columns)\n",
    "    transformed_data = []\n",
    "    for uid in range(len(sparse_df)):\n",
    "        for item_id in sparse_df.columns:\n",
    "            rating = sparse_df.iloc[uid][item_id]\n",
    "            #print(f\"user {uid} - item: {item_id} - rating: {rating}\")\n",
    "            if rating != 0:\n",
    "                user_id = int(uid)+1\n",
    "                sample = [user_id, int(item_id), str(int(rating))]\n",
    "                transformed_data.append(sample)\n",
    "            \n",
    "    df = pd.DataFrame(transformed_data, columns =['user', 'item', 'rating'])\n",
    "    return df"
   ]
  },
  {
   "cell_type": "code",
   "execution_count": 42,
   "id": "operating-devil",
   "metadata": {},
   "outputs": [],
   "source": [
    "def get_division_characteristics(user_mainstreamnesses, plot_saving_filename, csv_saving_filename, df_sub, tau_cutoff=0.02):\n",
    "    # Get the user-ids which have tau < tau_cutoff (beyond mainstream users, bmu)    \n",
    "    bmu = [k for k, v in user_mainstreamnesses.items() if float(v[0]) < float(tau_cutoff)] # For some reason does not work?\n",
    "    #print(user_mainstreamnesses.items())\n",
    "    print(len(bmu))\n",
    "    \n",
    "    # Get the user-ids which have tau >= tau_cutoff (mainstream users, mu)\n",
    "    mu = [k for k, v in user_mainstreamnesses.items() if float(v[0]) >= tau_cutoff]\n",
    "    print(len(mu))\n",
    "    \n",
    "    # Since the user-id's started at 1, but for indexing we start at 0, \n",
    "    # we subtract 1 from all elements in the lists\n",
    "    bmu[:] = [n-1 for n in bmu]\n",
    "    mu[:] = [n-1 for n in mu]\n",
    "    \n",
    "    df_bmu = df_sub.iloc[bmu]\n",
    "    df_bmu = df_bmu[df_bmu.columns].astype(int)\n",
    "    df_mu = df_sub.iloc[mu]\n",
    "    df_mu = df_mu[df_mu.columns].astype(int)\n",
    "    # concat both dataframes vertically\n",
    "    df_all = pd.concat([df_bmu, df_mu], axis=0)\n",
    "    df_all = df_all[df_all.columns].astype(int)\n",
    "    \n",
    "    # Save locally as csv file\n",
    "    df_bmu.to_csv(f'orig_sparse_beyond_mainstream_{csv_saving_filename}.csv')\n",
    "    df_all.to_csv(f'orig_sparse_all_{csv_saving_filename}.csv')\n",
    "    \n",
    "    # check user distribution\n",
    "    df_bmu_dense = transform_sparse_to_dense_data(df_bmu)\n",
    "    df_mu_dense = transform_sparse_to_dense_data(df_mu)\n",
    "\n",
    "    '''df_bmu_counts = df_bmu_dense.groupby('item').size().reset_index(name='counts')\n",
    "    df_bmu_counts = df_bmu_counts.sort_values(by='counts', ascending=False)\n",
    "    df_mu_counts = df_mu_dense.groupby('item').size().reset_index(name='counts')\n",
    "    df_mu_counts = df_mu_counts.sort_values(by='counts', ascending=False)\n",
    "\n",
    "    plot_distribution(df_bmu_counts, df_mu_counts)'''\n",
    "    \n",
    "    # samples = synthetic \n",
    "    # data = original\n",
    "\n",
    "    n_users_bmu = df_bmu_dense.user.unique().shape[0]\n",
    "    n_items_bmu = df_bmu_dense.item.unique().shape[0]\n",
    "    n_usersd_mu = df_mu_dense.user.unique().shape[0]\n",
    "    n_itemsd_mu = df_mu_dense.item.unique().shape[0] \n",
    "    # n_userrd = random.userid.unique().shape[0]\n",
    "    # n_itemsrd = random.itemid.unique().shape[0]\n",
    "\n",
    "    # Sort movie ratings in decreasing order of ratings\n",
    "    data_movieratings = Counter(df_mu_dense['user'])\n",
    "    ctr_movieratings = Counter(df_bmu_dense['user'])\n",
    "    # ran_movieratings = Counter(random['userid'])\n",
    "\n",
    "    #plt.xticks(rankings['movieId'])\n",
    "    plt.figure(figsize=(6,5))\n",
    "    plt.grid(linewidth=0.4, color='lightgray') \n",
    "    #plt.bar(np.arange(n_users_bmu),sorted(ctr_movieratings.values(),reverse = True), edgecolor='orchid', color='None', alpha=0.4)# color= \"orchid\")\n",
    "    # plt.bar(np.arange(n_userrd),sorted(ran_movieratings.values(),reverse = True), edgecolor='deepskyblue', color='None')# color= \"deepskyblue\")\n",
    "    plt.plot(np.arange(n_users_bmu),sorted(ctr_movieratings.values(),reverse = True), label='Beyond mainstream', color='blue')# color= \"orchid\")\n",
    "    plt.fill_between(range(len(np.arange(n_users_bmu))),sorted(ctr_movieratings.values(),reverse = True), color='#0868ac', alpha=0.5)\n",
    "    #plt.bar(np.arange(n_usersd_mu),sorted(data_movieratings.values(),reverse = True), edgecolor='bisque', color='None', alpha=0.4)# color= \"bisque\")\n",
    "    plt.plot(np.arange(n_usersd_mu),sorted(data_movieratings.values(),reverse = True), label='Mainstream', color='green')# color= \"bisque\")\n",
    "    plt.fill_between(range(len(np.arange(n_usersd_mu))), sorted(data_movieratings.values(),reverse = True), color='#bae4bc', alpha=0.5)\n",
    "    \n",
    "    plt.title(f'Distribution of ratings among users {csv_saving_filename}', size= 20, fontweight='bold')\n",
    "    plt.xlabel('Users', size= 20)#, fontweight='bold')\n",
    "    plt.ylabel('Number of ratings', size= 20)#, fontweight='bold')\n",
    "    plt.grid('on')\n",
    "    #plt.legend([\"Beyond-mainstream\", \"Mainstream\"], prop={'size': 18})\n",
    "    plt.legend(loc='upper right')\n",
    "    plt.savefig (f\"{plot_saving_filename}.pdf\")\n",
    "    plt.show()\n",
    "    \n",
    "    df_bmu_dense.to_csv(f'orig_dense_beyond_mainstream_{csv_saving_filename}.csv')\n",
    "    df_mu_dense.to_csv(f'orig_dense_mainstream_{csv_saving_filename}.csv')\n",
    "    \n",
    "    # compute non-zero values per row for both dataframes\n",
    "    df_bmu['total'] = df.gt(0).sum(axis=1)\n",
    "    df_mu['total'] = df.gt(0).sum(axis=1)\n",
    "        \n",
    "        \n",
    "    # Compare the characteristics.\n",
    "    data = {'Characteristic': ['Min. #Ratings', 'Max. #Ratings', 'Mean #Ratings', '# Users'],\n",
    "                'Beyond-mainstream': [df_bmu['total'].min(), df_bmu['total'].max(), df_bmu['total'].mean(), len(bmu)],\n",
    "                'Mainstream': [df_mu['total'].min(), df_mu['total'].max(), df_mu['total'].mean(), len(mu)]}\n",
    "\n",
    "    compare_df = pd.DataFrame(data)\n",
    "    print(compare_df)\n",
    "    return compare_df\n",
    "    "
   ]
  },
  {
   "cell_type": "markdown",
   "id": "consolidated-paste",
   "metadata": {},
   "source": [
    "## Look into data characteristics when removing items with < 600 playCounts"
   ]
  },
  {
   "cell_type": "markdown",
   "id": "industrial-velvet",
   "metadata": {},
   "source": [
    "### Investigate taus"
   ]
  },
  {
   "cell_type": "code",
   "execution_count": 33,
   "id": "conventional-reynolds",
   "metadata": {},
   "outputs": [
    {
     "name": "stdout",
     "output_type": "stream",
     "text": [
      "Length of ranks_GIR_items: 4093\n",
      "item  1      2      3      4      5      7      14     17     20     23     \\\n",
      "user                                                                         \n",
      "1       0.0  855.0  779.0   12.0   18.0   15.0  146.0    6.0  153.0    4.0   \n",
      "2       0.0    0.0    0.0    0.0    0.0    0.0    0.0    0.0    0.0    0.0   \n",
      "3       2.0    0.0    2.0    1.0    0.0    0.0    0.0    0.0    0.0    0.0   \n",
      "4       0.0    0.0    0.0    1.0    0.0    0.0    0.0    0.0    0.0    0.0   \n",
      "5     119.0    0.0    5.0    1.0    0.0    0.0    0.0    0.0    0.0    0.0   \n",
      "...     ...    ...    ...    ...    ...    ...    ...    ...    ...    ...   \n",
      "880     0.0    0.0   34.0    0.0    0.0    0.0    0.0    0.0    0.0    0.0   \n",
      "881     0.0    0.0    0.0    0.0    0.0    0.0    0.0    0.0    0.0    0.0   \n",
      "882     0.0    0.0    0.0    0.0    0.0    0.0    0.0    0.0    0.0    7.0   \n",
      "883     0.0    0.0    0.0    0.0    0.0    0.0    0.0    0.0    0.0    0.0   \n",
      "884     0.0    0.0    0.0    0.0    0.0    0.0    0.0    0.0    0.0    0.0   \n",
      "\n",
      "item  ...  52239  53111  53127  53264  53391  53754  53968  54397  54495  \\\n",
      "user  ...                                                                  \n",
      "1     ...    0.0    0.0    0.0    0.0    0.0    0.0    0.0    0.0    0.0   \n",
      "2     ...    0.0    0.0    0.0    0.0    0.0    0.0    0.0    0.0    0.0   \n",
      "3     ...    0.0    0.0    0.0    0.0    0.0    0.0    0.0    0.0    0.0   \n",
      "4     ...    0.0    0.0    0.0    0.0    0.0    0.0    0.0    0.0    0.0   \n",
      "5     ...    0.0    0.0    0.0    0.0    0.0    0.0    0.0    0.0    0.0   \n",
      "...   ...    ...    ...    ...    ...    ...    ...    ...    ...    ...   \n",
      "880   ...    0.0    0.0    0.0    0.0    0.0    0.0    0.0    0.0    0.0   \n",
      "881   ...    0.0    0.0    0.0    0.0    0.0    0.0    0.0    0.0    0.0   \n",
      "882   ...    0.0    0.0    0.0    0.0    0.0    0.0    0.0    0.0    0.0   \n",
      "883   ...    0.0    0.0    0.0    0.0    0.0    0.0    0.0    0.0    0.0   \n",
      "884   ...    0.0    0.0    0.0    0.0    0.0    0.0    0.0    0.0    0.0   \n",
      "\n",
      "item  55648  \n",
      "user         \n",
      "1       0.0  \n",
      "2       0.0  \n",
      "3       0.0  \n",
      "4       0.0  \n",
      "5       0.0  \n",
      "...     ...  \n",
      "880     0.0  \n",
      "881     0.0  \n",
      "882     0.0  \n",
      "883     0.0  \n",
      "884     0.0  \n",
      "\n",
      "[884 rows x 4093 columns]\n",
      "Finished computing users' mainstreaminesses\n"
     ]
    },
    {
     "name": "stderr",
     "output_type": "stream",
     "text": [
      "<ipython-input-6-1d79585076c0>:8: FutureWarning: Support for multi-dimensional indexing (e.g. `obj[:, None]`) is deprecated and will be removed in a future version.  Convert to a numpy array before indexing instead.\n",
      "  grid.fit(d[:, None])\n"
     ]
    },
    {
     "name": "stdout",
     "output_type": "stream",
     "text": [
      "{'bandwidth': 0.1}\n"
     ]
    },
    {
     "name": "stderr",
     "output_type": "stream",
     "text": [
      "<ipython-input-33-2ead51554094>:8: FutureWarning: Support for multi-dimensional indexing (e.g. `obj[:, None]`) is deprecated and will be removed in a future version.  Convert to a numpy array before indexing instead.\n",
      "  kde.fit(taus_df[:, None])\n"
     ]
    },
    {
     "data": {
      "text/plain": [
       "(-0.001, 40.0)"
      ]
     },
     "execution_count": 33,
     "metadata": {},
     "output_type": "execute_result"
    },
    {
     "data": {
      "image/png": "[encoded data removed]",
      "text/plain": [
       "<Figure size 432x288 with 1 Axes>"
      ]
     },
     "metadata": {
      "needs_background": "light"
     },
     "output_type": "display_data"
    },
    {
     "data": {
      "image/png": "[encoded data removed]",
      "text/plain": [
       "<Figure size 432x288 with 1 Axes>"
      ]
     },
     "metadata": {
      "needs_background": "light"
     },
     "output_type": "display_data"
    }
   ],
   "source": [
    "user_mainstreamnesses, taus_df, keep_items = compute_taus(df, minimum=600, min_implicit=0)\n",
    "best_bandwidth = compute_best_bandwidth(taus_df)\n",
    "\n",
    "# instantiate and fit the KDE model\n",
    "kde = KernelDensity(bandwidth=best_bandwidth['bandwidth'], kernel='gaussian')\n",
    "x_d2 = np.linspace(0, 0.4, 1000)\n",
    "\n",
    "kde.fit(taus_df[:, None])\n",
    "\n",
    "# score_samples returns the log of the probability density\n",
    "logprob = kde.score_samples(x_d2[:, None])\n",
    "\n",
    "plt.figure(1)\n",
    "plt.fill_between(x_d2, np.exp(logprob), alpha=0.5)\n",
    "plt.plot(taus_df, np.full_like(taus_df, -0.01), '|k', markeredgewidth=0.2)\n",
    "plt.ylim(-0.001, 40)"
   ]
  },
  {
   "cell_type": "markdown",
   "id": "suburban-quest",
   "metadata": {},
   "source": [
    "#### Divide users into two groups, based on mainstreaminess score, and compare group-size characteristics"
   ]
  },
  {
   "cell_type": "code",
   "execution_count": 34,
   "id": "reflected-lightning",
   "metadata": {},
   "outputs": [
    {
     "name": "stdout",
     "output_type": "stream",
     "text": [
      "item  1      2      3      4      5      7      14     17     20     23     \\\n",
      "user                                                                         \n",
      "1       0.0  855.0  779.0   12.0   18.0   15.0  146.0    6.0  153.0    4.0   \n",
      "2       0.0    0.0    0.0    0.0    0.0    0.0    0.0    0.0    0.0    0.0   \n",
      "3       2.0    0.0    2.0    1.0    0.0    0.0    0.0    0.0    0.0    0.0   \n",
      "4       0.0    0.0    0.0    1.0    0.0    0.0    0.0    0.0    0.0    0.0   \n",
      "5     119.0    0.0    5.0    1.0    0.0    0.0    0.0    0.0    0.0    0.0   \n",
      "...     ...    ...    ...    ...    ...    ...    ...    ...    ...    ...   \n",
      "880     0.0    0.0   34.0    0.0    0.0    0.0    0.0    0.0    0.0    0.0   \n",
      "881     0.0    0.0    0.0    0.0    0.0    0.0    0.0    0.0    0.0    0.0   \n",
      "882     0.0    0.0    0.0    0.0    0.0    0.0    0.0    0.0    0.0    7.0   \n",
      "883     0.0    0.0    0.0    0.0    0.0    0.0    0.0    0.0    0.0    0.0   \n",
      "884     0.0    0.0    0.0    0.0    0.0    0.0    0.0    0.0    0.0    0.0   \n",
      "\n",
      "item  ...  52239  53111  53127  53264  53391  53754  53968  54397  54495  \\\n",
      "user  ...                                                                  \n",
      "1     ...    0.0    0.0    0.0    0.0    0.0    0.0    0.0    0.0    0.0   \n",
      "2     ...    0.0    0.0    0.0    0.0    0.0    0.0    0.0    0.0    0.0   \n",
      "3     ...    0.0    0.0    0.0    0.0    0.0    0.0    0.0    0.0    0.0   \n",
      "4     ...    0.0    0.0    0.0    0.0    0.0    0.0    0.0    0.0    0.0   \n",
      "5     ...    0.0    0.0    0.0    0.0    0.0    0.0    0.0    0.0    0.0   \n",
      "...   ...    ...    ...    ...    ...    ...    ...    ...    ...    ...   \n",
      "880   ...    0.0    0.0    0.0    0.0    0.0    0.0    0.0    0.0    0.0   \n",
      "881   ...    0.0    0.0    0.0    0.0    0.0    0.0    0.0    0.0    0.0   \n",
      "882   ...    0.0    0.0    0.0    0.0    0.0    0.0    0.0    0.0    0.0   \n",
      "883   ...    0.0    0.0    0.0    0.0    0.0    0.0    0.0    0.0    0.0   \n",
      "884   ...    0.0    0.0    0.0    0.0    0.0    0.0    0.0    0.0    0.0   \n",
      "\n",
      "item  55648  \n",
      "user         \n",
      "1       0.0  \n",
      "2       0.0  \n",
      "3       0.0  \n",
      "4       0.0  \n",
      "5       0.0  \n",
      "...     ...  \n",
      "880     0.0  \n",
      "881     0.0  \n",
      "882     0.0  \n",
      "883     0.0  \n",
      "884     0.0  \n",
      "\n",
      "[884 rows x 4093 columns]\n"
     ]
    }
   ],
   "source": [
    "# Remove the items that did not make the threshold\n",
    "df_mpc600 = df[list(keep_items)]\n",
    "print(df_mpc600)"
   ]
  },
  {
   "cell_type": "code",
   "execution_count": 79,
   "id": "perfect-perry",
   "metadata": {
    "scrolled": true
   },
   "outputs": [
    {
     "name": "stdout",
     "output_type": "stream",
     "text": [
      "309\n",
      "575\n"
     ]
    },
    {
     "ename": "KeyboardInterrupt",
     "evalue": "",
     "output_type": "error",
     "traceback": [
      "\u001b[1;31m---------------------------------------------------------------------------\u001b[0m",
      "\u001b[1;31mKeyboardInterrupt\u001b[0m                         Traceback (most recent call last)",
      "\u001b[1;32m<ipython-input-79-d61710cfcdb6>\u001b[0m in \u001b[0;36m<module>\u001b[1;34m\u001b[0m\n\u001b[0;32m      5\u001b[0m \u001b[0mcsv_saving_filename\u001b[0m \u001b[1;33m=\u001b[0m \u001b[1;34mf\"tau_{tau_cutoff}_{prep}_lastfm\"\u001b[0m\u001b[1;33m\u001b[0m\u001b[1;33m\u001b[0m\u001b[0m\n\u001b[0;32m      6\u001b[0m \u001b[1;33m\u001b[0m\u001b[0m\n\u001b[1;32m----> 7\u001b[1;33m \u001b[0mcompare_df\u001b[0m \u001b[1;33m=\u001b[0m \u001b[0mget_division_characteristics\u001b[0m\u001b[1;33m(\u001b[0m\u001b[0muser_mainstreamnesses\u001b[0m\u001b[1;33m,\u001b[0m \u001b[0mplot_saving_filename\u001b[0m\u001b[1;33m,\u001b[0m \u001b[0mcsv_saving_filename\u001b[0m\u001b[1;33m,\u001b[0m \u001b[0mtau_cutoff\u001b[0m\u001b[1;33m)\u001b[0m\u001b[1;33m\u001b[0m\u001b[1;33m\u001b[0m\u001b[0m\n\u001b[0m",
      "\u001b[1;32m<ipython-input-20-fb505ed3c055>\u001b[0m in \u001b[0;36mget_division_characteristics\u001b[1;34m(user_mainstreamnesses, plot_saving_filename, csv_saving_filename, tau_cutoff)\u001b[0m\n\u001b[0;32m     27\u001b[0m \u001b[1;33m\u001b[0m\u001b[0m\n\u001b[0;32m     28\u001b[0m     \u001b[1;31m# check user distribution\u001b[0m\u001b[1;33m\u001b[0m\u001b[1;33m\u001b[0m\u001b[1;33m\u001b[0m\u001b[0m\n\u001b[1;32m---> 29\u001b[1;33m     \u001b[0mdf_bmu_dense\u001b[0m \u001b[1;33m=\u001b[0m \u001b[0mtransform_sparse_to_dense_data\u001b[0m\u001b[1;33m(\u001b[0m\u001b[0mdf_bmu\u001b[0m\u001b[1;33m)\u001b[0m\u001b[1;33m\u001b[0m\u001b[1;33m\u001b[0m\u001b[0m\n\u001b[0m\u001b[0;32m     30\u001b[0m     \u001b[0mdf_mu_dense\u001b[0m \u001b[1;33m=\u001b[0m \u001b[0mtransform_sparse_to_dense_data\u001b[0m\u001b[1;33m(\u001b[0m\u001b[0mdf_mu\u001b[0m\u001b[1;33m)\u001b[0m\u001b[1;33m\u001b[0m\u001b[1;33m\u001b[0m\u001b[0m\n\u001b[0;32m     31\u001b[0m \u001b[1;33m\u001b[0m\u001b[0m\n",
      "\u001b[1;32m<ipython-input-19-c8773b73e1f8>\u001b[0m in \u001b[0;36mtransform_sparse_to_dense_data\u001b[1;34m(sparse_df)\u001b[0m\n\u001b[0;32m      7\u001b[0m     \u001b[1;32mfor\u001b[0m \u001b[0muid\u001b[0m \u001b[1;32min\u001b[0m \u001b[0mrange\u001b[0m\u001b[1;33m(\u001b[0m\u001b[0mlen\u001b[0m\u001b[1;33m(\u001b[0m\u001b[0msparse_df\u001b[0m\u001b[1;33m)\u001b[0m\u001b[1;33m)\u001b[0m\u001b[1;33m:\u001b[0m\u001b[1;33m\u001b[0m\u001b[1;33m\u001b[0m\u001b[0m\n\u001b[0;32m      8\u001b[0m         \u001b[1;32mfor\u001b[0m \u001b[0mitem_id\u001b[0m \u001b[1;32min\u001b[0m \u001b[0msparse_df\u001b[0m\u001b[1;33m.\u001b[0m\u001b[0mcolumns\u001b[0m\u001b[1;33m:\u001b[0m\u001b[1;33m\u001b[0m\u001b[1;33m\u001b[0m\u001b[0m\n\u001b[1;32m----> 9\u001b[1;33m             \u001b[0mrating\u001b[0m \u001b[1;33m=\u001b[0m \u001b[0msparse_df\u001b[0m\u001b[1;33m.\u001b[0m\u001b[0miloc\u001b[0m\u001b[1;33m[\u001b[0m\u001b[0muid\u001b[0m\u001b[1;33m]\u001b[0m\u001b[1;33m[\u001b[0m\u001b[0mitem_id\u001b[0m\u001b[1;33m]\u001b[0m\u001b[1;33m\u001b[0m\u001b[1;33m\u001b[0m\u001b[0m\n\u001b[0m\u001b[0;32m     10\u001b[0m             \u001b[1;31m#print(f\"user {uid} - item: {item_id} - rating: {rating}\")\u001b[0m\u001b[1;33m\u001b[0m\u001b[1;33m\u001b[0m\u001b[1;33m\u001b[0m\u001b[0m\n\u001b[0;32m     11\u001b[0m             \u001b[1;32mif\u001b[0m \u001b[0mrating\u001b[0m \u001b[1;33m!=\u001b[0m \u001b[1;36m0\u001b[0m\u001b[1;33m:\u001b[0m\u001b[1;33m\u001b[0m\u001b[1;33m\u001b[0m\u001b[0m\n",
      "\u001b[1;32mC:\\Anaconda\\envs\\recsys\\lib\\site-packages\\pandas\\core\\indexing.py\u001b[0m in \u001b[0;36m__getitem__\u001b[1;34m(self, key)\u001b[0m\n\u001b[0;32m    877\u001b[0m \u001b[1;33m\u001b[0m\u001b[0m\n\u001b[0;32m    878\u001b[0m             \u001b[0mmaybe_callable\u001b[0m \u001b[1;33m=\u001b[0m \u001b[0mcom\u001b[0m\u001b[1;33m.\u001b[0m\u001b[0mapply_if_callable\u001b[0m\u001b[1;33m(\u001b[0m\u001b[0mkey\u001b[0m\u001b[1;33m,\u001b[0m \u001b[0mself\u001b[0m\u001b[1;33m.\u001b[0m\u001b[0mobj\u001b[0m\u001b[1;33m)\u001b[0m\u001b[1;33m\u001b[0m\u001b[1;33m\u001b[0m\u001b[0m\n\u001b[1;32m--> 879\u001b[1;33m             \u001b[1;32mreturn\u001b[0m \u001b[0mself\u001b[0m\u001b[1;33m.\u001b[0m\u001b[0m_getitem_axis\u001b[0m\u001b[1;33m(\u001b[0m\u001b[0mmaybe_callable\u001b[0m\u001b[1;33m,\u001b[0m \u001b[0maxis\u001b[0m\u001b[1;33m=\u001b[0m\u001b[0maxis\u001b[0m\u001b[1;33m)\u001b[0m\u001b[1;33m\u001b[0m\u001b[1;33m\u001b[0m\u001b[0m\n\u001b[0m\u001b[0;32m    880\u001b[0m \u001b[1;33m\u001b[0m\u001b[0m\n\u001b[0;32m    881\u001b[0m     \u001b[1;32mdef\u001b[0m \u001b[0m_is_scalar_access\u001b[0m\u001b[1;33m(\u001b[0m\u001b[0mself\u001b[0m\u001b[1;33m,\u001b[0m \u001b[0mkey\u001b[0m\u001b[1;33m:\u001b[0m \u001b[0mTuple\u001b[0m\u001b[1;33m)\u001b[0m\u001b[1;33m:\u001b[0m\u001b[1;33m\u001b[0m\u001b[1;33m\u001b[0m\u001b[0m\n",
      "\u001b[1;32mC:\\Anaconda\\envs\\recsys\\lib\\site-packages\\pandas\\core\\indexing.py\u001b[0m in \u001b[0;36m_getitem_axis\u001b[1;34m(self, key, axis)\u001b[0m\n\u001b[0;32m   1496\u001b[0m             \u001b[0mself\u001b[0m\u001b[1;33m.\u001b[0m\u001b[0m_validate_integer\u001b[0m\u001b[1;33m(\u001b[0m\u001b[0mkey\u001b[0m\u001b[1;33m,\u001b[0m \u001b[0maxis\u001b[0m\u001b[1;33m)\u001b[0m\u001b[1;33m\u001b[0m\u001b[1;33m\u001b[0m\u001b[0m\n\u001b[0;32m   1497\u001b[0m \u001b[1;33m\u001b[0m\u001b[0m\n\u001b[1;32m-> 1498\u001b[1;33m             \u001b[1;32mreturn\u001b[0m \u001b[0mself\u001b[0m\u001b[1;33m.\u001b[0m\u001b[0mobj\u001b[0m\u001b[1;33m.\u001b[0m\u001b[0m_ixs\u001b[0m\u001b[1;33m(\u001b[0m\u001b[0mkey\u001b[0m\u001b[1;33m,\u001b[0m \u001b[0maxis\u001b[0m\u001b[1;33m=\u001b[0m\u001b[0maxis\u001b[0m\u001b[1;33m)\u001b[0m\u001b[1;33m\u001b[0m\u001b[1;33m\u001b[0m\u001b[0m\n\u001b[0m\u001b[0;32m   1499\u001b[0m \u001b[1;33m\u001b[0m\u001b[0m\n\u001b[0;32m   1500\u001b[0m     \u001b[1;32mdef\u001b[0m \u001b[0m_get_slice_axis\u001b[0m\u001b[1;33m(\u001b[0m\u001b[0mself\u001b[0m\u001b[1;33m,\u001b[0m \u001b[0mslice_obj\u001b[0m\u001b[1;33m:\u001b[0m \u001b[0mslice\u001b[0m\u001b[1;33m,\u001b[0m \u001b[0maxis\u001b[0m\u001b[1;33m:\u001b[0m \u001b[0mint\u001b[0m\u001b[1;33m)\u001b[0m\u001b[1;33m:\u001b[0m\u001b[1;33m\u001b[0m\u001b[1;33m\u001b[0m\u001b[0m\n",
      "\u001b[1;32mC:\\Anaconda\\envs\\recsys\\lib\\site-packages\\pandas\\core\\frame.py\u001b[0m in \u001b[0;36m_ixs\u001b[1;34m(self, i, axis)\u001b[0m\n\u001b[0;32m   2831\u001b[0m             \u001b[1;31m# if we are a copy, mark as such\u001b[0m\u001b[1;33m\u001b[0m\u001b[1;33m\u001b[0m\u001b[1;33m\u001b[0m\u001b[0m\n\u001b[0;32m   2832\u001b[0m             \u001b[0mcopy\u001b[0m \u001b[1;33m=\u001b[0m \u001b[0misinstance\u001b[0m\u001b[1;33m(\u001b[0m\u001b[0mnew_values\u001b[0m\u001b[1;33m,\u001b[0m \u001b[0mnp\u001b[0m\u001b[1;33m.\u001b[0m\u001b[0mndarray\u001b[0m\u001b[1;33m)\u001b[0m \u001b[1;32mand\u001b[0m \u001b[0mnew_values\u001b[0m\u001b[1;33m.\u001b[0m\u001b[0mbase\u001b[0m \u001b[1;32mis\u001b[0m \u001b[1;32mNone\u001b[0m\u001b[1;33m\u001b[0m\u001b[1;33m\u001b[0m\u001b[0m\n\u001b[1;32m-> 2833\u001b[1;33m             result = self._constructor_sliced(\n\u001b[0m\u001b[0;32m   2834\u001b[0m                 \u001b[0mnew_values\u001b[0m\u001b[1;33m,\u001b[0m\u001b[1;33m\u001b[0m\u001b[1;33m\u001b[0m\u001b[0m\n\u001b[0;32m   2835\u001b[0m                 \u001b[0mindex\u001b[0m\u001b[1;33m=\u001b[0m\u001b[0mself\u001b[0m\u001b[1;33m.\u001b[0m\u001b[0mcolumns\u001b[0m\u001b[1;33m,\u001b[0m\u001b[1;33m\u001b[0m\u001b[1;33m\u001b[0m\u001b[0m\n",
      "\u001b[1;32mC:\\Anaconda\\envs\\recsys\\lib\\site-packages\\pandas\\core\\series.py\u001b[0m in \u001b[0;36m__init__\u001b[1;34m(self, data, index, dtype, name, copy, fastpath)\u001b[0m\n\u001b[0;32m    325\u001b[0m                     \u001b[0mdata\u001b[0m \u001b[1;33m=\u001b[0m \u001b[0mdata\u001b[0m\u001b[1;33m.\u001b[0m\u001b[0mcopy\u001b[0m\u001b[1;33m(\u001b[0m\u001b[1;33m)\u001b[0m\u001b[1;33m\u001b[0m\u001b[1;33m\u001b[0m\u001b[0m\n\u001b[0;32m    326\u001b[0m             \u001b[1;32melse\u001b[0m\u001b[1;33m:\u001b[0m\u001b[1;33m\u001b[0m\u001b[1;33m\u001b[0m\u001b[0m\n\u001b[1;32m--> 327\u001b[1;33m                 \u001b[0mdata\u001b[0m \u001b[1;33m=\u001b[0m \u001b[0msanitize_array\u001b[0m\u001b[1;33m(\u001b[0m\u001b[0mdata\u001b[0m\u001b[1;33m,\u001b[0m \u001b[0mindex\u001b[0m\u001b[1;33m,\u001b[0m \u001b[0mdtype\u001b[0m\u001b[1;33m,\u001b[0m \u001b[0mcopy\u001b[0m\u001b[1;33m,\u001b[0m \u001b[0mraise_cast_failure\u001b[0m\u001b[1;33m=\u001b[0m\u001b[1;32mTrue\u001b[0m\u001b[1;33m)\u001b[0m\u001b[1;33m\u001b[0m\u001b[1;33m\u001b[0m\u001b[0m\n\u001b[0m\u001b[0;32m    328\u001b[0m \u001b[1;33m\u001b[0m\u001b[0m\n\u001b[0;32m    329\u001b[0m                 \u001b[0mdata\u001b[0m \u001b[1;33m=\u001b[0m \u001b[0mSingleBlockManager\u001b[0m\u001b[1;33m.\u001b[0m\u001b[0mfrom_array\u001b[0m\u001b[1;33m(\u001b[0m\u001b[0mdata\u001b[0m\u001b[1;33m,\u001b[0m \u001b[0mindex\u001b[0m\u001b[1;33m)\u001b[0m\u001b[1;33m\u001b[0m\u001b[1;33m\u001b[0m\u001b[0m\n",
      "\u001b[1;32mC:\\Anaconda\\envs\\recsys\\lib\\site-packages\\pandas\\core\\construction.py\u001b[0m in \u001b[0;36msanitize_array\u001b[1;34m(data, index, dtype, copy, raise_cast_failure)\u001b[0m\n\u001b[0;32m    426\u001b[0m         \u001b[1;32melse\u001b[0m\u001b[1;33m:\u001b[0m\u001b[1;33m\u001b[0m\u001b[1;33m\u001b[0m\u001b[0m\n\u001b[0;32m    427\u001b[0m             \u001b[1;31m# we will try to copy be-definition here\u001b[0m\u001b[1;33m\u001b[0m\u001b[1;33m\u001b[0m\u001b[1;33m\u001b[0m\u001b[0m\n\u001b[1;32m--> 428\u001b[1;33m             \u001b[0msubarr\u001b[0m \u001b[1;33m=\u001b[0m \u001b[0m_try_cast\u001b[0m\u001b[1;33m(\u001b[0m\u001b[0mdata\u001b[0m\u001b[1;33m,\u001b[0m \u001b[0mdtype\u001b[0m\u001b[1;33m,\u001b[0m \u001b[0mcopy\u001b[0m\u001b[1;33m,\u001b[0m \u001b[0mraise_cast_failure\u001b[0m\u001b[1;33m)\u001b[0m\u001b[1;33m\u001b[0m\u001b[1;33m\u001b[0m\u001b[0m\n\u001b[0m\u001b[0;32m    429\u001b[0m \u001b[1;33m\u001b[0m\u001b[0m\n\u001b[0;32m    430\u001b[0m     \u001b[1;32melif\u001b[0m \u001b[0misinstance\u001b[0m\u001b[1;33m(\u001b[0m\u001b[0mdata\u001b[0m\u001b[1;33m,\u001b[0m \u001b[0mABCExtensionArray\u001b[0m\u001b[1;33m)\u001b[0m\u001b[1;33m:\u001b[0m\u001b[1;33m\u001b[0m\u001b[1;33m\u001b[0m\u001b[0m\n",
      "\u001b[1;32mC:\\Anaconda\\envs\\recsys\\lib\\site-packages\\pandas\\core\\construction.py\u001b[0m in \u001b[0;36m_try_cast\u001b[1;34m(arr, dtype, copy, raise_cast_failure)\u001b[0m\n\u001b[0;32m    553\u001b[0m         \u001b[1;32mif\u001b[0m \u001b[0mis_integer_dtype\u001b[0m\u001b[1;33m(\u001b[0m\u001b[0mdtype\u001b[0m\u001b[1;33m)\u001b[0m\u001b[1;33m:\u001b[0m\u001b[1;33m\u001b[0m\u001b[1;33m\u001b[0m\u001b[0m\n\u001b[0;32m    554\u001b[0m             \u001b[1;31m# this will raise if we have e.g. floats\u001b[0m\u001b[1;33m\u001b[0m\u001b[1;33m\u001b[0m\u001b[1;33m\u001b[0m\u001b[0m\n\u001b[1;32m--> 555\u001b[1;33m             \u001b[0mmaybe_cast_to_integer_array\u001b[0m\u001b[1;33m(\u001b[0m\u001b[0marr\u001b[0m\u001b[1;33m,\u001b[0m \u001b[0mdtype\u001b[0m\u001b[1;33m)\u001b[0m\u001b[1;33m\u001b[0m\u001b[1;33m\u001b[0m\u001b[0m\n\u001b[0m\u001b[0;32m    556\u001b[0m             \u001b[0msubarr\u001b[0m \u001b[1;33m=\u001b[0m \u001b[0marr\u001b[0m\u001b[1;33m\u001b[0m\u001b[1;33m\u001b[0m\u001b[0m\n\u001b[0;32m    557\u001b[0m         \u001b[1;32melse\u001b[0m\u001b[1;33m:\u001b[0m\u001b[1;33m\u001b[0m\u001b[1;33m\u001b[0m\u001b[0m\n",
      "\u001b[1;32mC:\\Anaconda\\envs\\recsys\\lib\\site-packages\\pandas\\core\\dtypes\\cast.py\u001b[0m in \u001b[0;36mmaybe_cast_to_integer_array\u001b[1;34m(arr, dtype, copy)\u001b[0m\n\u001b[0;32m   1681\u001b[0m         ) from err\n\u001b[0;32m   1682\u001b[0m \u001b[1;33m\u001b[0m\u001b[0m\n\u001b[1;32m-> 1683\u001b[1;33m     \u001b[1;32mif\u001b[0m \u001b[0mnp\u001b[0m\u001b[1;33m.\u001b[0m\u001b[0marray_equal\u001b[0m\u001b[1;33m(\u001b[0m\u001b[0marr\u001b[0m\u001b[1;33m,\u001b[0m \u001b[0mcasted\u001b[0m\u001b[1;33m)\u001b[0m\u001b[1;33m:\u001b[0m\u001b[1;33m\u001b[0m\u001b[1;33m\u001b[0m\u001b[0m\n\u001b[0m\u001b[0;32m   1684\u001b[0m         \u001b[1;32mreturn\u001b[0m \u001b[0mcasted\u001b[0m\u001b[1;33m\u001b[0m\u001b[1;33m\u001b[0m\u001b[0m\n\u001b[0;32m   1685\u001b[0m \u001b[1;33m\u001b[0m\u001b[0m\n",
      "\u001b[1;32m<__array_function__ internals>\u001b[0m in \u001b[0;36marray_equal\u001b[1;34m(*args, **kwargs)\u001b[0m\n",
      "\u001b[1;32mC:\\Anaconda\\envs\\recsys\\lib\\site-packages\\numpy\\core\\numeric.py\u001b[0m in \u001b[0;36marray_equal\u001b[1;34m(a1, a2, equal_nan)\u001b[0m\n\u001b[0;32m   2376\u001b[0m         \u001b[1;32mreturn\u001b[0m \u001b[1;32mFalse\u001b[0m\u001b[1;33m\u001b[0m\u001b[1;33m\u001b[0m\u001b[0m\n\u001b[0;32m   2377\u001b[0m     \u001b[1;32mif\u001b[0m \u001b[1;32mnot\u001b[0m \u001b[0mequal_nan\u001b[0m\u001b[1;33m:\u001b[0m\u001b[1;33m\u001b[0m\u001b[1;33m\u001b[0m\u001b[0m\n\u001b[1;32m-> 2378\u001b[1;33m         \u001b[1;32mreturn\u001b[0m \u001b[0mbool\u001b[0m\u001b[1;33m(\u001b[0m\u001b[0masarray\u001b[0m\u001b[1;33m(\u001b[0m\u001b[0ma1\u001b[0m \u001b[1;33m==\u001b[0m \u001b[0ma2\u001b[0m\u001b[1;33m)\u001b[0m\u001b[1;33m.\u001b[0m\u001b[0mall\u001b[0m\u001b[1;33m(\u001b[0m\u001b[1;33m)\u001b[0m\u001b[1;33m)\u001b[0m\u001b[1;33m\u001b[0m\u001b[1;33m\u001b[0m\u001b[0m\n\u001b[0m\u001b[0;32m   2379\u001b[0m     \u001b[1;31m# Handling NaN values if equal_nan is True\u001b[0m\u001b[1;33m\u001b[0m\u001b[1;33m\u001b[0m\u001b[1;33m\u001b[0m\u001b[0m\n\u001b[0;32m   2380\u001b[0m     \u001b[0ma1nan\u001b[0m\u001b[1;33m,\u001b[0m \u001b[0ma2nan\u001b[0m \u001b[1;33m=\u001b[0m \u001b[0misnan\u001b[0m\u001b[1;33m(\u001b[0m\u001b[0ma1\u001b[0m\u001b[1;33m)\u001b[0m\u001b[1;33m,\u001b[0m \u001b[0misnan\u001b[0m\u001b[1;33m(\u001b[0m\u001b[0ma2\u001b[0m\u001b[1;33m)\u001b[0m\u001b[1;33m\u001b[0m\u001b[1;33m\u001b[0m\u001b[0m\n",
      "\u001b[1;31mKeyboardInterrupt\u001b[0m: "
     ]
    }
   ],
   "source": [
    "tau_cutoff = X\n",
    "prep = 'playcounts_mpc600'#preprocessing: nothing removed\n",
    "\n",
    "plot_saving_filename = f\"plot_user_distribution_tau_{tau_cutoff}_{prep}_lastfm_items_removed\"\n",
    "csv_saving_filename = f\"tau_{tau_cutoff}_{prep}_lastfm_items_removed\"\n",
    "\n",
    "compare_df = get_division_characteristics(user_mainstreamnesses, plot_saving_filename, csv_saving_filename, df_mimpl60, tau_cutoff)"
   ]
  },
  {
   "cell_type": "markdown",
   "id": "apparent-paintball",
   "metadata": {},
   "source": [
    "## Look into data characteristics when removing items with < 1000 playCounts"
   ]
  },
  {
   "cell_type": "code",
   "execution_count": null,
   "id": "charming-kazakhstan",
   "metadata": {},
   "outputs": [],
   "source": [
    "user_mainstreamnesses, taus_df = compute_taus(df, minimum=1000, min_implicit=0)\n",
    "best_bandwidth = compute_best_bandwidth(taus_df)\n",
    "\n",
    "# instantiate and fit the KDE model\n",
    "kde = KernelDensity(bandwidth=best_bandwidth['bandwidth'], kernel='gaussian')\n",
    "x_d2 = np.linspace(0, 0.4, 1000)\n",
    "\n",
    "kde.fit(taus_df[:, None])\n",
    "\n",
    "# score_samples returns the log of the probability density\n",
    "logprob = kde.score_samples(x_d2[:, None])\n",
    "\n",
    "plt.figure(1)\n",
    "plt.fill_between(x_d2, np.exp(logprob), alpha=0.5)\n",
    "plt.plot(taus_df, np.full_like(taus_df, -0.01), '|k', markeredgewidth=0.2)\n",
    "plt.ylim(-0.001, 40)"
   ]
  },
  {
   "cell_type": "code",
   "execution_count": null,
   "id": "central-mapping",
   "metadata": {},
   "outputs": [],
   "source": [
    "tau_cutoff = X\n",
    "prep = 'playcounts_l1000'#preprocessing: nothing removed\n",
    "\n",
    "plot_saving_filename = f\"plot_user_distribution_tau_{tau_cutoff}_{prep}_lastfm\"\n",
    "csv_saving_filename = f\"tau_{tau_cutoff}_{prep}_lastfm\"\n",
    "\n",
    "compare_df = get_division_characteristics(user_mainstreamnesses, plot_saving_filename, csv_saving_filename, tau_cutoff)"
   ]
  },
  {
   "cell_type": "markdown",
   "id": "recent-employee",
   "metadata": {},
   "source": [
    "## Look into data characteristics when removing items with < 60 user-listeners"
   ]
  },
  {
   "cell_type": "code",
   "execution_count": 10,
   "id": "alpine-administration",
   "metadata": {},
   "outputs": [
    {
     "name": "stdout",
     "output_type": "stream",
     "text": [
      "Length of ranks_GIR_items: 2180\n",
      "ranks_GIR: {71: 107532.0, 545: 93785.0, 1473: 81296.0, 563: 59664.0, 3078: 56367.0, 1510: 55218.0, 118: 53406.0, 574: 51830.0, 751: 49845.0, 2543: 48986.0, 1618: 46969.0, 1226: 45891.0, 712: 44921.0, 795: 44611.0, 1495: 44283.0, 429: 43197.0, 777: 42674.0, 3316: 42074.0, 870: 41301.0, 895: 40755.0, 746: 38266.0, 762: 37360.0, 49: 37295.0, 1198: 37187.0, 884: 37060.0, 457: 36539.0, 1390: 36279.0, 236: 36111.0, 1217: 34940.0, 731: 34802.0, 1668: 33796.0, 1004: 32633.0, 1224: 32202.0, 925: 32136.0, 1349: 32096.0, 1660: 31959.0, 761: 31567.0, 1879: 31439.0, 1703: 30932.0, 920: 30737.0, 2655: 30673.0, 782: 30584.0, 583: 30469.0, 600: 29918.0, 591: 29877.0, 1318: 29629.0, 2458: 29567.0, 1279: 29517.0, 546: 29232.0, 760: 29038.0, 1308: 28230.0, 540: 28064.0, 739: 28005.0, 1802: 27923.0, 4443: 27599.0, 794: 27347.0, 1532: 27008.0, 679: 25815.0, 1634: 25662.0, 595: 25656.0, 542: 25493.0, 84: 25318.0, 891: 25036.0, 565: 24894.0, 1147: 24703.0, 2272: 24510.0, 1850: 24274.0, 806: 24223.0, 537: 24189.0, 2518: 23782.0, 881: 23748.0, 836: 23225.0, 2463: 23172.0, 3134: 23059.0, 50: 22971.0, 6408: 22618.0, 604: 22341.0, 1480: 22237.0, 30: 21268.0, 1167: 21202.0, 3340: 20999.0, 1327: 20756.0, 719: 20690.0, 839: 20633.0, 2016: 20594.0, 640: 20563.0, 587: 20428.0, 813: 20222.0, 630: 20121.0, 1795: 19967.0, 4259: 19953.0, 4093: 19753.0, 1732: 19666.0, 846: 19609.0, 771: 19581.0, 3365: 19554.0, 2295: 19443.0, 749: 19353.0, 788: 19302.0, 1344: 19223.0, 867: 19109.0, 1097: 18651.0, 608: 18617.0, 1512: 18300.0, 1173: 18146.0, 1476: 17730.0, 3001: 17510.0, 265: 17477.0, 989: 17393.0, 1960: 17343.0, 636: 17287.0, 936: 17280.0, 1993: 17268.0, 610: 17206.0, 851: 17189.0, 906: 17161.0, 733: 17057.0, 1533: 16986.0, 549: 16791.0, 665: 16685.0, 4966: 16664.0, 1264: 16650.0, 1851: 16650.0, 811: 16602.0, 4196: 16438.0, 1242: 16305.0, 266: 16229.0, 1698: 16223.0, 3159: 16212.0, 1873: 16206.0, 742: 16173.0, 162: 16158.0, 1417: 16130.0, 511: 16092.0, 651: 16076.0, 3004: 15654.0, 694: 15620.0, 551: 15521.0, 1161: 15484.0, 677: 15434.0, 3017: 15327.0, 3551: 15221.0, 3002: 15144.0, 2192: 15034.0, 1168: 14876.0, 2620: 14805.0, 837: 14799.0, 562: 14748.0, 6359: 14670.0, 2836: 14666.0, 7444: 14564.0, 70: 14553.0, 735: 14533.0, 1142: 14383.0, 945: 14378.0, 1826: 14220.0, 1186: 14180.0, 2457: 14132.0, 569: 14073.0, 1183: 14034.0, 663: 13950.0, 1772: 13916.0, 1416: 13850.0, 1946: 13847.0, 1160: 13829.0, 6241: 13812.0, 3007: 13805.0, 1365: 13742.0, 1528: 13719.0, 1209: 13642.0, 1190: 13636.0, 1144: 13626.0, 755: 13612.0, 1606: 13591.0, 1477: 13490.0, 578: 13391.0, 623: 13342.0, 2555: 13204.0, 4348: 13204.0, 3255: 13168.0, 3022: 13151.0, 5730: 13062.0, 4175: 12954.0, 2998: 12941.0, 1249: 12874.0, 7304: 12668.0, 1134: 12652.0, 4990: 12629.0, 3180: 12590.0, 2625: 12566.0, 986: 12518.0, 804: 12415.0, 849: 12283.0, 2611: 12276.0, 561: 12237.0, 789: 12222.0, 1692: 12189.0, 1107: 12042.0, 4174: 11970.0, 538: 11937.0, 2276: 11930.0, 2469: 11915.0, 3085: 11838.0, 570: 11829.0, 748: 11789.0, 2191: 11777.0, 714: 11715.0, 1189: 11714.0, 1872: 11680.0, 3014: 11598.0, 752: 11581.0, 4190: 11575.0, 1090: 11551.0, 2296: 11532.0, 778: 11519.0, 1481: 11499.0, 3335: 11450.0, 1468: 11336.0, 512: 11223.0, 1437: 11120.0, 2515: 11103.0, 2855: 11011.0, 841: 10940.0, 2030: 10819.0, 828: 10733.0, 1177: 10711.0, 1641: 10679.0, 4763: 10670.0, 1062: 10634.0, 1420: 10622.0, 2169: 10612.0, 938: 10569.0, 905: 10559.0, 2809: 10530.0, 2621: 10511.0, 1112: 10504.0, 862: 10422.0, 1758: 10395.0, 8366: 10375.0, 3107: 10366.0, 5135: 10350.0, 856: 10339.0, 4725: 10291.0, 5040: 10215.0, 2517: 10172.0, 589: 10160.0, 597: 10128.0, 1287: 10103.0, 145: 10082.0, 557: 10078.0, 4351: 10054.0, 1187: 10046.0, 2559: 10038.0, 720: 10023.0, 2546: 10005.0, 547: 9962.0, 840: 9955.0, 4155: 9882.0, 900: 9877.0, 1389: 9858.0, 710: 9806.0, 1276: 9804.0, 1984: 9658.0, 543: 9655.0, 575: 9651.0, 1448: 9649.0, 947: 9625.0, 858: 9603.0, 888: 9553.0, 1916: 9511.0, 1438: 9498.0, 3003: 9485.0, 1754: 9438.0, 1923: 9433.0, 1354: 9420.0, 4724: 9417.0, 2542: 9352.0, 1637: 9287.0, 1140: 9285.0, 506: 9245.0, 5311: 9212.0, 523: 9182.0, 3251: 9179.0, 177: 9132.0, 1807: 9132.0, 2269: 9107.0, 943: 9088.0, 6290: 9052.0, 3023: 9034.0, 1301: 9021.0, 816: 9016.0, 815: 9000.0, 3067: 8984.0, 2563: 8948.0, 1392: 8888.0, 896: 8886.0, 3698: 8856.0, 2132: 8849.0, 310: 8827.0, 4294: 8818.0, 602: 8799.0, 5010: 8767.0, 3606: 8766.0, 2148: 8764.0, 2736: 8740.0, 2629: 8708.0, 1932: 8678.0, 2529: 8677.0, 681: 8671.0, 10290: 8652.0, 3205: 8552.0, 498: 8497.0, 2527: 8490.0, 1135: 8446.0, 294: 8377.0, 1687: 8328.0, 1172: 8325.0, 438: 8324.0, 1266: 8324.0, 3088: 8301.0, 1632: 8285.0, 8731: 8284.0, 10559: 8280.0, 1020: 8250.0, 4775: 8246.0, 1162: 8203.0, 217: 8198.0, 5275: 8192.0, 485: 8185.0, 8368: 8163.0, 1803: 8145.0, 790: 8092.0, 1729: 8057.0, 197: 8053.0, 8585: 8046.0, 1064: 8035.0, 1483: 8002.0, 1159: 7998.0, 847: 7963.0, 5943: 7915.0, 1619: 7908.0, 3182: 7892.0, 2236: 7887.0, 1704: 7873.0, 2060: 7867.0, 1952: 7865.0, 3124: 7847.0, 1521: 7842.0, 1082: 7821.0, 812: 7808.0, 3164: 7808.0, 2969: 7759.0, 2440: 7754.0, 737: 7736.0, 625: 7727.0, 1805: 7697.0, 1799: 7643.0, 756: 7630.0, 934: 7617.0, 1672: 7600.0, 444: 7597.0, 3247: 7554.0, 3103: 7524.0, 1214: 7521.0, 89: 7511.0, 166: 7459.0, 609: 7457.0, 1418: 7450.0, 4946: 7424.0, 1115: 7404.0, 4235: 7379.0, 7293: 7379.0, 7134: 7373.0, 5933: 7369.0, 7709: 7365.0, 654: 7364.0, 1143: 7351.0, 1114: 7335.0, 6418: 7329.0, 4325: 7325.0, 1157: 7310.0, 1909: 7299.0, 5296: 7287.0, 1138: 7267.0, 3144: 7247.0, 3279: 7209.0, 4375: 7177.0, 2811: 7166.0, 1350: 7150.0, 1497: 7133.0, 634: 7128.0, 4117: 7128.0, 6541: 7118.0, 2337: 7116.0, 4181: 7102.0, 1912: 7098.0, 765: 7095.0, 768: 7085.0, 2748: 7055.0, 4201: 7038.0, 2680: 7031.0, 2670: 7012.0, 2456: 7000.0, 11246: 6997.0, 3683: 6972.0, 939: 6968.0, 645: 6941.0, 935: 6937.0, 2724: 6926.0, 2198: 6904.0, 924: 6899.0, 1394: 6897.0, 1120: 6888.0, 805: 6857.0, 2798: 6834.0, 1499: 6801.0, 2256: 6763.0, 548: 6744.0, 1117: 6736.0, 2393: 6712.0, 1130: 6693.0, 1335: 6691.0, 1556: 6691.0, 2848: 6687.0, 3695: 6679.0, 2883: 6674.0, 1787: 6669.0, 3168: 6650.0, 2260: 6638.0, 4195: 6616.0, 2978: 6558.0, 1664: 6542.0, 1986: 6534.0, 1798: 6527.0, 770: 6523.0, 2803: 6521.0, 759: 6518.0, 1182: 6491.0, 2662: 6486.0, 552: 6485.0, 9079: 6446.0, 1005: 6430.0, 697: 6427.0, 1119: 6427.0, 43: 6424.0, 2200: 6414.0, 1776: 6402.0, 1176: 6372.0, 241: 6366.0, 34: 6325.0, 6243: 6319.0, 1948: 6317.0, 838: 6315.0, 1699: 6305.0, 3005: 6284.0, 917: 6268.0, 4213: 6261.0, 898: 6256.0, 3214: 6218.0, 1213: 6215.0, 3572: 6204.0, 1179: 6194.0, 845: 6157.0, 1169: 6156.0, 948: 6153.0, 1123: 6127.0, 244: 6108.0, 11289: 6074.0, 10396: 6060.0, 1656: 6056.0, 1294: 6043.0, 4214: 6032.0, 1694: 6028.0, 2188: 5961.0, 1065: 5960.0, 1614: 5955.0, 1397: 5937.0, 1965: 5907.0, 7615: 5906.0, 911: 5870.0, 617: 5847.0, 866: 5843.0, 1106: 5835.0, 3: 5832.0, 2999: 5816.0, 6630: 5815.0, 1854: 5812.0, 2568: 5808.0, 5615: 5787.0, 902: 5778.0, 559: 5761.0, 1191: 5754.0, 529: 5737.0, 7676: 5713.0, 10430: 5712.0, 2279: 5710.0, 1105: 5706.0, 1425: 5704.0, 1959: 5701.0, 1158: 5693.0, 1638: 5660.0, 880: 5653.0, 2507: 5637.0, 1564: 5629.0, 910: 5617.0, 2294: 5610.0, 1215: 5581.0, 644: 5580.0, 8251: 5575.0, 743: 5572.0, 1705: 5558.0, 2321: 5558.0, 1586: 5540.0, 2636: 5540.0, 2293: 5534.0, 5012: 5533.0, 1598: 5526.0, 2915: 5523.0, 1395: 5483.0, 1511: 5482.0, 1933: 5469.0, 1684: 5462.0, 6053: 5458.0, 5533: 5449.0, 2746: 5433.0, 4022: 5428.0, 7631: 5422.0, 1911: 5408.0, 6411: 5405.0, 13715: 5374.0, 650: 5371.0, 1367: 5371.0, 3922: 5370.0, 3105: 5361.0, 3323: 5317.0, 6693: 5316.0, 6293: 5306.0, 903: 5303.0, 1428: 5303.0, 692: 5291.0, 985: 5276.0, 2979: 5276.0, 1202: 5253.0, 2802: 5248.0, 1084: 5236.0, 2446: 5228.0, 1889: 5220.0, 1605: 5194.0, 1201: 5181.0, 886: 5178.0, 2320: 5178.0, 713: 5171.0, 6329: 5169.0, 6291: 5160.0, 6304: 5159.0, 3039: 5146.0, 1086: 5145.0, 675: 5134.0, 4413: 5132.0, 3257: 5126.0, 5653: 5120.0, 3549: 5119.0, 4147: 5116.0, 2794: 5114.0, 2246: 5112.0, 1527: 5105.0, 2562: 5083.0, 1127: 5053.0, 1452: 5040.0, 1315: 5037.0, 10287: 5031.0, 1429: 5027.0, 4710: 5010.0, 4241: 5003.0, 592: 5000.0, 1833: 4993.0, 3109: 4982.0, 593: 4973.0, 4173: 4963.0, 3151: 4953.0, 2782: 4950.0, 1116: 4933.0, 1331: 4932.0, 528: 4928.0, 1964: 4924.0, 2808: 4887.0, 5793: 4881.0, 2452: 4877.0, 531: 4872.0, 1164: 4865.0, 447: 4862.0, 11018: 4847.0, 442: 4838.0, 1402: 4831.0, 8260: 4822.0, 1109: 4816.0, 11248: 4814.0, 2365: 4804.0, 13881: 4799.0, 1300: 4792.0, 4695: 4790.0, 941: 4777.0, 2227: 4775.0, 658: 4760.0, 434: 4750.0, 1088: 4747.0, 1137: 4735.0, 7465: 4732.0, 1317: 4729.0, 4914: 4726.0, 1413: 4701.0, 1773: 4679.0, 1229: 4659.0, 2996: 4653.0, 594: 4646.0, 9541: 4637.0, 458: 4636.0, 1707: 4633.0, 1759: 4628.0, 7562: 4614.0, 1919: 4593.0, 5891: 4589.0, 6554: 4581.0, 4621: 4580.0, 303: 4577.0, 4218: 4574.0, 1823: 4567.0, 1297: 4561.0, 1967: 4558.0, 5776: 4555.0, 2801: 4553.0, 2180: 4543.0, 2617: 4541.0, 3053: 4525.0, 7464: 4505.0, 638: 4502.0, 4675: 4492.0, 237: 4487.0, 8448: 4468.0, 1233: 4464.0, 2512: 4464.0, 6542: 4452.0, 2727: 4451.0, 1829: 4449.0, 4314: 4447.0, 6389: 4446.0, 3206: 4443.0, 1436: 4436.0, 660: 4434.0, 1838: 4420.0, 1027: 4411.0, 772: 4406.0, 2947: 4406.0, 946: 4398.0, 347: 4396.0, 9979: 4379.0, 4417: 4362.0, 3127: 4351.0, 1098: 4350.0, 10560: 4349.0, 2465: 4337.0, 3155: 4308.0, 10330: 4304.0, 504: 4294.0, 6424: 4291.0, 683: 4290.0, 1000: 4285.0, 1196: 4284.0, 582: 4277.0, 3050: 4272.0, 6547: 4270.0, 3557: 4257.0, 1943: 4253.0, 1709: 4249.0, 1286: 4247.0, 3119: 4234.0, 5226: 4214.0, 1809: 4211.0, 8723: 4203.0, 6433: 4198.0, 2085: 4193.0, 1181: 4189.0, 1631: 4183.0, 4640: 4179.0, 4853: 4177.0, 1030: 4176.0, 6225: 4165.0, 1338: 4163.0, 1180: 4162.0, 2186: 4148.0, 8540: 4134.0, 775: 4131.0, 1898: 4131.0, 323: 4116.0, 3488: 4113.0, 632: 4111.0, 4659: 4104.0, 8002: 4103.0, 9394: 4103.0, 1236: 4101.0, 5231: 4092.0, 4371: 4077.0, 1275: 4075.0, 3420: 4071.0, 3198: 4056.0, 2672: 4047.0, 223: 4043.0, 6512: 4041.0, 3192: 4035.0, 913: 4034.0, 3275: 4031.0, 3080: 4023.0, 1231: 4017.0, 11261: 4013.0, 2216: 4010.0, 5848: 4007.0, 2184: 4005.0, 2105: 4002.0, 1549: 3996.0, 12573: 3980.0, 1710: 3965.0, 1954: 3958.0, 1810: 3956.0, 588: 3951.0, 6319: 3946.0, 5106: 3945.0, 7574: 3937.0, 3171: 3934.0, 949: 3931.0, 2165: 3930.0, 8724: 3928.0, 6350: 3927.0, 8168: 3925.0, 4102: 3921.0, 1096: 3920.0, 928: 3919.0, 2209: 3916.0, 160: 3893.0, 6233: 3893.0, 7456: 3890.0, 1922: 3886.0, 647: 3885.0, 5288: 3883.0, 4286: 3878.0, 1118: 3874.0, 1081: 3861.0, 2876: 3861.0, 13511: 3857.0, 4236: 3844.0, 532: 3836.0, 6619: 3825.0, 1250: 3824.0, 4831: 3821.0, 962: 3811.0, 4103: 3809.0, 3000: 3806.0, 3353: 3805.0, 656: 3802.0, 1305: 3801.0, 2151: 3801.0, 1216: 3786.0, 942: 3779.0, 2807: 3779.0, 2839: 3778.0, 927: 3775.0, 4438: 3773.0, 7642: 3768.0, 6256: 3766.0, 4333: 3747.0, 1171: 3741.0, 176: 3740.0, 2307: 3736.0, 6351: 3726.0, 6881: 3725.0, 6323: 3722.0, 1484: 3718.0, 1126: 3715.0, 10070: 3714.0, 1230: 3711.0, 4982: 3709.0, 1843: 3708.0, 5119: 3702.0, 2556: 3698.0, 6501: 3692.0, 966: 3687.0, 2892: 3673.0, 5587: 3659.0, 4903: 3655.0, 1713: 3650.0, 1486: 3634.0, 2688: 3631.0, 518: 3621.0, 780: 3616.0, 5066: 3608.0, 2762: 3604.0, 3172: 3604.0, 3006: 3591.0, 1093: 3585.0, 2088: 3581.0, 2434: 3580.0, 435: 3578.0, 1469: 3559.0, 219: 3541.0, 715: 3528.0, 4303: 3525.0, 6079: 3525.0, 8820: 3523.0, 4: 3518.0, 3948: 3512.0, 2986: 3505.0, 1808: 3493.0, 8367: 3484.0, 7272: 3482.0, 5238: 3477.0, 6458: 3473.0, 296: 3454.0, 932: 3448.0, 1174: 3447.0, 857: 3444.0, 3555: 3441.0, 850: 3434.0, 2506: 3426.0, 3640: 3420.0, 6412: 3410.0, 2835: 3409.0, 2879: 3409.0, 140: 3408.0, 2643: 3399.0, 1220: 3398.0, 1165: 3396.0, 6962: 3393.0, 921: 3386.0, 7270: 3380.0, 1513: 3379.0, 1842: 3376.0, 2729: 3369.0, 635: 3368.0, 1129: 3359.0, 2634: 3358.0, 622: 3348.0, 3510: 3339.0, 1944: 3338.0, 2207: 3337.0, 2880: 3337.0, 5005: 3330.0, 1203: 3326.0, 5022: 3326.0, 7351: 3323.0, 621: 3321.0, 2752: 3320.0, 7932: 3319.0, 3185: 3316.0, 817: 3314.0, 2872: 3306.0, 1750: 3294.0, 7738: 3287.0, 2451: 3286.0, 2487: 3278.0, 5646: 3275.0, 7130: 3274.0, 615: 3270.0, 865: 3261.0, 6786: 3261.0, 2685: 3260.0, 802: 3256.0, 1678: 3253.0, 1738: 3252.0, 708: 3243.0, 6288: 3231.0, 726: 3226.0, 3157: 3218.0, 199: 3203.0, 3687: 3203.0, 1782: 3202.0, 2297: 3201.0, 876: 3195.0, 2136: 3183.0, 1766: 3170.0, 520: 3168.0, 2427: 3168.0, 5850: 3156.0, 1504: 3151.0, 1525: 3147.0, 1671: 3147.0, 6416: 3147.0, 1762: 3142.0, 1194: 3141.0, 1859: 3136.0, 2248: 3136.0, 7507: 3133.0, 2574: 3132.0, 10573: 3126.0, 1771: 3123.0, 2498: 3116.0, 1447: 3115.0, 3011: 3115.0, 3321: 3114.0, 5890: 3099.0, 2514: 3096.0, 6310: 3096.0, 2: 3093.0, 13933: 3085.0, 1765: 3084.0, 4159: 3081.0, 2330: 3064.0, 5140: 3058.0, 5364: 3052.0, 3096: 3045.0, 1128: 3039.0, 1975: 3036.0, 1385: 3034.0, 337: 3027.0, 3123: 3027.0, 1132: 3026.0, 952: 3019.0, 1289: 3014.0, 885: 3010.0, 6509: 3008.0, 324: 3007.0, 923: 3004.0, 929: 3003.0, 8685: 2997.0, 676: 2996.0, 3757: 2995.0, 406: 2994.0, 1076: 2994.0, 853: 2992.0, 1540: 2992.0, 970: 2987.0, 1136: 2985.0, 4269: 2977.0, 2367: 2975.0, 2412: 2975.0, 2717: 2971.0, 1104: 2969.0, 6826: 2967.0, 2738: 2963.0, 2589: 2962.0, 1523: 2957.0, 3040: 2935.0, 1299: 2932.0, 8362: 2932.0, 1712: 2922.0, 4109: 2922.0, 2324: 2921.0, 7555: 2919.0, 2844: 2914.0, 2376: 2905.0, 201: 2903.0, 7774: 2897.0, 4280: 2895.0, 15969: 2895.0, 7133: 2888.0, 3245: 2869.0, 152: 2866.0, 1284: 2859.0, 9397: 2857.0, 3735: 2854.0, 7460: 2851.0, 1599: 2845.0, 1557: 2842.0, 7646: 2840.0, 680: 2839.0, 10212: 2839.0, 11164: 2838.0, 5211: 2835.0, 907: 2822.0, 4336: 2821.0, 2257: 2818.0, 750: 2804.0, 5594: 2802.0, 1124: 2801.0, 1163: 2798.0, 10345: 2796.0, 7699: 2789.0, 6544: 2788.0, 3308: 2785.0, 2866: 2783.0, 7813: 2780.0, 1228: 2772.0, 13483: 2772.0, 6312: 2770.0, 93: 2767.0, 2583: 2766.0, 3399: 2765.0, 4013: 2765.0, 4156: 2765.0, 5090: 2758.0, 2176: 2755.0, 2373: 2752.0, 5767: 2752.0, 2925: 2751.0, 1625: 2750.0, 1199: 2746.0, 6546: 2743.0, 1815: 2741.0, 4233: 2739.0, 4149: 2732.0, 7118: 2732.0, 1234: 2728.0, 653: 2718.0, 819: 2716.0, 2229: 2716.0, 8134: 2711.0, 908: 2708.0, 702: 2707.0, 1431: 2707.0, 2028: 2707.0, 2052: 2707.0, 4618: 2707.0, 637: 2705.0, 564: 2703.0, 633: 2701.0, 2723: 2701.0, 718: 2700.0, 700: 2698.0, 2325: 2697.0, 807: 2691.0, 4774: 2683.0, 6436: 2675.0, 6599: 2674.0, 3302: 2671.0, 5843: 2670.0, 1648: 2666.0, 3384: 2663.0, 7001: 2654.0, 3602: 2651.0, 6042: 2649.0, 4139: 2646.0, 6071: 2641.0, 1170: 2639.0, 3028: 2635.0, 1683: 2633.0, 711: 2627.0, 1506: 2626.0, 3662: 2623.0, 2140: 2620.0, 1360: 2613.0, 1743: 2605.0, 9613: 2605.0, 2035: 2598.0, 3503: 2595.0, 1121: 2592.0, 6133: 2592.0, 7604: 2586.0, 7192: 2578.0, 8705: 2577.0, 909: 2576.0, 1914: 2576.0, 2288: 2576.0, 5695: 2573.0, 915: 2572.0, 6499: 2572.0, 678: 2570.0, 1175: 2570.0, 1247: 2565.0, 914: 2559.0, 2472: 2557.0, 2650: 2555.0, 5558: 2555.0, 897: 2545.0, 2580: 2544.0, 3290: 2544.0, 8365: 2538.0, 315: 2536.0, 814: 2536.0, 2661: 2532.0, 3021: 2530.0, 6318: 2529.0, 2972: 2527.0, 1600: 2518.0, 4203: 2508.0, 6289: 2500.0, 1507: 2491.0, 249: 2488.0, 508: 2488.0, 3309: 2482.0, 7550: 2482.0, 882: 2480.0, 1401: 2479.0, 872: 2478.0, 2391: 2476.0, 9961: 2474.0, 2357: 2472.0, 7616: 2470.0, 2992: 2469.0, 1931: 2464.0, 2816: 2461.0, 3675: 2460.0, 8491: 2454.0, 2247: 2453.0, 1204: 2450.0, 2350: 2448.0, 753: 2440.0, 1166: 2438.0, 3184: 2436.0, 8507: 2433.0, 8605: 2425.0, 1: 2424.0, 3839: 2421.0, 842: 2420.0, 2338: 2420.0, 6736: 2419.0, 4356: 2415.0, 3026: 2410.0, 6906: 2409.0, 7005: 2407.0, 4910: 2405.0, 800: 2404.0, 4152: 2402.0, 1768: 2396.0, 2663: 2396.0, 781: 2393.0, 1920: 2393.0, 6317: 2393.0, 1696: 2391.0, 3983: 2389.0, 1639: 2387.0, 2334: 2381.0, 5420: 2381.0, 2894: 2377.0, 6688: 2374.0, 8391: 2374.0, 2596: 2361.0, 2988: 2354.0, 1178: 2344.0, 1602: 2343.0, 73: 2339.0, 1210: 2339.0, 5541: 2339.0, 6518: 2339.0, 1819: 2337.0, 6481: 2334.0, 6181: 2333.0, 2486: 2332.0, 3142: 2331.0, 3163: 2327.0, 6468: 2325.0, 3320: 2321.0, 10190: 2314.0, 1670: 2310.0, 4270: 2310.0, 6132: 2310.0, 6399: 2302.0, 1113: 2299.0, 745: 2297.0, 1459: 2297.0, 6549: 2293.0, 1666: 2285.0, 261: 2281.0, 132: 2278.0, 6495: 2278.0, 664: 2275.0, 3413: 2269.0, 3059: 2268.0, 2790: 2266.0, 1868: 2264.0, 13943: 2263.0, 6000: 2262.0, 6783: 2261.0, 6753: 2256.0, 8493: 2256.0, 1422: 2254.0, 1256: 2251.0, 2789: 2247.0, 2560: 2242.0, 730: 2237.0, 5616: 2233.0, 3019: 2231.0, 1248: 2230.0, 6643: 2230.0, 9992: 2224.0, 1617: 2221.0, 6056: 2220.0, 6392: 2218.0, 766: 2214.0, 1406: 2213.0, 463: 2212.0, 4717: 2205.0, 4672: 2199.0, 2753: 2193.0, 158: 2190.0, 7575: 2188.0, 5114: 2181.0, 628: 2180.0, 2733: 2176.0, 7289: 2176.0, 3344: 2170.0, 3647: 2168.0, 3663: 2165.0, 2641: 2164.0, 3868: 2158.0, 3885: 2155.0, 5390: 2149.0, 8644: 2149.0, 3578: 2148.0, 2036: 2145.0, 5263: 2142.0, 1595: 2139.0, 598: 2131.0, 3160: 2131.0, 5318: 2130.0, 8837: 2121.0, 10306: 2121.0, 1185: 2120.0, 3287: 2114.0, 111: 2112.0, 5096: 2110.0, 2569: 2109.0, 6510: 2109.0, 887: 2106.0, 12479: 2106.0, 8153: 2101.0, 7369: 2099.0, 2751: 2095.0, 2859: 2095.0, 3204: 2095.0, 8623: 2095.0, 377: 2093.0, 2100: 2080.0, 6391: 2076.0, 1340: 2074.0, 1474: 2073.0, 2963: 2072.0, 11709: 2072.0, 1432: 2069.0, 8067: 2068.0, 4742: 2062.0, 13947: 2052.0, 1673: 2048.0, 3100: 2042.0, 2265: 2038.0, 3648: 2038.0, 17339: 2037.0, 5624: 2033.0, 202: 2032.0, 2292: 2029.0, 4178: 2027.0, 6507: 2027.0, 8508: 2010.0, 4781: 2007.0, 6355: 2006.0, 2364: 2003.0, 1238: 1995.0, 527: 1994.0, 703: 1994.0, 701: 1993.0, 3618: 1985.0, 6764: 1985.0, 6435: 1984.0, 1777: 1983.0, 4986: 1983.0, 1303: 1979.0, 6552: 1978.0, 6337: 1977.0, 208: 1976.0, 3638: 1972.0, 1635: 1971.0, 3649: 1970.0, 1347: 1968.0, 3354: 1968.0, 12126: 1967.0, 1904: 1961.0, 6787: 1960.0, 5139: 1957.0, 535: 1955.0, 717: 1955.0, 8077: 1948.0, 1611: 1940.0, 1541: 1939.0, 4715: 1936.0, 5967: 1934.0, 2306: 1933.0, 5118: 1933.0, 661: 1932.0, 3372: 1931.0, 1702: 1926.0, 5284: 1925.0, 5080: 1923.0, 4468: 1921.0, 10268: 1913.0, 2201: 1912.0, 2214: 1907.0, 1899: 1906.0, 8671: 1906.0, 5596: 1905.0, 7714: 1901.0, 2522: 1899.0, 8497: 1899.0, 11011: 1899.0, 1887: 1898.0, 1311: 1897.0, 7510: 1895.0, 2796: 1891.0, 944: 1888.0, 4288: 1888.0, 6716: 1883.0, 1584: 1882.0, 2612: 1879.0, 6673: 1877.0, 2613: 1873.0, 12237: 1873.0, 5837: 1870.0, 3183: 1868.0, 3944: 1867.0, 688: 1866.0, 2270: 1866.0, 1197: 1865.0, 844: 1861.0, 6129: 1860.0, 1205: 1858.0, 7605: 1858.0, 9251: 1856.0, 15342: 1853.0, 7337: 1852.0, 8390: 1852.0, 1375: 1851.0, 1693: 1851.0, 7431: 1851.0, 12239: 1849.0, 8505: 1847.0, 1742: 1845.0, 1955: 1843.0, 12128: 1842.0, 10256: 1840.0, 2618: 1838.0, 1770: 1837.0, 10069: 1837.0, 5875: 1836.0, 2815: 1833.0, 4188: 1832.0, 2607: 1830.0, 4934: 1828.0, 10683: 1825.0, 3306: 1824.0, 560: 1821.0, 1341: 1819.0, 4192: 1819.0, 919: 1818.0, 6595: 1815.0, 7065: 1813.0, 10028: 1813.0, 673: 1811.0, 7547: 1811.0, 3209: 1808.0, 2837: 1804.0, 311: 1803.0, 275: 1802.0, 1953: 1796.0, 8426: 1795.0, 6297: 1790.0, 1891: 1788.0, 173: 1786.0, 1099: 1785.0, 4667: 1785.0, 5104: 1785.0, 864: 1784.0, 1885: 1782.0, 354: 1781.0, 1272: 1781.0, 7725: 1772.0, 3266: 1771.0, 2853: 1770.0, 2671: 1768.0, 4287: 1763.0, 2586: 1760.0, 4958: 1755.0, 2224: 1754.0, 1674: 1749.0, 7320: 1748.0, 7480: 1747.0, 7608: 1745.0, 10180: 1744.0, 689: 1739.0, 7045: 1739.0, 7772: 1739.0, 4180: 1736.0, 1836: 1734.0, 8633: 1733.0, 10128: 1732.0, 2697: 1730.0, 1466: 1727.0, 3915: 1727.0, 2805: 1723.0, 6491: 1717.0, 4750: 1716.0, 5555: 1716.0, 2163: 1712.0, 1456: 1710.0, 1535: 1707.0, 2046: 1707.0, 1555: 1706.0, 4008: 1705.0, 2275: 1704.0, 10000: 1702.0, 5732: 1701.0, 5536: 1700.0, 3691: 1698.0, 2092: 1696.0, 6213: 1696.0, 5704: 1695.0, 3363: 1690.0, 6596: 1690.0, 585: 1688.0, 40: 1686.0, 1131: 1686.0, 7309: 1685.0, 6550: 1678.0, 2806: 1677.0, 530: 1676.0, 7623: 1674.0, 2734: 1670.0, 1865: 1668.0, 4077: 1668.0, 5524: 1668.0, 16269: 1667.0, 5915: 1665.0, 1928: 1663.0, 5919: 1658.0, 13547: 1655.0, 1322: 1650.0, 6407: 1650.0, 2078: 1649.0, 2928: 1649.0, 8450: 1647.0, 2190: 1643.0, 2858: 1643.0, 2669: 1635.0, 5085: 1635.0, 489: 1634.0, 6306: 1634.0, 1412: 1631.0, 2814: 1628.0, 7126: 1624.0, 684: 1620.0, 959: 1619.0, 5715: 1619.0, 2322: 1618.0, 10226: 1618.0, 4842: 1614.0, 5874: 1612.0, 6699: 1610.0, 1369: 1608.0, 10340: 1604.0, 2800: 1602.0, 6638: 1602.0, 6540: 1599.0, 930: 1597.0, 2871: 1597.0, 135: 1592.0, 9479: 1589.0, 7668: 1588.0, 4177: 1585.0, 7116: 1585.0, 7375: 1585.0, 539: 1583.0, 2339: 1583.0, 4917: 1580.0, 264: 1576.0, 1813: 1575.0, 6747: 1573.0, 7509: 1573.0, 2103: 1572.0, 9600: 1572.0, 1049: 1571.0, 3117: 1571.0, 4700: 1570.0, 1100: 1568.0, 1102: 1567.0, 5833: 1565.0, 6527: 1565.0, 7143: 1561.0, 4804: 1560.0, 6707: 1559.0, 5996: 1558.0, 1708: 1554.0, 2372: 1553.0, 1538: 1552.0, 2537: 1552.0, 171: 1547.0, 7732: 1546.0, 7249: 1544.0, 3136: 1540.0, 3516: 1540.0, 2252: 1537.0, 2473: 1532.0, 1302: 1529.0, 2578: 1529.0, 178: 1526.0, 4898: 1525.0, 7138: 1523.0, 5417: 1522.0, 1085: 1520.0, 3862: 1518.0, 4486: 1518.0, 5756: 1517.0, 6274: 1515.0, 2581: 1510.0, 3879: 1507.0, 4179: 1500.0, 4586: 1500.0, 6910: 1498.0, 4997: 1497.0, 8823: 1495.0, 314: 1491.0, 2923: 1490.0, 3519: 1489.0, 7401: 1488.0, 5737: 1484.0, 9320: 1477.0, 642: 1476.0, 2509: 1473.0, 1681: 1472.0, 2905: 1471.0, 2797: 1469.0, 7815: 1469.0, 5082: 1463.0, 3539: 1462.0, 4164: 1457.0, 6442: 1454.0, 1985: 1449.0, 509: 1448.0, 5649: 1442.0, 8640: 1440.0, 859: 1432.0, 7290: 1431.0, 1529: 1430.0, 1574: 1430.0, 2833: 1427.0, 12675: 1427.0, 3203: 1426.0, 2122: 1425.0, 1235: 1424.0, 4095: 1424.0, 4549: 1422.0, 5300: 1422.0, 556: 1421.0, 1368: 1419.0, 7984: 1415.0, 1629: 1414.0, 2290: 1410.0, 2579: 1410.0, 1587: 1408.0, 6153: 1407.0, 6475: 1407.0, 2075: 1406.0, 517: 1405.0, 5127: 1400.0, 1404: 1399.0, 4291: 1395.0, 2531: 1394.0, 5934: 1389.0, 2658: 1388.0, 5701: 1384.0, 631: 1383.0, 1793: 1382.0, 4347: 1381.0, 6911: 1380.0, 786: 1379.0, 9097: 1377.0, 4999: 1376.0, 8301: 1375.0, 956: 1369.0, 863: 1367.0, 2854: 1367.0, 1821: 1362.0, 3355: 1362.0, 6905: 1362.0, 2510: 1361.0, 1479: 1358.0, 4245: 1357.0, 3841: 1355.0, 3657: 1353.0, 2665: 1352.0, 1552: 1345.0, 2567: 1344.0, 1411: 1342.0, 6644: 1339.0, 10392: 1338.0, 627: 1336.0, 1992: 1335.0, 10643: 1335.0, 4889: 1334.0, 7894: 1330.0, 785: 1327.0, 2980: 1319.0, 10042: 1317.0, 922: 1316.0, 5924: 1315.0, 9804: 1311.0, 7649: 1310.0, 2204: 1309.0, 686: 1305.0, 1462: 1295.0, 2369: 1295.0, 2728: 1293.0, 1902: 1292.0, 5067: 1292.0, 519: 1289.0, 1884: 1289.0, 10071: 1289.0, 3783: 1287.0, 848: 1283.0, 6720: 1283.0, 10285: 1282.0, 5450: 1281.0, 385: 1278.0, 5100: 1277.0, 14485: 1273.0, 796: 1272.0, 2305: 1271.0, 1225: 1268.0, 1620: 1268.0, 4274: 1267.0, 5970: 1266.0, 2377: 1264.0, 1358: 1263.0, 9556: 1263.0, 2953: 1262.0, 1534: 1261.0, 3337: 1261.0, 1522: 1259.0, 843: 1257.0, 1125: 1257.0, 1569: 1256.0, 732: 1255.0, 1449: 1255.0, 5055: 1253.0, 5791: 1253.0, 3526: 1252.0, 7710: 1250.0, 11694: 1246.0, 6146: 1241.0, 3116: 1239.0, 6420: 1237.0, 1288: 1233.0, 6869: 1230.0, 826: 1228.0, 1141: 1227.0, 3991: 1223.0, 8459: 1221.0, 8487: 1221.0, 5485: 1220.0, 3223: 1219.0, 7073: 1216.0, 626: 1213.0, 3514: 1212.0, 10169: 1212.0, 2647: 1208.0, 3336: 1208.0, 1935: 1207.0, 7440: 1206.0, 2445: 1205.0, 2572: 1204.0, 8333: 1199.0, 2856: 1195.0, 3030: 1193.0, 169: 1190.0, 14: 1188.0, 11251: 1188.0, 724: 1187.0, 971: 1187.0, 584: 1185.0, 6983: 1185.0, 3820: 1183.0, 10027: 1183.0, 10848: 1182.0, 3585: 1180.0, 5738: 1180.0, 2254: 1179.0, 3971: 1174.0, 7127: 1174.0, 10185: 1172.0, 7161: 1171.0, 9768: 1171.0, 1824: 1169.0, 2597: 1167.0, 4782: 1167.0, 3360: 1163.0, 4311: 1162.0, 555: 1161.0, 2638: 1161.0, 5878: 1161.0, 2657: 1160.0, 2995: 1157.0, 5531: 1157.0, 6300: 1153.0, 371: 1152.0, 1111: 1148.0, 10224: 1148.0, 1558: 1147.0, 7044: 1145.0, 5343: 1144.0, 7055: 1144.0, 5544: 1139.0, 8298: 1139.0, 10079: 1138.0, 7171: 1137.0, 3632: 1136.0, 3848: 1134.0, 2810: 1132.0, 992: 1131.0, 2861: 1128.0, 3013: 1127.0, 163: 1126.0, 1361: 1125.0, 7713: 1125.0, 5918: 1124.0, 11342: 1123.0, 3590: 1116.0, 6947: 1115.0, 3113: 1113.0, 5667: 1113.0, 4049: 1112.0, 4246: 1110.0, 4065: 1108.0, 4687: 1107.0, 5610: 1105.0, 1148: 1104.0, 2508: 1104.0, 47: 1103.0, 1333: 1102.0, 8034: 1102.0, 691: 1098.0, 7111: 1096.0, 696: 1094.0, 1956: 1093.0, 1526: 1092.0, 5098: 1091.0, 7268: 1089.0, 5528: 1081.0, 4977: 1077.0, 3243: 1076.0, 7403: 1076.0, 5: 1072.0, 1662: 1069.0, 4206: 1068.0, 3037: 1065.0, 1240: 1064.0, 6592: 1062.0, 2682: 1061.0, 7402: 1061.0, 4089: 1058.0, 1957: 1055.0, 4595: 1054.0, 8392: 1054.0, 3710: 1053.0, 6722: 1052.0, 12920: 1052.0, 13531: 1052.0, 6511: 1050.0, 10961: 1049.0, 2868: 1047.0, 2444: 1045.0, 6651: 1039.0, 7368: 1038.0, 1471: 1036.0, 165: 1035.0, 2664: 1035.0, 2284: 1034.0, 7729: 1034.0, 624: 1033.0, 829: 1032.0, 1334: 1032.0, 2087: 1032.0, 32: 1030.0, 4915: 1030.0, 2299: 1029.0, 5376: 1029.0, 3873: 1027.0, 10952: 1026.0, 5794: 1024.0, 3232: 1023.0, 4785: 1023.0, 2840: 1021.0, 6590: 1019.0, 1211: 1007.0, 2706: 1006.0, 8036: 1005.0, 1652: 1004.0, 7339: 1004.0, 345: 1000.0, 309: 998.0, 3104: 997.0, 6798: 996.0, 1328: 995.0, 5761: 995.0, 1567: 994.0, 17324: 993.0, 963: 992.0, 6849: 992.0, 8465: 991.0, 13042: 991.0, 1193: 989.0, 1089: 986.0, 3132: 984.0, 1212: 982.0, 2042: 982.0, 3736: 982.0, 5514: 982.0, 1578: 978.0, 1530: 970.0, 1980: 970.0, 4092: 970.0, 12937: 970.0, 783: 969.0, 2282: 965.0, 2034: 964.0, 510: 963.0, 4266: 963.0, 5537: 963.0, 3980: 962.0, 3502: 960.0, 2213: 959.0, 2327: 957.0, 1149: 956.0, 3658: 956.0, 1396: 951.0, 3453: 951.0, 6044: 946.0, 3097: 945.0, 1092: 941.0, 5147: 938.0, 5381: 938.0, 7734: 938.0, 3303: 936.0, 7439: 936.0, 6951: 935.0, 3156: 934.0, 1133: 929.0, 5847: 927.0, 5169: 926.0, 10311: 926.0, 13706: 925.0, 823: 924.0, 452: 920.0, 599: 920.0, 2070: 918.0, 2857: 918.0, 1572: 917.0, 2206: 917.0, 5167: 917.0, 7785: 917.0, 2093: 915.0, 3543: 913.0, 5441: 913.0, 6913: 912.0, 4275: 909.0, 5604: 909.0, 10901: 906.0, 3301: 905.0, 1296: 904.0, 5631: 904.0, 1509: 903.0, 10331: 902.0, 7689: 899.0, 2820: 896.0, 2489: 895.0, 1519: 893.0, 12235: 891.0, 8341: 890.0, 12131: 890.0, 2328: 888.0, 5674: 884.0, 12620: 880.0, 5694: 879.0, 2211: 876.0, 2358: 876.0, 281: 874.0, 707: 870.0, 3395: 868.0, 4304: 868.0, 2660: 867.0, 6639: 864.0, 5718: 860.0, 1835: 858.0, 4225: 856.0, 1942: 851.0, 7687: 846.0, 6815: 845.0, 7852: 844.0, 13032: 843.0, 6189: 842.0, 10385: 842.0, 3366: 841.0, 1774: 840.0, 3464: 840.0, 3697: 835.0, 550: 828.0, 4440: 828.0, 9983: 828.0, 1405: 827.0, 131: 825.0, 5870: 825.0, 1421: 822.0, 8500: 822.0, 4631: 819.0, 7108: 819.0, 6799: 818.0, 695: 817.0, 3569: 817.0, 7142: 813.0, 3714: 812.0, 8536: 812.0, 167: 808.0, 912: 807.0, 524: 806.0, 5712: 806.0, 8499: 806.0, 3535: 805.0, 246: 804.0, 7225: 802.0, 10260: 801.0, 14546: 801.0, 1761: 799.0, 3840: 796.0, 226: 795.0, 5926: 795.0, 7132: 793.0, 596: 790.0, 5342: 790.0, 18192: 790.0, 7083: 786.0, 2887: 785.0, 24895: 783.0, 5064: 782.0, 7364: 782.0, 10930: 782.0, 2552: 780.0, 1913: 778.0, 8388: 778.0, 1108: 773.0, 5180: 773.0, 6743: 770.0, 2741: 769.0, 15153: 767.0, 2526: 765.0, 13288: 765.0, 343: 764.0, 2653: 764.0, 2245: 763.0, 5929: 761.0, 3334: 758.0, 7420: 758.0, 5686: 754.0, 8501: 752.0, 2300: 745.0, 5958: 742.0, 3187: 740.0, 3350: 739.0, 6139: 734.0, 15526: 734.0, 831: 732.0, 4279: 728.0, 7135: 728.0, 1517: 726.0, 5927: 726.0, 37: 725.0, 1337: 725.0, 10500: 722.0, 2768: 720.0, 7435: 720.0, 2097: 718.0, 6686: 718.0, 5472: 717.0, 6182: 717.0, 7579: 717.0, 450: 714.0, 553: 712.0, 1633: 710.0, 1292: 708.0, 2659: 708.0, 10978: 708.0, 6057: 707.0, 901: 706.0, 2726: 706.0, 5314: 704.0, 4339: 702.0, 7051: 701.0, 1661: 700.0, 4362: 700.0, 2303: 698.0, 8716: 694.0, 12985: 692.0, 1886: 691.0, 2731: 690.0, 810: 687.0, 6208: 686.0, 8174: 686.0, 8535: 686.0, 304: 685.0, 7583: 685.0, 8502: 685.0, 5689: 681.0, 7801: 678.0, 6960: 677.0, 12580: 676.0, 579: 674.0, 567: 672.0, 1155: 671.0, 10318: 669.0, 2687: 666.0, 2666: 659.0, 8460: 659.0, 16178: 655.0, 4307: 646.0, 1323: 644.0, 1877: 643.0, 7261: 639.0, 6292: 638.0, 6545: 636.0, 1267: 635.0, 5741: 634.0, 1976: 633.0, 4392: 631.0, 10010: 630.0, 2032: 624.0, 799: 622.0, 3645: 622.0, 10572: 621.0, 6929: 618.0, 10707: 617.0, 3211: 616.0, 4342: 616.0, 10127: 616.0, 4153: 615.0, 5388: 614.0, 6081: 613.0, 5448: 610.0, 7144: 610.0, 5896: 609.0, 4911: 605.0, 4357: 601.0, 1310: 600.0, 1265: 599.0, 3660: 597.0, 6729: 597.0, 8181: 597.0, 7577: 596.0, 8377: 596.0, 1571: 595.0, 3659: 595.0, 2933: 592.0, 6036: 591.0, 2799: 589.0, 4224: 588.0, 2899: 586.0, 1274: 581.0, 2069: 581.0, 8532: 581.0, 98: 580.0, 1940: 580.0, 224: 579.0, 2795: 579.0, 9839: 579.0, 7684: 577.0, 6891: 573.0, 893: 572.0, 6029: 570.0, 6294: 570.0, 2423: 569.0, 3348: 568.0, 9422: 563.0, 6: 560.0, 10939: 560.0, 10018: 559.0, 4293: 558.0, 6995: 558.0, 229: 557.0, 3524: 557.0, 4080: 557.0, 213: 554.0, 5156: 554.0, 3065: 549.0, 6616: 549.0, 1494: 548.0, 7094: 548.0, 705: 547.0, 3670: 542.0, 3571: 541.0, 3084: 540.0, 7210: 537.0, 2977: 531.0, 3688: 531.0, 6037: 529.0, 2865: 528.0, 764: 525.0, 2668: 525.0, 3082: 522.0, 6725: 522.0, 14575: 521.0, 1503: 517.0, 8075: 514.0, 10891: 514.0, 2347: 510.0, 3889: 507.0, 3668: 497.0, 8503: 497.0, 6212: 492.0, 10357: 491.0, 8397: 490.0, 5316: 485.0, 6171: 482.0, 10078: 482.0, 572: 481.0, 3133: 481.0, 3760: 481.0, 14506: 479.0, 2575: 473.0, 5762: 472.0, 1393: 471.0, 10838: 470.0, 3865: 469.0, 8401: 468.0, 16985: 467.0, 3193: 465.0, 3367: 465.0, 1192: 459.0, 4205: 459.0, 5460: 459.0, 5879: 454.0, 10280: 454.0, 7088: 453.0, 4638: 452.0, 2129: 444.0, 2747: 444.0, 10938: 440.0, 6108: 437.0, 11106: 435.0, 2041: 434.0, 7092: 434.0, 2067: 432.0, 3305: 432.0, 11796: 432.0, 3730: 430.0, 767: 428.0, 10275: 428.0, 4130: 427.0, 5936: 425.0, 9946: 425.0, 3197: 424.0, 6033: 422.0, 1269: 415.0, 10056: 414.0, 5320: 410.0, 4338: 408.0, 3518: 406.0, 7050: 406.0, 2652: 403.0, 5661: 401.0, 3612: 399.0, 3513: 398.0, 6559: 398.0, 282: 394.0, 1304: 392.0, 983: 389.0, 1626: 382.0, 4116: 380.0, 13517: 376.0, 2721: 372.0, 10469: 370.0, 3656: 360.0, 3583: 358.0, 250: 348.0, 4210: 348.0, 8335: 347.0, 1593: 346.0, 7264: 343.0, 4663: 336.0, 8512: 331.0, 3633: 329.0, 11344: 324.0, 4006: 309.0, 10840: 305.0, 7827: 295.0, 448: 282.0, 7124: 277.0, 112: 235.0, 10281: 221.0, 14997: 184.0}\n"
     ]
    },
    {
     "name": "stdout",
     "output_type": "stream",
     "text": [
      "Finished computing users' mainstreaminesses\n"
     ]
    },
    {
     "name": "stderr",
     "output_type": "stream",
     "text": [
      "<ipython-input-6-1d79585076c0>:8: FutureWarning: Support for multi-dimensional indexing (e.g. `obj[:, None]`) is deprecated and will be removed in a future version.  Convert to a numpy array before indexing instead.\n",
      "  grid.fit(d[:, None])\n"
     ]
    },
    {
     "name": "stdout",
     "output_type": "stream",
     "text": [
      "{'bandwidth': 0.1}\n"
     ]
    },
    {
     "name": "stderr",
     "output_type": "stream",
     "text": [
      "<ipython-input-10-17e38edbc6b8>:8: FutureWarning: Support for multi-dimensional indexing (e.g. `obj[:, None]`) is deprecated and will be removed in a future version.  Convert to a numpy array before indexing instead.\n",
      "  kde.fit(taus_df[:, None])\n"
     ]
    },
    {
     "data": {
      "text/plain": [
       "(-0.001, 40.0)"
      ]
     },
     "execution_count": 10,
     "metadata": {},
     "output_type": "execute_result"
    },
    {
     "data": {
      "image/png": "[encoded data removed]",
      "text/plain": [
       "<Figure size 432x288 with 1 Axes>"
      ]
     },
     "metadata": {
      "needs_background": "light"
     },
     "output_type": "display_data"
    },
    {
     "data": {
      "image/png": "[encoded data removed]",
      "text/plain": [
       "<Figure size 432x288 with 1 Axes>"
      ]
     },
     "metadata": {
      "needs_background": "light"
     },
     "output_type": "display_data"
    }
   ],
   "source": [
    "user_mainstreamnesses, taus_df = compute_taus(df, minimum=0, min_implicit=60)\n",
    "best_bandwidth = compute_best_bandwidth(taus_df)\n",
    "\n",
    "# instantiate and fit the KDE model\n",
    "kde = KernelDensity(bandwidth=best_bandwidth['bandwidth'], kernel='gaussian')\n",
    "x_d2 = np.linspace(-0.25, 0.4, 1000)\n",
    "\n",
    "kde.fit(taus_df[:, None])\n",
    "\n",
    "# score_samples returns the log of the probability density\n",
    "logprob = kde.score_samples(x_d2[:, None])\n",
    "\n",
    "plt.figure(1)\n",
    "plt.fill_between(x_d2, np.exp(logprob), alpha=0.5)\n",
    "plt.plot(taus_df, np.full_like(taus_df, -0.01), '|k', markeredgewidth=0.2)\n",
    "plt.ylim(-0.001, 40)"
   ]
  },
  {
   "cell_type": "code",
   "execution_count": 11,
   "id": "sufficient-program",
   "metadata": {},
   "outputs": [
    {
     "name": "stdout",
     "output_type": "stream",
     "text": [
      "433\n",
      "451\n"
     ]
    },
    {
     "data": {
      "image/png": "[encoded data removed]",
      "text/plain": [
       "<Figure size 432x360 with 1 Axes>"
      ]
     },
     "metadata": {
      "needs_background": "light"
     },
     "output_type": "display_data"
    },
    {
     "name": "stdout",
     "output_type": "stream",
     "text": [
      "  Characteristic  Beyond-mainstream   Mainstream\n",
      "0  Min. #Ratings         224.000000     1.000000\n",
      "1  Max. #Ratings        6579.000000  1191.000000\n",
      "2  Mean #Ratings        1199.311778   302.940133\n",
      "3        # Users         433.000000   451.000000\n"
     ]
    }
   ],
   "source": [
    "tau_cutoff = 0.18\n",
    "prep = 'playcounts_impl60'#preprocessing: nothing removed\n",
    "\n",
    "plot_saving_filename = f\"plot_user_distribution_tau_{tau_cutoff}_{prep}_lastfm\"\n",
    "csv_saving_filename = f\"tau_{tau_cutoff}_{prep}_lastfm\"\n",
    "\n",
    "compare_df = get_division_characteristics(user_mainstreamnesses, plot_saving_filename, csv_saving_filename, tau_cutoff)"
   ]
  },
  {
   "cell_type": "code",
   "execution_count": 41,
   "id": "coastal-idaho",
   "metadata": {},
   "outputs": [
    {
     "name": "stdout",
     "output_type": "stream",
     "text": [
      "Length of ranks_GIR_items: 2180\n",
      "item  1      2      3      4      5      6      14     30     32     34     \\\n",
      "user                                                                         \n",
      "1       0.0  855.0  779.0   12.0   18.0    8.0  146.0  268.0  100.0   87.0   \n",
      "2       0.0    0.0    0.0    0.0    0.0    0.0    0.0    4.0    0.0   12.0   \n",
      "3       2.0    0.0    2.0    1.0    0.0    0.0    0.0   26.0    0.0    0.0   \n",
      "4       0.0    0.0    0.0    1.0    0.0    0.0    0.0   10.0    0.0   43.0   \n",
      "5     119.0    0.0    5.0    1.0    0.0    2.0    0.0  336.0    0.0    0.0   \n",
      "...     ...    ...    ...    ...    ...    ...    ...    ...    ...    ...   \n",
      "880     0.0    0.0   34.0    0.0    0.0    0.0    0.0    0.0    0.0    0.0   \n",
      "881     0.0    0.0    0.0    0.0    0.0    0.0    0.0    0.0    0.0    0.0   \n",
      "882     0.0    0.0    0.0    0.0    0.0    0.0    0.0    0.0    0.0   11.0   \n",
      "883     0.0    0.0    0.0    0.0    0.0    0.0    0.0   67.0    0.0    0.0   \n",
      "884     0.0    0.0    0.0    0.0    0.0    0.0    0.0    1.0    0.0  162.0   \n",
      "\n",
      "item  ...  15342  15526  15969  16178  16269  16985  17324  17339  18192  \\\n",
      "user  ...                                                                  \n",
      "1     ...    0.0    0.0    0.0    0.0    0.0    0.0    0.0    0.0    0.0   \n",
      "2     ...    0.0    0.0    0.0    0.0    0.0    0.0    0.0    0.0    0.0   \n",
      "3     ...    0.0    0.0    0.0    0.0    0.0    0.0    0.0    0.0    0.0   \n",
      "4     ...    0.0    0.0    0.0    0.0    0.0    0.0    0.0    0.0    0.0   \n",
      "5     ...    0.0    0.0    0.0    0.0    0.0    0.0    0.0    0.0    0.0   \n",
      "...   ...    ...    ...    ...    ...    ...    ...    ...    ...    ...   \n",
      "880   ...    0.0   17.0    0.0    0.0    0.0    0.0    0.0    0.0    0.0   \n",
      "881   ...    0.0    0.0    0.0    0.0    0.0    0.0    0.0    0.0    0.0   \n",
      "882   ...    0.0    0.0    0.0    0.0    0.0    0.0    0.0    1.0    0.0   \n",
      "883   ...    0.0    0.0    0.0   38.0    0.0    0.0    0.0    0.0    0.0   \n",
      "884   ...    0.0    0.0    0.0    0.0    0.0    0.0    4.0    0.0    0.0   \n",
      "\n",
      "item  24895  \n",
      "user         \n",
      "1       0.0  \n",
      "2       0.0  \n",
      "3       0.0  \n",
      "4       0.0  \n",
      "5       0.0  \n",
      "...     ...  \n",
      "880     0.0  \n",
      "881     0.0  \n",
      "882     0.0  \n",
      "883     0.0  \n",
      "884     0.0  \n",
      "\n",
      "[884 rows x 2180 columns]\n",
      "Finished computing users' mainstreaminesses\n"
     ]
    },
    {
     "name": "stderr",
     "output_type": "stream",
     "text": [
      "<ipython-input-6-1d79585076c0>:8: FutureWarning: Support for multi-dimensional indexing (e.g. `obj[:, None]`) is deprecated and will be removed in a future version.  Convert to a numpy array before indexing instead.\n",
      "  grid.fit(d[:, None])\n"
     ]
    },
    {
     "name": "stdout",
     "output_type": "stream",
     "text": [
      "{'bandwidth': 0.1}\n"
     ]
    },
    {
     "name": "stderr",
     "output_type": "stream",
     "text": [
      "<ipython-input-41-998eb61db825>:8: FutureWarning: Support for multi-dimensional indexing (e.g. `obj[:, None]`) is deprecated and will be removed in a future version.  Convert to a numpy array before indexing instead.\n",
      "  kde.fit(taus_df[:, None])\n"
     ]
    },
    {
     "data": {
      "text/plain": [
       "(-0.001, 40.0)"
      ]
     },
     "execution_count": 41,
     "metadata": {},
     "output_type": "execute_result"
    },
    {
     "data": {
      "image/png": "[encoded data removed]",
      "text/plain": [
       "<Figure size 432x288 with 1 Axes>"
      ]
     },
     "metadata": {
      "needs_background": "light"
     },
     "output_type": "display_data"
    },
    {
     "data": {
      "image/png": "[encoded data removed]",
      "text/plain": [
       "<Figure size 432x288 with 1 Axes>"
      ]
     },
     "metadata": {
      "needs_background": "light"
     },
     "output_type": "display_data"
    }
   ],
   "source": [
    "user_mainstreamnesses, taus_df, keep_items = compute_taus(df, minimum=0, min_implicit=60)\n",
    "best_bandwidth = compute_best_bandwidth(taus_df)\n",
    "\n",
    "# instantiate and fit the KDE model\n",
    "kde = KernelDensity(bandwidth=best_bandwidth['bandwidth'], kernel='gaussian')\n",
    "x_d2 = np.linspace(-0.25, 0.4, 1000)\n",
    "\n",
    "kde.fit(taus_df[:, None])\n",
    "\n",
    "# score_samples returns the log of the probability density\n",
    "logprob = kde.score_samples(x_d2[:, None])\n",
    "\n",
    "plt.figure(1)\n",
    "plt.fill_between(x_d2, np.exp(logprob), alpha=0.5)\n",
    "plt.plot(taus_df, np.full_like(taus_df, -0.01), '|k', markeredgewidth=0.2)\n",
    "plt.ylim(-0.001, 40)"
   ]
  },
  {
   "cell_type": "code",
   "execution_count": 53,
   "id": "united-scope",
   "metadata": {},
   "outputs": [
    {
     "name": "stdout",
     "output_type": "stream",
     "text": [
      "        user   item rating\n",
      "0          1      2    855\n",
      "1          1      3    779\n",
      "2          1      4     12\n",
      "3          1      5     18\n",
      "4          1      6      8\n",
      "...      ...    ...    ...\n",
      "295929   884  10212      1\n",
      "295930   884  10224     39\n",
      "295931   884  10306      2\n",
      "295932   884  10311      2\n",
      "295933   884  17324      4\n",
      "\n",
      "[295934 rows x 3 columns]\n"
     ]
    }
   ],
   "source": [
    "# Remove the items that did not make the threshold\n",
    "df_mimpl60 = df[list(keep_items)]\n",
    "#dense_df_mimpl60 = transform_sparse_to_dense_data(df_mimpl60)\n",
    "print(dense_df_mimpl60)\n",
    "dense_df_mimpl60.to_csv(f'orig_dense_combined_{csv_saving_filename}.csv')"
   ]
  },
  {
   "cell_type": "code",
   "execution_count": 44,
   "id": "south-photography",
   "metadata": {},
   "outputs": [
    {
     "name": "stdout",
     "output_type": "stream",
     "text": [
      "433\n",
      "451\n"
     ]
    },
    {
     "data": {
      "image/png": "[encoded data removed]",
      "text/plain": [
       "<Figure size 432x360 with 1 Axes>"
      ]
     },
     "metadata": {
      "needs_background": "light"
     },
     "output_type": "display_data"
    },
    {
     "name": "stdout",
     "output_type": "stream",
     "text": [
      "  Characteristic  Beyond-mainstream   Mainstream\n",
      "0  Min. #Ratings         224.000000     1.000000\n",
      "1  Max. #Ratings        6579.000000  1191.000000\n",
      "2  Mean #Ratings        1199.311778   302.940133\n",
      "3        # Users         433.000000   451.000000\n"
     ]
    }
   ],
   "source": [
    "tau_cutoff = 0.18\n",
    "prep = 'playcounts_impl60'#preprocessing: nothing removed\n",
    "\n",
    "plot_saving_filename = f\"plot_user_distribution_tau_{tau_cutoff}_{prep}_lastfm_items_removed\"\n",
    "csv_saving_filename = f\"tau_{tau_cutoff}_{prep}_lastfm_items_removed\"\n",
    "\n",
    "compare_df = get_division_characteristics(user_mainstreamnesses, plot_saving_filename, csv_saving_filename, df_mimpl60, tau_cutoff)"
   ]
  }
 ],
 "metadata": {
  "kernelspec": {
   "display_name": "Python 3",
   "language": "python",
   "name": "python3"
  },
  "language_info": {
   "codemirror_mode": {
    "name": "ipython",
    "version": 3
   },
   "file_extension": ".py",
   "mimetype": "text/x-python",
   "name": "python",
   "nbconvert_exporter": "python",
   "pygments_lexer": "ipython3",
   "version": "3.8.5"
  }
 },
 "nbformat": 4,
 "nbformat_minor": 5
}
