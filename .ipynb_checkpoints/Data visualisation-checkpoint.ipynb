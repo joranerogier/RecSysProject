{
 "cells": [
  {
   "cell_type": "code",
   "execution_count": 2,
   "id": "suspended-rebate",
   "metadata": {},
   "outputs": [],
   "source": [
    "import csv\n",
    "import pandas as pd\n",
    "import matplotlib.pyplot as plt\n",
    "plt.style.use('seaborn-deep')\n",
    "import numpy as np\n",
    "import seaborn as sns\n",
    "from lenskit.datasets import ML100K\n"
   ]
  },
  {
   "cell_type": "markdown",
   "id": "higher-recovery",
   "metadata": {},
   "source": [
    "### Load  preprocess data"
   ]
  },
  {
   "cell_type": "code",
   "execution_count": 3,
   "id": "applied-questionnaire",
   "metadata": {},
   "outputs": [],
   "source": [
    "# load original data\n",
    "#orig_data = pd.read_csv('data/mini_ml100k_user_10_item_25.csv', sep=',', encoding='latin-1')\n",
    "ml100k = ML100K('ml-100k')\n",
    "orig_data = ml100k.ratings\n",
    "orig_data = orig_data[['user', 'item', 'rating']]"
   ]
  },
  {
   "cell_type": "markdown",
   "id": "expressed-vault",
   "metadata": {},
   "source": [
    "## 1 epoch"
   ]
  },
  {
   "cell_type": "code",
   "execution_count": 3,
   "id": "angry-space",
   "metadata": {},
   "outputs": [],
   "source": [
    "# load synthetic data\n",
    "syn_data =  pd.read_csv('output/synthetic_data/syn_complete_110321_1333.csv', sep=',', encoding='latin-1')\n",
    "syn_data = syn_data[['user', 'item', 'rating']]"
   ]
  },
  {
   "cell_type": "markdown",
   "id": "descending-indianapolis",
   "metadata": {},
   "source": [
    "### Rating Distribution"
   ]
  },
  {
   "cell_type": "code",
   "execution_count": 19,
   "id": "desirable-abraham",
   "metadata": {},
   "outputs": [
    {
     "name": "stderr",
     "output_type": "stream",
     "text": [
      "C:\\Anaconda\\envs\\recsys\\lib\\site-packages\\numpy\\core\\_asarray.py:83: VisibleDeprecationWarning: Creating an ndarray from ragged nested sequences (which is a list-or-tuple of lists-or-tuples-or ndarrays with different lengths or shapes) is deprecated. If you meant to do this, you must specify 'dtype=object' when creating the ndarray\n",
      "  return array(a, dtype, copy=False, order=order)\n"
     ]
    },
    {
     "data": {
      "text/plain": [
       "<matplotlib.legend.Legend at 0x1e350ea1b50>"
      ]
     },
     "execution_count": 19,
     "metadata": {},
     "output_type": "execute_result"
    },
    {
     "data": {
      "image/png": "[encoded data removed]",
      "text/plain": [
       "<Figure size 432x288 with 1 Axes>"
      ]
     },
     "metadata": {
      "needs_background": "light"
     },
     "output_type": "display_data"
    }
   ],
   "source": [
    "# plot rating distribution\n",
    "plt.hist([orig_data['rating'], syn_data['rating']], label=['Original', 'CTGAN'])\n",
    "plt.legend(loc='upper left')"
   ]
  },
  {
   "cell_type": "markdown",
   "id": "ordered-bargain",
   "metadata": {},
   "source": [
    "### Item Distribution"
   ]
  },
  {
   "cell_type": "code",
   "execution_count": 5,
   "id": "naked-point",
   "metadata": {},
   "outputs": [
    {
     "data": {
      "text/plain": [
       "<matplotlib.legend.Legend at 0x298a0ca62b0>"
      ]
     },
     "execution_count": 5,
     "metadata": {},
     "output_type": "execute_result"
    },
    {
     "data": {
      "image/png": "[encoded data removed]",
      "text/plain": [
       "<Figure size 432x288 with 1 Axes>"
      ]
     },
     "metadata": {
      "needs_background": "light"
     },
     "output_type": "display_data"
    }
   ],
   "source": [
    "plt.hist([orig_data['item'], syn_data['item']], label=['Original', 'CTGAN'])\n",
    "plt.legend(loc='upper left')"
   ]
  },
  {
   "cell_type": "code",
   "execution_count": 24,
   "id": "short-liabilities",
   "metadata": {},
   "outputs": [],
   "source": [
    "df_items_orig = orig_data.groupby('item').size().reset_index(name='counts')\n",
    "df_items_orig = df_items_orig.sort_values(by='counts', ascending=False)\n",
    "#df_items_orig.index.name = None"
   ]
  },
  {
   "cell_type": "code",
   "execution_count": 7,
   "id": "mathematical-mailing",
   "metadata": {},
   "outputs": [],
   "source": [
    "df_items_syn = syn_data.groupby('item').size().reset_index(name='counts')\n",
    "df_items_syn = df_items_syn.sort_values(by='counts', ascending=False)"
   ]
  },
  {
   "cell_type": "code",
   "execution_count": 8,
   "id": "confused-literacy",
   "metadata": {},
   "outputs": [
    {
     "data": {
      "text/plain": [
       "'# Sort syn data based on the sorting used for the original data,\\n# to keep the ratings comparable per item.\\ncombined_sorted = pd.merge(df_items_orig, df_items_syn, on=\"item\", how=\"outer\").fillna(0)\\ncombined_sorted[\\'idx\\'] = range(1, (len(df_items_orig)+1))\\n#combined_sorted\\nplt.plot(combined_sorted[\\'idx\\'], combined_sorted[\\'counts_x\\'], label=\\'Original\\')\\nplt.fill_between(combined_sorted[\\'idx\\'], combined_sorted[\\'counts_x\\'], color=\\'#539ecd\\', alpha=0.5)\\nplt.plot(combined_sorted[\\'idx\\'], combined_sorted[\\'counts_y\\'], label=\\'CTGAN\\')\\nplt.fill_between(combined_sorted[\\'idx\\'], combined_sorted[\\'counts_y\\'], color=\\'#4cad6e\\', alpha=0.5)\\nplt.legend(loc=\\'upper right\\')'"
      ]
     },
     "execution_count": 8,
     "metadata": {},
     "output_type": "execute_result"
    }
   ],
   "source": [
    "'''# Sort syn data based on the sorting used for the original data,\n",
    "# to keep the ratings comparable per item.\n",
    "combined_sorted = pd.merge(df_items_orig, df_items_syn, on=\"item\", how=\"outer\").fillna(0)\n",
    "combined_sorted['idx'] = range(1, (len(df_items_orig)+1))\n",
    "#combined_sorted\n",
    "plt.plot(combined_sorted['idx'], combined_sorted['counts_x'], label='Original')\n",
    "plt.fill_between(combined_sorted['idx'], combined_sorted['counts_x'], color='#539ecd', alpha=0.5)\n",
    "plt.plot(combined_sorted['idx'], combined_sorted['counts_y'], label='CTGAN')\n",
    "plt.fill_between(combined_sorted['idx'], combined_sorted['counts_y'], color='#4cad6e', alpha=0.5)\n",
    "plt.legend(loc='upper right')'''"
   ]
  },
  {
   "cell_type": "code",
   "execution_count": 40,
   "id": "objective-expansion",
   "metadata": {},
   "outputs": [
    {
     "ename": "AttributeError",
     "evalue": "'AxesSubplot' object has no attribute 'ylabel'",
     "output_type": "error",
     "traceback": [
      "\u001b[1;31m---------------------------------------------------------------------------\u001b[0m",
      "\u001b[1;31mAttributeError\u001b[0m                            Traceback (most recent call last)",
      "\u001b[1;32m<ipython-input-40-e3e32fcf580c>\u001b[0m in \u001b[0;36m<module>\u001b[1;34m\u001b[0m\n\u001b[0;32m     18\u001b[0m \u001b[0max2\u001b[0m\u001b[1;33m.\u001b[0m\u001b[0mset\u001b[0m\u001b[1;33m(\u001b[0m\u001b[0mxlabel\u001b[0m\u001b[1;33m=\u001b[0m\u001b[1;33m(\u001b[0m\u001b[1;34m'Items'\u001b[0m\u001b[1;33m)\u001b[0m\u001b[1;33m,\u001b[0m \u001b[0mylabel\u001b[0m\u001b[1;33m=\u001b[0m\u001b[1;34m'Number of ratings'\u001b[0m\u001b[1;33m)\u001b[0m\u001b[1;31m#, fontweight='bold')\u001b[0m\u001b[1;33m\u001b[0m\u001b[1;33m\u001b[0m\u001b[0m\n\u001b[0;32m     19\u001b[0m \u001b[1;33m\u001b[0m\u001b[0m\n\u001b[1;32m---> 20\u001b[1;33m \u001b[0max1\u001b[0m\u001b[1;33m.\u001b[0m\u001b[0mylabel\u001b[0m\u001b[1;33m(\u001b[0m\u001b[1;34m'Number of ratings'\u001b[0m\u001b[1;33m,\u001b[0m \u001b[0msize\u001b[0m\u001b[1;33m=\u001b[0m \u001b[1;36m20\u001b[0m\u001b[1;33m)\u001b[0m\u001b[1;31m#, fontweight='bold')\u001b[0m\u001b[1;33m\u001b[0m\u001b[1;33m\u001b[0m\u001b[0m\n\u001b[0m\u001b[0;32m     21\u001b[0m \u001b[0max2\u001b[0m\u001b[1;33m.\u001b[0m\u001b[0mylabel\u001b[0m\u001b[1;33m(\u001b[0m\u001b[1;34m'Number of ratings'\u001b[0m\u001b[1;33m,\u001b[0m \u001b[0msize\u001b[0m\u001b[1;33m=\u001b[0m \u001b[1;36m20\u001b[0m\u001b[1;33m)\u001b[0m\u001b[1;31m#, fontweight='bold')\u001b[0m\u001b[1;33m\u001b[0m\u001b[1;33m\u001b[0m\u001b[0m\n\u001b[0;32m     22\u001b[0m \u001b[1;33m\u001b[0m\u001b[0m\n",
      "\u001b[1;31mAttributeError\u001b[0m: 'AxesSubplot' object has no attribute 'ylabel'"
     ]
    },
    {
     "data": {
      "image/png": "[encoded data removed]",
      "text/plain": [
       "<Figure size 432x288 with 2 Axes>"
      ]
     },
     "metadata": {
      "needs_background": "light"
     },
     "output_type": "display_data"
    }
   ],
   "source": [
    "fig, (ax1, ax2) = plt.subplots(1, 2)\n",
    "\n",
    "fig.suptitle('Rating distribution')\n",
    "ax1.grid(linewidth=0.4, color='lightgray')\n",
    "ax1.plot(range(len(df_users_orig)), df_users_orig['counts'], label='Original')\n",
    "ax1.fill_between(range(len(df_users_orig)), df_users_orig['counts'], color='#0868ac', alpha=0.5)\n",
    "ax1.grid('on')\n",
    "\n",
    "ax2.plot(range(len(df_items_orig)), df_items_orig['counts'], label='CTGAN', color='green')\n",
    "ax2.fill_between(range(len(df_items_orig)), df_items_orig['counts'], color='#bae4bc', alpha=0.5)\n",
    "ax2.grid('on')\n",
    "\n",
    "#plt.legend(loc='upper right')\n",
    "ax1.set_title(f'Distribution of ratings among users', size= 8)\n",
    "ax2.set_title(f'Distribution of ratings among items', size= 8)\n",
    "\n",
    "ax1.set(xlabel=('Users'), ylabel='Number of ratings')#, fontweight='bold')\n",
    "ax2.set(xlabel=('Items'), ylabel='Number of ratings')#, fontweight='bold')\n",
    "\n",
    "fig.savefig (\"original_distribution_ratings_users_items.png\")"
   ]
  },
  {
   "cell_type": "code",
   "execution_count": 20,
   "id": "accepting-smith",
   "metadata": {},
   "outputs": [],
   "source": [
    "def plot_distribution(df_orig, df_syn, type_plot):\n",
    "    plt.figure(figsize=(6,5))\n",
    "    plt.grid(linewidth=0.4, color='lightgray')\n",
    "    plt.plot(range(len(df_orig)), df_orig['counts'], label='Original')\n",
    "    plt.fill_between(range(len(df_orig)), df_orig['counts'], color='#0868ac', alpha=0.5)\n",
    "\n",
    "    plt.plot(range(len(df_syn)), df_syn['counts'], label='CTGAN')\n",
    "    plt.fill_between(range(len(df_syn)), df_syn['counts'], color='#bae4bc', alpha=0.5)\n",
    "    \n",
    "    plt.grid('on')\n",
    "    plt.legend(loc='upper right')\n",
    "    plt.title(f'Distribution of ratings among {type_plot}', size= 20, fontweight='bold')\n",
    "    plt.xlabel(type_plot, size= 20)#, fontweight='bold')\n",
    "    plt.ylabel('Number of ratings', size= 20)#, fontweight='bold')\n",
    "    plt.savefig (f\"ml100k_UIM_{type_plot}Distribution.png\")\n",
    "\n"
   ]
  },
  {
   "cell_type": "code",
   "execution_count": 10,
   "id": "eight-adrian",
   "metadata": {},
   "outputs": [
    {
     "data": {
      "image/png": "[encoded data removed]",
      "text/plain": [
       "<Figure size 432x288 with 1 Axes>"
      ]
     },
     "metadata": {
      "needs_background": "light"
     },
     "output_type": "display_data"
    }
   ],
   "source": [
    "plot_distribution(df_items_orig, df_items_syn)"
   ]
  },
  {
   "cell_type": "markdown",
   "id": "placed-company",
   "metadata": {},
   "source": [
    "### User Distribution"
   ]
  },
  {
   "cell_type": "code",
   "execution_count": 4,
   "id": "formal-confidentiality",
   "metadata": {},
   "outputs": [],
   "source": [
    "df_users_orig = orig_data.groupby('user').size().reset_index(name='counts')\n",
    "df_users_orig = df_users_orig.sort_values(by='counts', ascending=False)"
   ]
  },
  {
   "cell_type": "code",
   "execution_count": 6,
   "id": "fatty-doctrine",
   "metadata": {},
   "outputs": [
    {
     "data": {
      "text/html": [
       "<div>\n",
       "<style scoped>\n",
       "    .dataframe tbody tr th:only-of-type {\n",
       "        vertical-align: middle;\n",
       "    }\n",
       "\n",
       "    .dataframe tbody tr th {\n",
       "        vertical-align: top;\n",
       "    }\n",
       "\n",
       "    .dataframe thead th {\n",
       "        text-align: right;\n",
       "    }\n",
       "</style>\n",
       "<table border=\"1\" class=\"dataframe\">\n",
       "  <thead>\n",
       "    <tr style=\"text-align: right;\">\n",
       "      <th></th>\n",
       "      <th>user</th>\n",
       "      <th>item</th>\n",
       "      <th>rating</th>\n",
       "    </tr>\n",
       "  </thead>\n",
       "  <tbody>\n",
       "    <tr>\n",
       "      <th>0</th>\n",
       "      <td>196</td>\n",
       "      <td>242</td>\n",
       "      <td>3.0</td>\n",
       "    </tr>\n",
       "    <tr>\n",
       "      <th>1</th>\n",
       "      <td>186</td>\n",
       "      <td>302</td>\n",
       "      <td>3.0</td>\n",
       "    </tr>\n",
       "    <tr>\n",
       "      <th>2</th>\n",
       "      <td>22</td>\n",
       "      <td>377</td>\n",
       "      <td>1.0</td>\n",
       "    </tr>\n",
       "    <tr>\n",
       "      <th>3</th>\n",
       "      <td>244</td>\n",
       "      <td>51</td>\n",
       "      <td>2.0</td>\n",
       "    </tr>\n",
       "    <tr>\n",
       "      <th>4</th>\n",
       "      <td>166</td>\n",
       "      <td>346</td>\n",
       "      <td>1.0</td>\n",
       "    </tr>\n",
       "    <tr>\n",
       "      <th>...</th>\n",
       "      <td>...</td>\n",
       "      <td>...</td>\n",
       "      <td>...</td>\n",
       "    </tr>\n",
       "    <tr>\n",
       "      <th>99995</th>\n",
       "      <td>880</td>\n",
       "      <td>476</td>\n",
       "      <td>3.0</td>\n",
       "    </tr>\n",
       "    <tr>\n",
       "      <th>99996</th>\n",
       "      <td>716</td>\n",
       "      <td>204</td>\n",
       "      <td>5.0</td>\n",
       "    </tr>\n",
       "    <tr>\n",
       "      <th>99997</th>\n",
       "      <td>276</td>\n",
       "      <td>1090</td>\n",
       "      <td>1.0</td>\n",
       "    </tr>\n",
       "    <tr>\n",
       "      <th>99998</th>\n",
       "      <td>13</td>\n",
       "      <td>225</td>\n",
       "      <td>2.0</td>\n",
       "    </tr>\n",
       "    <tr>\n",
       "      <th>99999</th>\n",
       "      <td>12</td>\n",
       "      <td>203</td>\n",
       "      <td>3.0</td>\n",
       "    </tr>\n",
       "  </tbody>\n",
       "</table>\n",
       "<p>100000 rows × 3 columns</p>\n",
       "</div>"
      ],
      "text/plain": [
       "       user  item  rating\n",
       "0       196   242     3.0\n",
       "1       186   302     3.0\n",
       "2        22   377     1.0\n",
       "3       244    51     2.0\n",
       "4       166   346     1.0\n",
       "...     ...   ...     ...\n",
       "99995   880   476     3.0\n",
       "99996   716   204     5.0\n",
       "99997   276  1090     1.0\n",
       "99998    13   225     2.0\n",
       "99999    12   203     3.0\n",
       "\n",
       "[100000 rows x 3 columns]"
      ]
     },
     "execution_count": 6,
     "metadata": {},
     "output_type": "execute_result"
    }
   ],
   "source": [
    "orig_data"
   ]
  },
  {
   "cell_type": "code",
   "execution_count": 12,
   "id": "failing-surgery",
   "metadata": {},
   "outputs": [],
   "source": [
    "df_users_syn = syn_data.groupby('user').size().reset_index(name='counts')\n",
    "df_users_syn = df_users_syn.sort_values(by='counts', ascending=False)"
   ]
  },
  {
   "cell_type": "code",
   "execution_count": 13,
   "id": "residential-entrance",
   "metadata": {
    "scrolled": true
   },
   "outputs": [
    {
     "data": {
      "image/png": "[encoded data removed]",
      "text/plain": [
       "<Figure size 432x288 with 1 Axes>"
      ]
     },
     "metadata": {
      "needs_background": "light"
     },
     "output_type": "display_data"
    }
   ],
   "source": [
    "plot_distribution(df_users_orig, df_users_syn)"
   ]
  },
  {
   "cell_type": "markdown",
   "id": "hearing-kennedy",
   "metadata": {},
   "source": [
    "## 100 epochs"
   ]
  },
  {
   "cell_type": "code",
   "execution_count": 5,
   "id": "entertaining-validation",
   "metadata": {},
   "outputs": [],
   "source": [
    "# load synthetic data\n",
    "syn_data =  pd.read_csv('output/synthetic_data/syn_complete_120321_0859_100ep.csv', sep=',', encoding='latin-1')\n",
    "syn_data = syn_data[['user', 'item', 'rating']]"
   ]
  },
  {
   "cell_type": "markdown",
   "id": "modular-corrections",
   "metadata": {},
   "source": [
    "### Rating distribution"
   ]
  },
  {
   "cell_type": "code",
   "execution_count": 6,
   "id": "empty-gardening",
   "metadata": {},
   "outputs": [
    {
     "name": "stderr",
     "output_type": "stream",
     "text": [
      "C:\\Anaconda\\envs\\recsys\\lib\\site-packages\\numpy\\core\\_asarray.py:83: VisibleDeprecationWarning: Creating an ndarray from ragged nested sequences (which is a list-or-tuple of lists-or-tuples-or ndarrays with different lengths or shapes) is deprecated. If you meant to do this, you must specify 'dtype=object' when creating the ndarray\n",
      "  return array(a, dtype, copy=False, order=order)\n"
     ]
    },
    {
     "data": {
      "text/plain": [
       "<matplotlib.legend.Legend at 0x1e34f5cc7f0>"
      ]
     },
     "execution_count": 6,
     "metadata": {},
     "output_type": "execute_result"
    },
    {
     "data": {
      "image/png": "[encoded data removed]",
      "text/plain": [
       "<Figure size 432x288 with 1 Axes>"
      ]
     },
     "metadata": {
      "needs_background": "light"
     },
     "output_type": "display_data"
    }
   ],
   "source": [
    "# plot rating distribution\n",
    "plt.hist([orig_data['rating'], syn_data['rating']], label=['Original', 'CTGAN'])\n",
    "plt.legend(loc='upper left')"
   ]
  },
  {
   "cell_type": "markdown",
   "id": "wrong-designer",
   "metadata": {},
   "source": [
    "### Item distribution"
   ]
  },
  {
   "cell_type": "code",
   "execution_count": 7,
   "id": "beneficial-astronomy",
   "metadata": {},
   "outputs": [
    {
     "data": {
      "text/plain": [
       "<matplotlib.legend.Legend at 0x1e34f5111f0>"
      ]
     },
     "execution_count": 7,
     "metadata": {},
     "output_type": "execute_result"
    },
    {
     "data": {
      "image/png": "[encoded data removed]",
      "text/plain": [
       "<Figure size 432x288 with 1 Axes>"
      ]
     },
     "metadata": {
      "needs_background": "light"
     },
     "output_type": "display_data"
    }
   ],
   "source": [
    "plt.hist([orig_data['item'], syn_data['item']], label=['Original', 'CTGAN'])\n",
    "plt.legend(loc='upper left')"
   ]
  },
  {
   "cell_type": "code",
   "execution_count": 17,
   "id": "encouraging-transfer",
   "metadata": {},
   "outputs": [],
   "source": [
    "df_items_orig = orig_data.groupby('item').size().reset_index(name='counts')\n",
    "df_items_orig = df_items_orig.sort_values(by='counts', ascending=False)"
   ]
  },
  {
   "cell_type": "code",
   "execution_count": 18,
   "id": "ordered-trailer",
   "metadata": {},
   "outputs": [],
   "source": [
    "df_items_syn = syn_data.groupby('item').size().reset_index(name='counts')\n",
    "df_items_syn = df_items_syn.sort_values(by='counts', ascending=False)"
   ]
  },
  {
   "cell_type": "code",
   "execution_count": 19,
   "id": "french-impact",
   "metadata": {},
   "outputs": [
    {
     "data": {
      "image/png": "[encoded data removed]",
      "text/plain": [
       "<Figure size 432x288 with 1 Axes>"
      ]
     },
     "metadata": {
      "needs_background": "light"
     },
     "output_type": "display_data"
    }
   ],
   "source": [
    "plot_distribution(df_items_orig, df_items_syn)"
   ]
  },
  {
   "cell_type": "markdown",
   "id": "played-matthew",
   "metadata": {},
   "source": [
    "### User Distribution"
   ]
  },
  {
   "cell_type": "code",
   "execution_count": 8,
   "id": "metric-diabetes",
   "metadata": {},
   "outputs": [],
   "source": [
    "df_users_orig = orig_data.groupby('user').size().reset_index(name='counts')\n",
    "df_users_orig = df_users_orig.sort_values(by='counts', ascending=False)"
   ]
  },
  {
   "cell_type": "code",
   "execution_count": 9,
   "id": "interpreted-colleague",
   "metadata": {},
   "outputs": [],
   "source": [
    "df_users_syn = syn_data.groupby('user').size().reset_index(name='counts')\n",
    "df_users_syn = df_users_syn.sort_values(by='counts', ascending=False)"
   ]
  },
  {
   "cell_type": "code",
   "execution_count": 21,
   "id": "clear-combination",
   "metadata": {},
   "outputs": [
    {
     "data": {
      "image/png": "[encoded data removed]",
      "text/plain": [
       "<Figure size 432x360 with 1 Axes>"
      ]
     },
     "metadata": {
      "needs_background": "light"
     },
     "output_type": "display_data"
    }
   ],
   "source": [
    "plot_distribution(df_users_orig, df_users_syn, 'Users')"
   ]
  },
  {
   "cell_type": "markdown",
   "id": "buried-demonstration",
   "metadata": {},
   "source": [
    "## 250 epochs"
   ]
  },
  {
   "cell_type": "code",
   "execution_count": 4,
   "id": "rational-ensemble",
   "metadata": {},
   "outputs": [
    {
     "ename": "KeyError",
     "evalue": "\"None of [Index(['user', 'item', 'rating'], dtype='object')] are in the [columns]\"",
     "output_type": "error",
     "traceback": [
      "\u001b[1;31m---------------------------------------------------------------------------\u001b[0m",
      "\u001b[1;31mKeyError\u001b[0m                                  Traceback (most recent call last)",
      "\u001b[1;32m<ipython-input-4-89ca9c361e8f>\u001b[0m in \u001b[0;36m<module>\u001b[1;34m\u001b[0m\n\u001b[0;32m      1\u001b[0m \u001b[1;31m# load synthetic data\u001b[0m\u001b[1;33m\u001b[0m\u001b[1;33m\u001b[0m\u001b[1;33m\u001b[0m\u001b[0m\n\u001b[0;32m      2\u001b[0m \u001b[0msyn_data\u001b[0m \u001b[1;33m=\u001b[0m  \u001b[0mpd\u001b[0m\u001b[1;33m.\u001b[0m\u001b[0mread_csv\u001b[0m\u001b[1;33m(\u001b[0m\u001b[1;34m'output/synthetic_data/syn_sparse_250eps_1.0.csv'\u001b[0m\u001b[1;33m,\u001b[0m \u001b[0msep\u001b[0m\u001b[1;33m=\u001b[0m\u001b[1;34m','\u001b[0m\u001b[1;33m,\u001b[0m \u001b[0mencoding\u001b[0m\u001b[1;33m=\u001b[0m\u001b[1;34m'latin-1'\u001b[0m\u001b[1;33m)\u001b[0m\u001b[1;33m\u001b[0m\u001b[1;33m\u001b[0m\u001b[0m\n\u001b[1;32m----> 3\u001b[1;33m \u001b[0msyn_data\u001b[0m \u001b[1;33m=\u001b[0m \u001b[0msyn_data\u001b[0m\u001b[1;33m[\u001b[0m\u001b[1;33m[\u001b[0m\u001b[1;34m'user'\u001b[0m\u001b[1;33m,\u001b[0m \u001b[1;34m'item'\u001b[0m\u001b[1;33m,\u001b[0m \u001b[1;34m'rating'\u001b[0m\u001b[1;33m]\u001b[0m\u001b[1;33m]\u001b[0m\u001b[1;33m\u001b[0m\u001b[1;33m\u001b[0m\u001b[0m\n\u001b[0m",
      "\u001b[1;32mC:\\Anaconda\\envs\\recsys\\lib\\site-packages\\pandas\\core\\frame.py\u001b[0m in \u001b[0;36m__getitem__\u001b[1;34m(self, key)\u001b[0m\n\u001b[0;32m   2910\u001b[0m             \u001b[1;32mif\u001b[0m \u001b[0mis_iterator\u001b[0m\u001b[1;33m(\u001b[0m\u001b[0mkey\u001b[0m\u001b[1;33m)\u001b[0m\u001b[1;33m:\u001b[0m\u001b[1;33m\u001b[0m\u001b[1;33m\u001b[0m\u001b[0m\n\u001b[0;32m   2911\u001b[0m                 \u001b[0mkey\u001b[0m \u001b[1;33m=\u001b[0m \u001b[0mlist\u001b[0m\u001b[1;33m(\u001b[0m\u001b[0mkey\u001b[0m\u001b[1;33m)\u001b[0m\u001b[1;33m\u001b[0m\u001b[1;33m\u001b[0m\u001b[0m\n\u001b[1;32m-> 2912\u001b[1;33m             \u001b[0mindexer\u001b[0m \u001b[1;33m=\u001b[0m \u001b[0mself\u001b[0m\u001b[1;33m.\u001b[0m\u001b[0mloc\u001b[0m\u001b[1;33m.\u001b[0m\u001b[0m_get_listlike_indexer\u001b[0m\u001b[1;33m(\u001b[0m\u001b[0mkey\u001b[0m\u001b[1;33m,\u001b[0m \u001b[0maxis\u001b[0m\u001b[1;33m=\u001b[0m\u001b[1;36m1\u001b[0m\u001b[1;33m,\u001b[0m \u001b[0mraise_missing\u001b[0m\u001b[1;33m=\u001b[0m\u001b[1;32mTrue\u001b[0m\u001b[1;33m)\u001b[0m\u001b[1;33m[\u001b[0m\u001b[1;36m1\u001b[0m\u001b[1;33m]\u001b[0m\u001b[1;33m\u001b[0m\u001b[1;33m\u001b[0m\u001b[0m\n\u001b[0m\u001b[0;32m   2913\u001b[0m \u001b[1;33m\u001b[0m\u001b[0m\n\u001b[0;32m   2914\u001b[0m         \u001b[1;31m# take() does not accept boolean indexers\u001b[0m\u001b[1;33m\u001b[0m\u001b[1;33m\u001b[0m\u001b[1;33m\u001b[0m\u001b[0m\n",
      "\u001b[1;32mC:\\Anaconda\\envs\\recsys\\lib\\site-packages\\pandas\\core\\indexing.py\u001b[0m in \u001b[0;36m_get_listlike_indexer\u001b[1;34m(self, key, axis, raise_missing)\u001b[0m\n\u001b[0;32m   1252\u001b[0m             \u001b[0mkeyarr\u001b[0m\u001b[1;33m,\u001b[0m \u001b[0mindexer\u001b[0m\u001b[1;33m,\u001b[0m \u001b[0mnew_indexer\u001b[0m \u001b[1;33m=\u001b[0m \u001b[0max\u001b[0m\u001b[1;33m.\u001b[0m\u001b[0m_reindex_non_unique\u001b[0m\u001b[1;33m(\u001b[0m\u001b[0mkeyarr\u001b[0m\u001b[1;33m)\u001b[0m\u001b[1;33m\u001b[0m\u001b[1;33m\u001b[0m\u001b[0m\n\u001b[0;32m   1253\u001b[0m \u001b[1;33m\u001b[0m\u001b[0m\n\u001b[1;32m-> 1254\u001b[1;33m         \u001b[0mself\u001b[0m\u001b[1;33m.\u001b[0m\u001b[0m_validate_read_indexer\u001b[0m\u001b[1;33m(\u001b[0m\u001b[0mkeyarr\u001b[0m\u001b[1;33m,\u001b[0m \u001b[0mindexer\u001b[0m\u001b[1;33m,\u001b[0m \u001b[0maxis\u001b[0m\u001b[1;33m,\u001b[0m \u001b[0mraise_missing\u001b[0m\u001b[1;33m=\u001b[0m\u001b[0mraise_missing\u001b[0m\u001b[1;33m)\u001b[0m\u001b[1;33m\u001b[0m\u001b[1;33m\u001b[0m\u001b[0m\n\u001b[0m\u001b[0;32m   1255\u001b[0m         \u001b[1;32mreturn\u001b[0m \u001b[0mkeyarr\u001b[0m\u001b[1;33m,\u001b[0m \u001b[0mindexer\u001b[0m\u001b[1;33m\u001b[0m\u001b[1;33m\u001b[0m\u001b[0m\n\u001b[0;32m   1256\u001b[0m \u001b[1;33m\u001b[0m\u001b[0m\n",
      "\u001b[1;32mC:\\Anaconda\\envs\\recsys\\lib\\site-packages\\pandas\\core\\indexing.py\u001b[0m in \u001b[0;36m_validate_read_indexer\u001b[1;34m(self, key, indexer, axis, raise_missing)\u001b[0m\n\u001b[0;32m   1296\u001b[0m             \u001b[1;32mif\u001b[0m \u001b[0mmissing\u001b[0m \u001b[1;33m==\u001b[0m \u001b[0mlen\u001b[0m\u001b[1;33m(\u001b[0m\u001b[0mindexer\u001b[0m\u001b[1;33m)\u001b[0m\u001b[1;33m:\u001b[0m\u001b[1;33m\u001b[0m\u001b[1;33m\u001b[0m\u001b[0m\n\u001b[0;32m   1297\u001b[0m                 \u001b[0maxis_name\u001b[0m \u001b[1;33m=\u001b[0m \u001b[0mself\u001b[0m\u001b[1;33m.\u001b[0m\u001b[0mobj\u001b[0m\u001b[1;33m.\u001b[0m\u001b[0m_get_axis_name\u001b[0m\u001b[1;33m(\u001b[0m\u001b[0maxis\u001b[0m\u001b[1;33m)\u001b[0m\u001b[1;33m\u001b[0m\u001b[1;33m\u001b[0m\u001b[0m\n\u001b[1;32m-> 1298\u001b[1;33m                 \u001b[1;32mraise\u001b[0m \u001b[0mKeyError\u001b[0m\u001b[1;33m(\u001b[0m\u001b[1;34mf\"None of [{key}] are in the [{axis_name}]\"\u001b[0m\u001b[1;33m)\u001b[0m\u001b[1;33m\u001b[0m\u001b[1;33m\u001b[0m\u001b[0m\n\u001b[0m\u001b[0;32m   1299\u001b[0m \u001b[1;33m\u001b[0m\u001b[0m\n\u001b[0;32m   1300\u001b[0m             \u001b[1;31m# We (temporarily) allow for some missing keys with .loc, except in\u001b[0m\u001b[1;33m\u001b[0m\u001b[1;33m\u001b[0m\u001b[1;33m\u001b[0m\u001b[0m\n",
      "\u001b[1;31mKeyError\u001b[0m: \"None of [Index(['user', 'item', 'rating'], dtype='object')] are in the [columns]\""
     ]
    }
   ],
   "source": [
    "# load synthetic data\n",
    "syn_data =  pd.read_csv('output/synthetic_data/syn_sparse_250eps_1.0.csv', sep=',', encoding='latin-1')\n",
    "syn_data = syn_data[['user', 'item', 'rating']]"
   ]
  },
  {
   "cell_type": "markdown",
   "id": "substantial-madonna",
   "metadata": {},
   "source": [
    "### Rating distribution"
   ]
  },
  {
   "cell_type": "code",
   "execution_count": null,
   "id": "dietary-sheet",
   "metadata": {},
   "outputs": [],
   "source": [
    "# plot rating distribution\n",
    "plt.hist([orig_data['rating'], syn_data['rating']], label=['Original', 'CTGAN'])\n",
    "plt.legend(loc='upper left')"
   ]
  },
  {
   "cell_type": "markdown",
   "id": "amended-firewall",
   "metadata": {},
   "source": [
    "### Item distribution"
   ]
  },
  {
   "cell_type": "code",
   "execution_count": null,
   "id": "short-brother",
   "metadata": {},
   "outputs": [],
   "source": [
    "plt.hist([orig_data['item'], syn_data['item']], label=['Original', 'CTGAN'])\n",
    "plt.legend(loc='upper left')"
   ]
  },
  {
   "cell_type": "code",
   "execution_count": null,
   "id": "smoking-provider",
   "metadata": {},
   "outputs": [],
   "source": [
    "df_items_orig = orig_data.groupby('item').size().reset_index(name='counts')\n",
    "df_items_orig = df_items_orig.sort_values(by='counts', ascending=False)"
   ]
  },
  {
   "cell_type": "code",
   "execution_count": null,
   "id": "spread-brain",
   "metadata": {},
   "outputs": [],
   "source": [
    "df_items_syn = syn_data.groupby('item').size().reset_index(name='counts')\n",
    "df_items_syn = df_items_syn.sort_values(by='counts', ascending=False)"
   ]
  },
  {
   "cell_type": "code",
   "execution_count": null,
   "id": "civic-copyright",
   "metadata": {},
   "outputs": [],
   "source": [
    "plot_distribution(df_users_orig, df_users_syn)"
   ]
  },
  {
   "cell_type": "code",
   "execution_count": null,
   "id": "auburn-kingdom",
   "metadata": {},
   "outputs": [],
   "source": []
  },
  {
   "cell_type": "code",
   "execution_count": null,
   "id": "clear-asian",
   "metadata": {},
   "outputs": [],
   "source": []
  }
 ],
 "metadata": {
  "kernelspec": {
   "display_name": "Python 3",
   "language": "python",
   "name": "python3"
  },
  "language_info": {
   "codemirror_mode": {
    "name": "ipython",
    "version": 3
   },
   "file_extension": ".py",
   "mimetype": "text/x-python",
   "name": "python",
   "nbconvert_exporter": "python",
   "pygments_lexer": "ipython3",
   "version": "3.8.5"
  }
 },
 "nbformat": 4,
 "nbformat_minor": 5
}
