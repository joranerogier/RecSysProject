{
 "cells": [
  {
   "cell_type": "code",
   "execution_count": 28,
   "id": "suspended-rebate",
   "metadata": {},
   "outputs": [],
   "source": [
    "import csv\n",
    "import pandas as pd\n",
    "import matplotlib.pyplot as plt\n",
    "plt.style.use('seaborn-deep')\n",
    "import numpy as np\n",
    "import seaborn as sns\n",
    "from lenskit.datasets import ML100K"
   ]
  },
  {
   "cell_type": "markdown",
   "id": "higher-recovery",
   "metadata": {},
   "source": [
    "### Load  preprocess data"
   ]
  },
  {
   "cell_type": "code",
   "execution_count": 29,
   "id": "applied-questionnaire",
   "metadata": {},
   "outputs": [],
   "source": [
    "# load original data\n",
    "#orig_data = pd.read_csv('data/mini_ml100k_user_10_item_25.csv', sep=',', encoding='latin-1')\n",
    "ml100k = ML100K('ml-100k')\n",
    "orig_data = ml100k.ratings\n",
    "orig_data = orig_data[['user', 'item', 'rating']]"
   ]
  },
  {
   "cell_type": "code",
   "execution_count": 35,
   "id": "fundamental-excerpt",
   "metadata": {},
   "outputs": [],
   "source": [
    "def transform_to_dense_data(d):\n",
    "    transformed_data = []\n",
    "    for uid in range(len(d)):\n",
    "        for item_id in d.columns:\n",
    "            rating = d.iloc[uid][item_id]\n",
    "            #print(f\"user: {uid} - item: {item_id} - rating: {rating}\")\n",
    "            if rating != \"\":\n",
    "                user_id = int(uid)+1\n",
    "                sample = [user_id, int(item_id), int(rating)]\n",
    "                transformed_data.append(sample)\n",
    "\n",
    "    df = pd.DataFrame(transformed_data, columns =['user', 'item', 'rating'])\n",
    "    return df"
   ]
  },
  {
   "cell_type": "markdown",
   "id": "expressed-vault",
   "metadata": {},
   "source": [
    "## 250 epochs"
   ]
  },
  {
   "cell_type": "markdown",
   "id": "massive-bicycle",
   "metadata": {},
   "source": [
    "## Sampling 0.25 of original data"
   ]
  },
  {
   "cell_type": "code",
   "execution_count": 39,
   "id": "angry-space",
   "metadata": {},
   "outputs": [
    {
     "name": "stdout",
     "output_type": "stream",
     "text": [
      "     1  2  3  4  5  6  7  8  9 10  ... 1673 1674 1675 1676 1677 1678 1679  \\\n",
      "0          2           4     5     ...                                      \n",
      "1             3  4        3        ...                                      \n",
      "2    4     3  3        4     5  5  ...                                      \n",
      "3    3        4        4  4        ...                                      \n",
      "4                      4  4  4     ...                                      \n",
      "..  .. .. .. .. .. .. .. .. .. ..  ...  ...  ...  ...  ...  ...  ...  ...   \n",
      "230  5              4  4           ...                                      \n",
      "231        2  3     4  3        4  ...                                      \n",
      "232        2  2        4           ...                                      \n",
      "233  3     2  2  3     5     2     ...                                      \n",
      "234  3  5        2     4           ...                                      \n",
      "\n",
      "    1680 1681 1682  \n",
      "0                   \n",
      "1                   \n",
      "2                   \n",
      "3                   \n",
      "4                   \n",
      "..   ...  ...  ...  \n",
      "230                 \n",
      "231                 \n",
      "232                 \n",
      "233                 \n",
      "234                 \n",
      "\n",
      "[235 rows x 1682 columns]\n"
     ]
    }
   ],
   "source": [
    "# load synthetic data\n",
    "syn_data_sparse =  pd.read_csv('output/synthetic_data/syn_sparse_250eps_0.25.csv', sep=',', encoding='latin-1').fillna(\"\")\n",
    "\n",
    "# Sparse to dense\n",
    "syn_data = transform_to_dense_data(syn_data_sparse)"
   ]
  },
  {
   "cell_type": "markdown",
   "id": "descending-indianapolis",
   "metadata": {},
   "source": [
    "### Rating Distribution"
   ]
  },
  {
   "cell_type": "code",
   "execution_count": 40,
   "id": "desirable-abraham",
   "metadata": {},
   "outputs": [
    {
     "name": "stderr",
     "output_type": "stream",
     "text": [
      "C:\\Anaconda\\envs\\recsys\\lib\\site-packages\\numpy\\core\\_asarray.py:83: VisibleDeprecationWarning: Creating an ndarray from ragged nested sequences (which is a list-or-tuple of lists-or-tuples-or ndarrays with different lengths or shapes) is deprecated. If you meant to do this, you must specify 'dtype=object' when creating the ndarray\n",
      "  return array(a, dtype, copy=False, order=order)\n"
     ]
    },
    {
     "data": {
      "text/plain": [
       "<matplotlib.legend.Legend at 0x236c7b336a0>"
      ]
     },
     "execution_count": 40,
     "metadata": {},
     "output_type": "execute_result"
    },
    {
     "data": {
      "image/png": "[encoded data removed]",
      "text/plain": [
       "<Figure size 432x288 with 1 Axes>"
      ]
     },
     "metadata": {
      "needs_background": "light"
     },
     "output_type": "display_data"
    }
   ],
   "source": [
    "# plot rating distribution\n",
    "plt.hist([orig_data['rating'], syn_data['rating']], label=['Original', 'CTGAN'])\n",
    "plt.legend(loc='upper left')"
   ]
  },
  {
   "cell_type": "markdown",
   "id": "ordered-bargain",
   "metadata": {},
   "source": [
    "### Item Distribution"
   ]
  },
  {
   "cell_type": "code",
   "execution_count": 41,
   "id": "naked-point",
   "metadata": {},
   "outputs": [
    {
     "data": {
      "text/plain": [
       "<matplotlib.legend.Legend at 0x236c9af3be0>"
      ]
     },
     "execution_count": 41,
     "metadata": {},
     "output_type": "execute_result"
    },
    {
     "data": {
      "image/png": "[encoded data removed]",
      "text/plain": [
       "<Figure size 432x288 with 1 Axes>"
      ]
     },
     "metadata": {
      "needs_background": "light"
     },
     "output_type": "display_data"
    }
   ],
   "source": [
    "plt.hist([orig_data['item'], syn_data['item']], label=['Original', 'CTGAN'])\n",
    "plt.legend(loc='upper left')"
   ]
  },
  {
   "cell_type": "code",
   "execution_count": 42,
   "id": "short-liabilities",
   "metadata": {},
   "outputs": [],
   "source": [
    "df_items_orig = orig_data.groupby('item').size().reset_index(name='counts')\n",
    "df_items_orig = df_items_orig.sort_values(by='counts', ascending=False)\n",
    "#df_items_orig.index.name = None"
   ]
  },
  {
   "cell_type": "code",
   "execution_count": 43,
   "id": "mathematical-mailing",
   "metadata": {},
   "outputs": [],
   "source": [
    "df_items_syn = syn_data.groupby('item').size().reset_index(name='counts')\n",
    "df_items_syn = df_items_syn.sort_values(by='counts', ascending=False)"
   ]
  },
  {
   "cell_type": "code",
   "execution_count": 21,
   "id": "confused-literacy",
   "metadata": {},
   "outputs": [
    {
     "data": {
      "text/plain": [
       "'# Sort syn data based on the sorting used for the original data,\\n# to keep the ratings comparable per item.\\ncombined_sorted = pd.merge(df_items_orig, df_items_syn, on=\"item\", how=\"outer\").fillna(0)\\ncombined_sorted[\\'idx\\'] = range(1, (len(df_items_orig)+1))\\n#combined_sorted\\nplt.plot(combined_sorted[\\'idx\\'], combined_sorted[\\'counts_x\\'], label=\\'Original\\')\\nplt.fill_between(combined_sorted[\\'idx\\'], combined_sorted[\\'counts_x\\'], color=\\'#539ecd\\', alpha=0.5)\\nplt.plot(combined_sorted[\\'idx\\'], combined_sorted[\\'counts_y\\'], label=\\'CTGAN\\')\\nplt.fill_between(combined_sorted[\\'idx\\'], combined_sorted[\\'counts_y\\'], color=\\'#4cad6e\\', alpha=0.5)\\nplt.legend(loc=\\'upper right\\')'"
      ]
     },
     "execution_count": 21,
     "metadata": {},
     "output_type": "execute_result"
    }
   ],
   "source": [
    "'''# Sort syn data based on the sorting used for the original data,\n",
    "# to keep the ratings comparable per item.\n",
    "combined_sorted = pd.merge(df_items_orig, df_items_syn, on=\"item\", how=\"outer\").fillna(0)\n",
    "combined_sorted['idx'] = range(1, (len(df_items_orig)+1))\n",
    "#combined_sorted\n",
    "plt.plot(combined_sorted['idx'], combined_sorted['counts_x'], label='Original')\n",
    "plt.fill_between(combined_sorted['idx'], combined_sorted['counts_x'], color='#539ecd', alpha=0.5)\n",
    "plt.plot(combined_sorted['idx'], combined_sorted['counts_y'], label='CTGAN')\n",
    "plt.fill_between(combined_sorted['idx'], combined_sorted['counts_y'], color='#4cad6e', alpha=0.5)\n",
    "plt.legend(loc='upper right')'''"
   ]
  },
  {
   "cell_type": "code",
   "execution_count": 44,
   "id": "accepting-smith",
   "metadata": {},
   "outputs": [],
   "source": [
    "def plot_distribution(df_orig, df_syn):   \n",
    "    plt.plot(range(len(df_orig)), df_orig['counts'], label='Original')\n",
    "    plt.fill_between(range(len(df_orig)), df_orig['counts'], color='#539ecd', alpha=0.5)\n",
    "\n",
    "    plt.plot(range(len(df_syn)), df_syn['counts'], label='CTGAN')\n",
    "    plt.fill_between(range(len(df_syn)), df_syn['counts'], color='#4cad6e', alpha=0.5)\n",
    "    plt.legend(loc='upper right')\n",
    "\n"
   ]
  },
  {
   "cell_type": "code",
   "execution_count": 45,
   "id": "eight-adrian",
   "metadata": {},
   "outputs": [
    {
     "data": {
      "image/png": "[encoded data removed]",
      "text/plain": [
       "<Figure size 432x288 with 1 Axes>"
      ]
     },
     "metadata": {
      "needs_background": "light"
     },
     "output_type": "display_data"
    }
   ],
   "source": [
    "plot_distribution(df_items_orig, df_items_syn)"
   ]
  },
  {
   "cell_type": "markdown",
   "id": "placed-company",
   "metadata": {},
   "source": [
    "### User Distribution"
   ]
  },
  {
   "cell_type": "code",
   "execution_count": 46,
   "id": "formal-confidentiality",
   "metadata": {},
   "outputs": [],
   "source": [
    "df_users_orig = orig_data.groupby('user').size().reset_index(name='counts')\n",
    "df_users_orig = df_users_orig.sort_values(by='counts', ascending=False)"
   ]
  },
  {
   "cell_type": "code",
   "execution_count": 47,
   "id": "fatty-doctrine",
   "metadata": {},
   "outputs": [
    {
     "data": {
      "text/html": [
       "<div>\n",
       "<style scoped>\n",
       "    .dataframe tbody tr th:only-of-type {\n",
       "        vertical-align: middle;\n",
       "    }\n",
       "\n",
       "    .dataframe tbody tr th {\n",
       "        vertical-align: top;\n",
       "    }\n",
       "\n",
       "    .dataframe thead th {\n",
       "        text-align: right;\n",
       "    }\n",
       "</style>\n",
       "<table border=\"1\" class=\"dataframe\">\n",
       "  <thead>\n",
       "    <tr style=\"text-align: right;\">\n",
       "      <th></th>\n",
       "      <th>user</th>\n",
       "      <th>item</th>\n",
       "      <th>rating</th>\n",
       "    </tr>\n",
       "  </thead>\n",
       "  <tbody>\n",
       "    <tr>\n",
       "      <th>0</th>\n",
       "      <td>196</td>\n",
       "      <td>242</td>\n",
       "      <td>3.0</td>\n",
       "    </tr>\n",
       "    <tr>\n",
       "      <th>1</th>\n",
       "      <td>186</td>\n",
       "      <td>302</td>\n",
       "      <td>3.0</td>\n",
       "    </tr>\n",
       "    <tr>\n",
       "      <th>2</th>\n",
       "      <td>22</td>\n",
       "      <td>377</td>\n",
       "      <td>1.0</td>\n",
       "    </tr>\n",
       "    <tr>\n",
       "      <th>3</th>\n",
       "      <td>244</td>\n",
       "      <td>51</td>\n",
       "      <td>2.0</td>\n",
       "    </tr>\n",
       "    <tr>\n",
       "      <th>4</th>\n",
       "      <td>166</td>\n",
       "      <td>346</td>\n",
       "      <td>1.0</td>\n",
       "    </tr>\n",
       "    <tr>\n",
       "      <th>...</th>\n",
       "      <td>...</td>\n",
       "      <td>...</td>\n",
       "      <td>...</td>\n",
       "    </tr>\n",
       "    <tr>\n",
       "      <th>99995</th>\n",
       "      <td>880</td>\n",
       "      <td>476</td>\n",
       "      <td>3.0</td>\n",
       "    </tr>\n",
       "    <tr>\n",
       "      <th>99996</th>\n",
       "      <td>716</td>\n",
       "      <td>204</td>\n",
       "      <td>5.0</td>\n",
       "    </tr>\n",
       "    <tr>\n",
       "      <th>99997</th>\n",
       "      <td>276</td>\n",
       "      <td>1090</td>\n",
       "      <td>1.0</td>\n",
       "    </tr>\n",
       "    <tr>\n",
       "      <th>99998</th>\n",
       "      <td>13</td>\n",
       "      <td>225</td>\n",
       "      <td>2.0</td>\n",
       "    </tr>\n",
       "    <tr>\n",
       "      <th>99999</th>\n",
       "      <td>12</td>\n",
       "      <td>203</td>\n",
       "      <td>3.0</td>\n",
       "    </tr>\n",
       "  </tbody>\n",
       "</table>\n",
       "<p>100000 rows × 3 columns</p>\n",
       "</div>"
      ],
      "text/plain": [
       "       user  item  rating\n",
       "0       196   242     3.0\n",
       "1       186   302     3.0\n",
       "2        22   377     1.0\n",
       "3       244    51     2.0\n",
       "4       166   346     1.0\n",
       "...     ...   ...     ...\n",
       "99995   880   476     3.0\n",
       "99996   716   204     5.0\n",
       "99997   276  1090     1.0\n",
       "99998    13   225     2.0\n",
       "99999    12   203     3.0\n",
       "\n",
       "[100000 rows x 3 columns]"
      ]
     },
     "execution_count": 47,
     "metadata": {},
     "output_type": "execute_result"
    }
   ],
   "source": [
    "orig_data"
   ]
  },
  {
   "cell_type": "code",
   "execution_count": 48,
   "id": "failing-surgery",
   "metadata": {},
   "outputs": [],
   "source": [
    "df_users_syn = syn_data.groupby('user').size().reset_index(name='counts')\n",
    "df_users_syn = df_users_syn.sort_values(by='counts', ascending=False)"
   ]
  },
  {
   "cell_type": "code",
   "execution_count": 49,
   "id": "residential-entrance",
   "metadata": {
    "scrolled": true
   },
   "outputs": [
    {
     "data": {
      "image/png": "[encoded data removed]",
      "text/plain": [
       "<Figure size 432x288 with 1 Axes>"
      ]
     },
     "metadata": {
      "needs_background": "light"
     },
     "output_type": "display_data"
    }
   ],
   "source": [
    "plot_distribution(df_users_orig, df_users_syn)"
   ]
  },
  {
   "cell_type": "markdown",
   "id": "hearing-kennedy",
   "metadata": {},
   "source": [
    "## Sampling 0.50 of original data"
   ]
  },
  {
   "cell_type": "code",
   "execution_count": 52,
   "id": "entertaining-validation",
   "metadata": {},
   "outputs": [],
   "source": [
    "# load synthetic data\n",
    "syn_data_sparse =  pd.read_csv('output/synthetic_data/syn_sparse_250eps_0.50.csv', sep=',', encoding='latin-1').fillna(\"\")\n",
    "\n",
    "# Sparse to dense\n",
    "syn_data = transform_to_dense_data(syn_data_sparse)"
   ]
  },
  {
   "cell_type": "markdown",
   "id": "modular-corrections",
   "metadata": {},
   "source": [
    "### Rating distribution"
   ]
  },
  {
   "cell_type": "code",
   "execution_count": 53,
   "id": "empty-gardening",
   "metadata": {},
   "outputs": [
    {
     "name": "stderr",
     "output_type": "stream",
     "text": [
      "C:\\Anaconda\\envs\\recsys\\lib\\site-packages\\numpy\\core\\_asarray.py:83: VisibleDeprecationWarning: Creating an ndarray from ragged nested sequences (which is a list-or-tuple of lists-or-tuples-or ndarrays with different lengths or shapes) is deprecated. If you meant to do this, you must specify 'dtype=object' when creating the ndarray\n",
      "  return array(a, dtype, copy=False, order=order)\n"
     ]
    },
    {
     "data": {
      "text/plain": [
       "<matplotlib.legend.Legend at 0x236c9b300a0>"
      ]
     },
     "execution_count": 53,
     "metadata": {},
     "output_type": "execute_result"
    },
    {
     "data": {
      "image/png": "[encoded data removed]",
      "text/plain": [
       "<Figure size 432x288 with 1 Axes>"
      ]
     },
     "metadata": {
      "needs_background": "light"
     },
     "output_type": "display_data"
    }
   ],
   "source": [
    "# plot rating distribution\n",
    "plt.hist([orig_data['rating'], syn_data['rating']], label=['Original', 'CTGAN'])\n",
    "plt.legend(loc='upper left')"
   ]
  },
  {
   "cell_type": "markdown",
   "id": "wrong-designer",
   "metadata": {},
   "source": [
    "### Item distribution"
   ]
  },
  {
   "cell_type": "code",
   "execution_count": 54,
   "id": "beneficial-astronomy",
   "metadata": {},
   "outputs": [
    {
     "data": {
      "text/plain": [
       "<matplotlib.legend.Legend at 0x236c9b690a0>"
      ]
     },
     "execution_count": 54,
     "metadata": {},
     "output_type": "execute_result"
    },
    {
     "data": {
      "image/png": "[encoded data removed]",
      "text/plain": [
       "<Figure size 432x288 with 1 Axes>"
      ]
     },
     "metadata": {
      "needs_background": "light"
     },
     "output_type": "display_data"
    }
   ],
   "source": [
    "plt.hist([orig_data['item'], syn_data['item']], label=['Original', 'CTGAN'])\n",
    "plt.legend(loc='upper left')"
   ]
  },
  {
   "cell_type": "code",
   "execution_count": 55,
   "id": "encouraging-transfer",
   "metadata": {},
   "outputs": [],
   "source": [
    "df_items_orig = orig_data.groupby('item').size().reset_index(name='counts')\n",
    "df_items_orig = df_items_orig.sort_values(by='counts', ascending=False)"
   ]
  },
  {
   "cell_type": "code",
   "execution_count": 56,
   "id": "ordered-trailer",
   "metadata": {},
   "outputs": [],
   "source": [
    "df_items_syn = syn_data.groupby('item').size().reset_index(name='counts')\n",
    "df_items_syn = df_items_syn.sort_values(by='counts', ascending=False)"
   ]
  },
  {
   "cell_type": "code",
   "execution_count": 57,
   "id": "french-impact",
   "metadata": {},
   "outputs": [
    {
     "data": {
      "image/png": "[encoded data removed]",
      "text/plain": [
       "<Figure size 432x288 with 1 Axes>"
      ]
     },
     "metadata": {
      "needs_background": "light"
     },
     "output_type": "display_data"
    }
   ],
   "source": [
    "plot_distribution(df_items_orig, df_items_syn)"
   ]
  },
  {
   "cell_type": "markdown",
   "id": "played-matthew",
   "metadata": {},
   "source": [
    "### User Distribution"
   ]
  },
  {
   "cell_type": "code",
   "execution_count": 58,
   "id": "metric-diabetes",
   "metadata": {},
   "outputs": [],
   "source": [
    "df_users_orig = orig_data.groupby('user').size().reset_index(name='counts')\n",
    "df_users_orig = df_users_orig.sort_values(by='counts', ascending=False)"
   ]
  },
  {
   "cell_type": "code",
   "execution_count": 59,
   "id": "interpreted-colleague",
   "metadata": {},
   "outputs": [],
   "source": [
    "df_users_syn = syn_data.groupby('user').size().reset_index(name='counts')\n",
    "df_users_syn = df_users_syn.sort_values(by='counts', ascending=False)"
   ]
  },
  {
   "cell_type": "code",
   "execution_count": 60,
   "id": "clear-combination",
   "metadata": {},
   "outputs": [
    {
     "data": {
      "image/png": "[encoded data removed]",
      "text/plain": [
       "<Figure size 432x288 with 1 Axes>"
      ]
     },
     "metadata": {
      "needs_background": "light"
     },
     "output_type": "display_data"
    }
   ],
   "source": [
    "plot_distribution(df_users_orig, df_users_syn)"
   ]
  },
  {
   "cell_type": "markdown",
   "id": "outside-forwarding",
   "metadata": {},
   "source": [
    "## Sampling 0.75 of original data"
   ]
  },
  {
   "cell_type": "code",
   "execution_count": null,
   "id": "chubby-figure",
   "metadata": {},
   "outputs": [],
   "source": [
    "# load synthetic data\n",
    "syn_data_sparse =  pd.read_csv('output/synthetic_data/syn_sparse_250eps_0.75.csv', sep=',', encoding='latin-1').fillna(\"\")\n",
    "\n",
    "# Sparse to dense\n",
    "syn_data = transform_to_dense_data(syn_data_sparse)"
   ]
  },
  {
   "cell_type": "markdown",
   "id": "black-bolivia",
   "metadata": {},
   "source": [
    "### Rating Distribution"
   ]
  },
  {
   "cell_type": "code",
   "execution_count": null,
   "id": "absolute-council",
   "metadata": {},
   "outputs": [],
   "source": [
    "# plot rating distribution\n",
    "plt.hist([orig_data['rating'], syn_data['rating']], label=['Original', 'CTGAN'])\n",
    "plt.legend(loc='upper left')"
   ]
  },
  {
   "cell_type": "markdown",
   "id": "utility-tokyo",
   "metadata": {},
   "source": [
    "### Item Distribution"
   ]
  },
  {
   "cell_type": "code",
   "execution_count": null,
   "id": "municipal-engagement",
   "metadata": {},
   "outputs": [],
   "source": [
    "plt.hist([orig_data['item'], syn_data['item']], label=['Original', 'CTGAN'])\n",
    "plt.legend(loc='upper left')"
   ]
  },
  {
   "cell_type": "code",
   "execution_count": null,
   "id": "electric-automation",
   "metadata": {},
   "outputs": [],
   "source": [
    "df_items_orig = orig_data.groupby('item').size().reset_index(name='counts')\n",
    "df_items_orig = df_items_orig.sort_values(by='counts', ascending=False)"
   ]
  },
  {
   "cell_type": "code",
   "execution_count": null,
   "id": "designed-magnet",
   "metadata": {},
   "outputs": [],
   "source": [
    "df_items_syn = syn_data.groupby('item').size().reset_index(name='counts')\n",
    "df_items_syn = df_items_syn.sort_values(by='counts', ascending=False)"
   ]
  },
  {
   "cell_type": "code",
   "execution_count": null,
   "id": "union-stable",
   "metadata": {},
   "outputs": [],
   "source": [
    "plot_distribution(df_items_orig, df_items_syn)"
   ]
  },
  {
   "cell_type": "markdown",
   "id": "brutal-logan",
   "metadata": {},
   "source": [
    "### User Distribution"
   ]
  },
  {
   "cell_type": "code",
   "execution_count": null,
   "id": "golden-retention",
   "metadata": {},
   "outputs": [],
   "source": [
    "df_users_orig = orig_data.groupby('user').size().reset_index(name='counts')\n",
    "df_users_orig = df_users_orig.sort_values(by='counts', ascending=False)"
   ]
  },
  {
   "cell_type": "code",
   "execution_count": null,
   "id": "transsexual-bacon",
   "metadata": {},
   "outputs": [],
   "source": [
    "df_users_syn = syn_data.groupby('user').size().reset_index(name='counts')\n",
    "df_users_syn = df_users_syn.sort_values(by='counts', ascending=False)"
   ]
  },
  {
   "cell_type": "code",
   "execution_count": null,
   "id": "empty-typing",
   "metadata": {},
   "outputs": [],
   "source": [
    "plot_distribution(df_users_orig, df_users_syn)"
   ]
  },
  {
   "cell_type": "markdown",
   "id": "authorized-chaos",
   "metadata": {},
   "source": [
    "## Sampling 1.00 of original data"
   ]
  },
  {
   "cell_type": "code",
   "execution_count": null,
   "id": "hazardous-divide",
   "metadata": {},
   "outputs": [],
   "source": [
    "# load synthetic data\n",
    "syn_data_sparse =  pd.read_csv('output/synthetic_data/syn_sparse_250eps_1.00.csv', sep=',', encoding='latin-1').fillna(\"\")\n",
    "\n",
    "# Sparse to dense\n",
    "syn_data = transform_to_dense_data(syn_data_sparse)"
   ]
  },
  {
   "cell_type": "markdown",
   "id": "signal-solution",
   "metadata": {},
   "source": [
    "### Rating Distribution"
   ]
  },
  {
   "cell_type": "code",
   "execution_count": null,
   "id": "worst-rehabilitation",
   "metadata": {},
   "outputs": [],
   "source": [
    "# plot rating distribution\n",
    "plt.hist([orig_data['rating'], syn_data['rating']], label=['Original', 'CTGAN'])\n",
    "plt.legend(loc='upper left')"
   ]
  },
  {
   "cell_type": "markdown",
   "id": "historical-admission",
   "metadata": {},
   "source": [
    "### Item Distribution"
   ]
  },
  {
   "cell_type": "code",
   "execution_count": null,
   "id": "ambient-indicator",
   "metadata": {},
   "outputs": [],
   "source": [
    "plt.hist([orig_data['item'], syn_data['item']], label=['Original', 'CTGAN'])\n",
    "plt.legend(loc='upper left')"
   ]
  },
  {
   "cell_type": "code",
   "execution_count": null,
   "id": "horizontal-terror",
   "metadata": {},
   "outputs": [],
   "source": [
    "df_items_orig = orig_data.groupby('item').size().reset_index(name='counts')\n",
    "df_items_orig = df_items_orig.sort_values(by='counts', ascending=False)"
   ]
  },
  {
   "cell_type": "code",
   "execution_count": null,
   "id": "enhanced-static",
   "metadata": {},
   "outputs": [],
   "source": [
    "df_items_syn = syn_data.groupby('item').size().reset_index(name='counts')\n",
    "df_items_syn = df_items_syn.sort_values(by='counts', ascending=False)"
   ]
  },
  {
   "cell_type": "code",
   "execution_count": null,
   "id": "studied-plastic",
   "metadata": {},
   "outputs": [],
   "source": [
    "plot_distribution(df_items_orig, df_items_syn)"
   ]
  },
  {
   "cell_type": "markdown",
   "id": "satisfied-motel",
   "metadata": {},
   "source": [
    "### User Distribution"
   ]
  },
  {
   "cell_type": "code",
   "execution_count": null,
   "id": "after-tribune",
   "metadata": {},
   "outputs": [],
   "source": [
    "df_users_orig = orig_data.groupby('user').size().reset_index(name='counts')\n",
    "df_users_orig = df_users_orig.sort_values(by='counts', ascending=False)"
   ]
  },
  {
   "cell_type": "code",
   "execution_count": null,
   "id": "extended-dimension",
   "metadata": {},
   "outputs": [],
   "source": [
    "df_users_syn = syn_data.groupby('user').size().reset_index(name='counts')\n",
    "df_users_syn = df_users_syn.sort_values(by='counts', ascending=False)"
   ]
  },
  {
   "cell_type": "code",
   "execution_count": null,
   "id": "expressed-float",
   "metadata": {},
   "outputs": [],
   "source": [
    "plot_distribution(df_users_orig, df_users_syn)"
   ]
  },
  {
   "cell_type": "markdown",
   "id": "wicked-faith",
   "metadata": {},
   "source": [
    "## Sampling 1.25 of original data"
   ]
  },
  {
   "cell_type": "code",
   "execution_count": null,
   "id": "adverse-mortgage",
   "metadata": {},
   "outputs": [],
   "source": [
    "# load synthetic data\n",
    "syn_data_sparse =  pd.read_csv('output/synthetic_data/syn_sparse_250eps_1.25.csv', sep=',', encoding='latin-1').fillna(\"\")\n",
    "\n",
    "# Sparse to dense\n",
    "syn_data = transform_to_dense_data(syn_data_sparse)"
   ]
  },
  {
   "cell_type": "markdown",
   "id": "advisory-trading",
   "metadata": {},
   "source": [
    "### Rating Distribution"
   ]
  },
  {
   "cell_type": "code",
   "execution_count": null,
   "id": "gross-bearing",
   "metadata": {},
   "outputs": [],
   "source": [
    "# plot rating distribution\n",
    "plt.hist([orig_data['rating'], syn_data['rating']], label=['Original', 'CTGAN'])\n",
    "plt.legend(loc='upper left')"
   ]
  },
  {
   "cell_type": "markdown",
   "id": "overall-device",
   "metadata": {},
   "source": [
    "### Item Distribution"
   ]
  },
  {
   "cell_type": "code",
   "execution_count": null,
   "id": "front-repeat",
   "metadata": {},
   "outputs": [],
   "source": [
    "plt.hist([orig_data['item'], syn_data['item']], label=['Original', 'CTGAN'])\n",
    "plt.legend(loc='upper left')"
   ]
  },
  {
   "cell_type": "code",
   "execution_count": null,
   "id": "seeing-joseph",
   "metadata": {},
   "outputs": [],
   "source": [
    "df_items_orig = orig_data.groupby('item').size().reset_index(name='counts')\n",
    "df_items_orig = df_items_orig.sort_values(by='counts', ascending=False)"
   ]
  },
  {
   "cell_type": "code",
   "execution_count": null,
   "id": "large-radius",
   "metadata": {},
   "outputs": [],
   "source": [
    "df_items_syn = syn_data.groupby('item').size().reset_index(name='counts')\n",
    "df_items_syn = df_items_syn.sort_values(by='counts', ascending=False)"
   ]
  },
  {
   "cell_type": "code",
   "execution_count": null,
   "id": "willing-breeding",
   "metadata": {},
   "outputs": [],
   "source": [
    "plot_distribution(df_items_orig, df_items_syn)"
   ]
  },
  {
   "cell_type": "markdown",
   "id": "integral-monte",
   "metadata": {},
   "source": [
    "### User Distribution"
   ]
  },
  {
   "cell_type": "code",
   "execution_count": null,
   "id": "nearby-hepatitis",
   "metadata": {},
   "outputs": [],
   "source": [
    "df_users_orig = orig_data.groupby('user').size().reset_index(name='counts')\n",
    "df_users_orig = df_users_orig.sort_values(by='counts', ascending=False)"
   ]
  },
  {
   "cell_type": "code",
   "execution_count": null,
   "id": "declared-commitment",
   "metadata": {},
   "outputs": [],
   "source": [
    "df_users_syn = syn_data.groupby('user').size().reset_index(name='counts')\n",
    "df_users_syn = df_users_syn.sort_values(by='counts', ascending=False)"
   ]
  },
  {
   "cell_type": "code",
   "execution_count": null,
   "id": "changing-standard",
   "metadata": {},
   "outputs": [],
   "source": [
    "plot_distribution(df_users_orig, df_users_syn)"
   ]
  },
  {
   "cell_type": "markdown",
   "id": "architectural-bahrain",
   "metadata": {},
   "source": [
    "## Sampling 1.50 of original data"
   ]
  },
  {
   "cell_type": "code",
   "execution_count": null,
   "id": "ethical-country",
   "metadata": {},
   "outputs": [],
   "source": [
    "# load synthetic data\n",
    "syn_data_sparse =  pd.read_csv('output/synthetic_data/syn_sparse_250eps_1.50.csv', sep=',', encoding='latin-1').fillna(\"\")\n",
    "\n",
    "# Sparse to dense\n",
    "syn_data = transform_to_dense_data(syn_data_sparse)"
   ]
  },
  {
   "cell_type": "markdown",
   "id": "instant-europe",
   "metadata": {},
   "source": [
    "### Rating Distribution"
   ]
  },
  {
   "cell_type": "code",
   "execution_count": null,
   "id": "attempted-samoa",
   "metadata": {},
   "outputs": [],
   "source": [
    "# plot rating distribution\n",
    "plt.hist([orig_data['rating'], syn_data['rating']], label=['Original', 'CTGAN'])\n",
    "plt.legend(loc='upper left')"
   ]
  },
  {
   "cell_type": "markdown",
   "id": "clean-listening",
   "metadata": {},
   "source": [
    "### Item Distribution"
   ]
  },
  {
   "cell_type": "code",
   "execution_count": null,
   "id": "smaller-reunion",
   "metadata": {},
   "outputs": [],
   "source": [
    "plt.hist([orig_data['item'], syn_data['item']], label=['Original', 'CTGAN'])\n",
    "plt.legend(loc='upper left')"
   ]
  },
  {
   "cell_type": "code",
   "execution_count": null,
   "id": "ready-funeral",
   "metadata": {},
   "outputs": [],
   "source": [
    "df_items_orig = orig_data.groupby('item').size().reset_index(name='counts')\n",
    "df_items_orig = df_items_orig.sort_values(by='counts', ascending=False)"
   ]
  },
  {
   "cell_type": "code",
   "execution_count": null,
   "id": "progressive-glory",
   "metadata": {},
   "outputs": [],
   "source": [
    "df_items_syn = syn_data.groupby('item').size().reset_index(name='counts')\n",
    "df_items_syn = df_items_syn.sort_values(by='counts', ascending=False)"
   ]
  },
  {
   "cell_type": "code",
   "execution_count": null,
   "id": "requested-celtic",
   "metadata": {},
   "outputs": [],
   "source": [
    "plot_distribution(df_items_orig, df_items_syn)"
   ]
  },
  {
   "cell_type": "markdown",
   "id": "simple-relations",
   "metadata": {},
   "source": [
    "### User Distribution"
   ]
  },
  {
   "cell_type": "code",
   "execution_count": null,
   "id": "wrapped-olympus",
   "metadata": {},
   "outputs": [],
   "source": [
    "df_users_orig = orig_data.groupby('user').size().reset_index(name='counts')\n",
    "df_users_orig = df_users_orig.sort_values(by='counts', ascending=False)"
   ]
  },
  {
   "cell_type": "code",
   "execution_count": null,
   "id": "electronic-somewhere",
   "metadata": {},
   "outputs": [],
   "source": [
    "df_users_syn = syn_data.groupby('user').size().reset_index(name='counts')\n",
    "df_users_syn = df_users_syn.sort_values(by='counts', ascending=False)"
   ]
  },
  {
   "cell_type": "code",
   "execution_count": null,
   "id": "compressed-basement",
   "metadata": {},
   "outputs": [],
   "source": [
    "plot_distribution(df_users_orig, df_users_syn)"
   ]
  },
  {
   "cell_type": "markdown",
   "id": "amended-rings",
   "metadata": {},
   "source": [
    "## Sampling 1.75 of original data"
   ]
  },
  {
   "cell_type": "code",
   "execution_count": null,
   "id": "major-giant",
   "metadata": {},
   "outputs": [],
   "source": [
    "# load synthetic data\n",
    "syn_data_sparse =  pd.read_csv('output/synthetic_data/syn_sparse_250eps_1.75.csv', sep=',', encoding='latin-1').fillna(\"\")\n",
    "\n",
    "# Sparse to dense\n",
    "syn_data = transform_to_dense_data(syn_data_sparse)"
   ]
  },
  {
   "cell_type": "markdown",
   "id": "registered-transcription",
   "metadata": {},
   "source": [
    "### Rating Distribution"
   ]
  },
  {
   "cell_type": "code",
   "execution_count": null,
   "id": "industrial-appraisal",
   "metadata": {},
   "outputs": [],
   "source": [
    "# plot rating distribution\n",
    "plt.hist([orig_data['rating'], syn_data['rating']], label=['Original', 'CTGAN'])\n",
    "plt.legend(loc='upper left')"
   ]
  },
  {
   "cell_type": "markdown",
   "id": "addressed-internet",
   "metadata": {},
   "source": [
    "### Item Distribution"
   ]
  },
  {
   "cell_type": "code",
   "execution_count": null,
   "id": "basic-chancellor",
   "metadata": {},
   "outputs": [],
   "source": [
    "plt.hist([orig_data['item'], syn_data['item']], label=['Original', 'CTGAN'])\n",
    "plt.legend(loc='upper left')"
   ]
  },
  {
   "cell_type": "code",
   "execution_count": null,
   "id": "going-ordinance",
   "metadata": {},
   "outputs": [],
   "source": [
    "df_items_orig = orig_data.groupby('item').size().reset_index(name='counts')\n",
    "df_items_orig = df_items_orig.sort_values(by='counts', ascending=False)"
   ]
  },
  {
   "cell_type": "code",
   "execution_count": null,
   "id": "obvious-tradition",
   "metadata": {},
   "outputs": [],
   "source": [
    "df_items_syn = syn_data.groupby('item').size().reset_index(name='counts')\n",
    "df_items_syn = df_items_syn.sort_values(by='counts', ascending=False)"
   ]
  },
  {
   "cell_type": "code",
   "execution_count": null,
   "id": "stuffed-cutting",
   "metadata": {},
   "outputs": [],
   "source": [
    "plot_distribution(df_items_orig, df_items_syn)"
   ]
  },
  {
   "cell_type": "markdown",
   "id": "amber-bottom",
   "metadata": {},
   "source": [
    "### User Distribution"
   ]
  },
  {
   "cell_type": "code",
   "execution_count": null,
   "id": "confirmed-tribune",
   "metadata": {},
   "outputs": [],
   "source": [
    "df_users_orig = orig_data.groupby('user').size().reset_index(name='counts')\n",
    "df_users_orig = df_users_orig.sort_values(by='counts', ascending=False)"
   ]
  },
  {
   "cell_type": "code",
   "execution_count": null,
   "id": "partial-breast",
   "metadata": {},
   "outputs": [],
   "source": [
    "df_users_syn = syn_data.groupby('user').size().reset_index(name='counts')\n",
    "df_users_syn = df_users_syn.sort_values(by='counts', ascending=False)"
   ]
  },
  {
   "cell_type": "code",
   "execution_count": null,
   "id": "statewide-greek",
   "metadata": {},
   "outputs": [],
   "source": [
    "plot_distribution(df_users_orig, df_users_syn)"
   ]
  },
  {
   "cell_type": "markdown",
   "id": "proof-sheffield",
   "metadata": {},
   "source": [
    "## Sampling 2.00 of original data"
   ]
  },
  {
   "cell_type": "code",
   "execution_count": null,
   "id": "local-istanbul",
   "metadata": {},
   "outputs": [],
   "source": [
    "# load synthetic data\n",
    "syn_data_sparse =  pd.read_csv('output/synthetic_data/syn_sparse_250eps_2.00.csv', sep=',', encoding='latin-1').fillna(\"\")\n",
    "\n",
    "# Sparse to dense\n",
    "syn_data = transform_to_dense_data(syn_data_sparse)"
   ]
  },
  {
   "cell_type": "markdown",
   "id": "separated-transformation",
   "metadata": {},
   "source": [
    "### Rating Distribution"
   ]
  },
  {
   "cell_type": "code",
   "execution_count": null,
   "id": "enhanced-lounge",
   "metadata": {},
   "outputs": [],
   "source": [
    "# plot rating distribution\n",
    "plt.hist([orig_data['rating'], syn_data['rating']], label=['Original', 'CTGAN'])\n",
    "plt.legend(loc='upper left')"
   ]
  },
  {
   "cell_type": "markdown",
   "id": "tight-thickness",
   "metadata": {},
   "source": [
    "### Item Distribution"
   ]
  },
  {
   "cell_type": "code",
   "execution_count": null,
   "id": "convenient-advocate",
   "metadata": {},
   "outputs": [],
   "source": [
    "plt.hist([orig_data['item'], syn_data['item']], label=['Original', 'CTGAN'])\n",
    "plt.legend(loc='upper left')"
   ]
  },
  {
   "cell_type": "code",
   "execution_count": null,
   "id": "optical-lambda",
   "metadata": {},
   "outputs": [],
   "source": [
    "df_items_orig = orig_data.groupby('item').size().reset_index(name='counts')\n",
    "df_items_orig = df_items_orig.sort_values(by='counts', ascending=False)"
   ]
  },
  {
   "cell_type": "code",
   "execution_count": null,
   "id": "advised-lewis",
   "metadata": {},
   "outputs": [],
   "source": [
    "df_items_syn = syn_data.groupby('item').size().reset_index(name='counts')\n",
    "df_items_syn = df_items_syn.sort_values(by='counts', ascending=False)"
   ]
  },
  {
   "cell_type": "code",
   "execution_count": null,
   "id": "popular-occasions",
   "metadata": {},
   "outputs": [],
   "source": [
    "plot_distribution(df_items_orig, df_items_syn)"
   ]
  },
  {
   "cell_type": "markdown",
   "id": "fuzzy-legend",
   "metadata": {},
   "source": [
    "### User Distribution"
   ]
  },
  {
   "cell_type": "code",
   "execution_count": null,
   "id": "secondary-union",
   "metadata": {},
   "outputs": [],
   "source": [
    "df_users_orig = orig_data.groupby('user').size().reset_index(name='counts')\n",
    "df_users_orig = df_users_orig.sort_values(by='counts', ascending=False)"
   ]
  },
  {
   "cell_type": "code",
   "execution_count": null,
   "id": "referenced-toner",
   "metadata": {},
   "outputs": [],
   "source": [
    "df_users_syn = syn_data.groupby('user').size().reset_index(name='counts')\n",
    "df_users_syn = df_users_syn.sort_values(by='counts', ascending=False)"
   ]
  },
  {
   "cell_type": "code",
   "execution_count": null,
   "id": "handed-drilling",
   "metadata": {},
   "outputs": [],
   "source": [
    "plot_distribution(df_users_orig, df_users_syn)"
   ]
  }
 ],
 "metadata": {
  "kernelspec": {
   "display_name": "Python 3",
   "language": "python",
   "name": "python3"
  },
  "language_info": {
   "codemirror_mode": {
    "name": "ipython",
    "version": 3
   },
   "file_extension": ".py",
   "mimetype": "text/x-python",
   "name": "python",
   "nbconvert_exporter": "python",
   "pygments_lexer": "ipython3",
   "version": "3.8.5"
  }
 },
 "nbformat": 4,
 "nbformat_minor": 5
}
