{
 "cells": [
  {
   "cell_type": "code",
   "execution_count": 1,
   "id": "loving-vehicle",
   "metadata": {},
   "outputs": [
    {
     "name": "stdout",
     "output_type": "stream",
     "text": [
      "Required directory 'C:\\Users\\Jorane Rogier\\Documents\\studie\\year2\\Research Internship\\RecSysProject/output/' exists \n",
      "Required directory 'C:\\Users\\Jorane Rogier\\Documents\\studie\\year2\\Research Internship\\RecSysProject/output//synthetic_data/' exists \n",
      "Required directory 'C:\\Users\\Jorane Rogier\\Documents\\studie\\year2\\Research Internship\\RecSysProject/output//partitioned_data/' exists \n"
     ]
    }
   ],
   "source": [
    "from lenskit.datasets import ML100K\n",
    "from transform_data_representation import transform_dense_to_sparse_data\n",
    "import pandas as pd\n",
    "import numpy as np\n",
    "from scipy import stats\n",
    "import matplotlib.pyplot as plt\n",
    "import os\n",
    "from sklearn.neighbors import KernelDensity\n",
    "from sklearn.model_selection import GridSearchCV"
   ]
  },
  {
   "cell_type": "code",
   "execution_count": 2,
   "id": "difficult-amplifier",
   "metadata": {},
   "outputs": [],
   "source": [
    "# Load input data\n",
    "ml100k = ML100K('ml-100k')\n",
    "ratings = ml100k.ratings\n",
    "ratings = ratings[['user', 'item', 'rating']]\n",
    "user_item_matrix = ratings.pivot(*ratings.columns)\n",
    "user_item_matrix = user_item_matrix.fillna(0)\n",
    "user_item_matrix.columns = user_item_matrix.columns.astype(str)\n",
    "df = pd.DataFrame(user_item_matrix)"
   ]
  },
  {
   "cell_type": "code",
   "execution_count": null,
   "id": "acquired-raleigh",
   "metadata": {},
   "outputs": [],
   "source": [
    "from collections import Counter\n",
    "# samples = synthetic \n",
    "# data = original\n",
    "\n",
    "n_users = samples.userid.unique().shape[0]\n",
    "n_items = samples.itemid.unique().shape[0]\n",
    "n_usersd = data.userid.unique().shape[0]\n",
    "n_itemsd = data.itemid.unique().shape[0] \n",
    "# n_userrd = random.userid.unique().shape[0]\n",
    "# n_itemsrd = random.itemid.unique().shape[0]\n",
    "\n",
    "# Sort movie ratings in decreasing order of ratings\n",
    "data_movieratings = Counter(data['userid'])\n",
    "ctr_movieratings = Counter(samples['userid'])\n",
    "# ran_movieratings = Counter(random['userid'])\n",
    "\n",
    "#plt.xticks(rankings['movieId'])\n",
    "plt.figure(figsize=(6,5))\n",
    "plt.grid(linewidth=0.4, color='lightgray') \n",
    "plt.bar(np.arange(n_users),sorted(ctr_movieratings.values(),reverse = True), edgecolor='orchid', color='None')# color= \"orchid\")\n",
    "# plt.bar(np.arange(n_userrd),sorted(ran_movieratings.values(),reverse = True), edgecolor='deepskyblue', color='None')# color= \"deepskyblue\")\n",
    "plt.bar(np.arange(n_usersd),sorted(data_movieratings.values(),reverse = True), edgecolor='bisque', color='None')# color= \"bisque\")\n",
    "plt.title('Distribution of ratings among users', size= 20, fontweight='bold')\n",
    "plt.xlabel('Users', size= 20)#, fontweight='bold')\n",
    "plt.ylabel('Number of ratings', size= 20)#, fontweight='bold')\n",
    "plt.grid('on')\n",
    "plt.legend([\"Ctgan\", \"Empirical\", \"Original\"], prop={'size': 18})\n",
    "plt.savefig (\"ml100k_UIM_userDistribution.pdf\")\n",
    "plt.show()"
   ]
  },
  {
   "cell_type": "code",
   "execution_count": 3,
   "id": "driving-marriage",
   "metadata": {},
   "outputs": [],
   "source": [
    "def compute_taus(df, minimum=0, maximum=1000000, rounding_tau=2):\n",
    "    \"\"\"\n",
    "    Function to compute global ranking and user ranking, followed by kendall's tau\n",
    "    INPUT: \n",
    "    * min, max -> items to be removed below/higher than these values\n",
    "    * df -> input dataframe\n",
    "    * rounding_tau -> rounding value for kendall's tau\n",
    "\n",
    "    OUTPUT:\n",
    "    * user_mainstreamnesses (tau, p-value)\n",
    "    * taus \n",
    "    \"\"\"\n",
    "    # Create Global Item Ranking (GIR), looping over all items, count how often the item is watched\n",
    "    GIR = {}\n",
    "    for col in df:\n",
    "        # does not take into account movies that have not been watched\n",
    "        summed_rating = df[col].sum()\n",
    "\n",
    "        # only take into account items that have been # ratings between minimum and maximum\n",
    "        if ((df[col].astype(bool).sum(axis=0) >= minimum) and (df[col].astype(bool).sum(axis=0) <= maximum)):\n",
    "            GIR[col] = summed_rating\n",
    "\n",
    "    ranks_GIR = {k: v for k,v in sorted(GIR.items(), key=lambda item: item[1], reverse=True)}\n",
    "    ranks_GIR_items = [*ranks_GIR]\n",
    "    print(f'Length of ranks_GIR_items: {len(ranks_GIR_items)}')\n",
    "    \n",
    "    # Compute user mainstreaminess (UM)\n",
    "    user_mainstreamnesses = {}\n",
    "    taus = []\n",
    "    for uid in range(len(df)):\n",
    "        user_dict = {}\n",
    "        for item_id in df.columns:\n",
    "            rating = df.iloc[uid][item_id]# uid here is not the true user_id (which is uid + 1), iloc needs integer, thus starting at 0\n",
    "            # only take into account items that have been rated > minimum & < maximum times\n",
    "            if item_id in GIR:\n",
    "                user_dict[item_id] = rating\n",
    "        \n",
    "        # Rank the items for the user based on given ratings\n",
    "        ranks_user = {k: v for k,v in sorted(user_dict.items(), key=lambda item: item[1], reverse=True)}\n",
    "        ranks_user_items = [*ranks_user]\n",
    "        \n",
    "        # compute the mainstreaminess measure with Kendall's rank-order correlation\n",
    "        tau, p_value = stats.kendalltau(ranks_GIR_items, ranks_user_items)\n",
    "        user_mainstreamnesses[uid+1] = [tau, p_value] # Here, the actual user_id is used\n",
    "        taus.append(round(tau, rounding_tau))\n",
    "        \n",
    "    print(\"Finished computing users' mainstreaminesses\")\n",
    "    \n",
    "    # Plot taus to investigate the values\n",
    "    plt.figure(0)\n",
    "    plt.hist(taus)\n",
    "    plt.xlabel(\"Kendall's tau\")\n",
    "    plt.ylabel(\"Counts\")\n",
    "    \n",
    "    return user_mainstreamnesses, pd.Series(taus)"
   ]
  },
  {
   "cell_type": "code",
   "execution_count": 4,
   "id": "warming-deployment",
   "metadata": {},
   "outputs": [],
   "source": [
    "def compute_best_bandwidth(d):\n",
    "    \"\"\"\n",
    "    Function to find the best bandwidth for kernel density estimation, given input d.\n",
    "    \"\"\"\n",
    "    bandwidths = 10 ** np.linspace(-1, 1, 100)\n",
    "    grid = GridSearchCV(KernelDensity(kernel='gaussian'),\n",
    "                        {'bandwidth': bandwidths})\n",
    "    grid.fit(d[:, None])\n",
    "    print(grid.best_params_)\n",
    "    return grid.best_params_"
   ]
  },
  {
   "cell_type": "code",
   "execution_count": 9,
   "id": "beautiful-poultry",
   "metadata": {},
   "outputs": [],
   "source": [
    "def plot_distribution(df_orig, df_syn):   \n",
    "    plt.plot(range(len(df_orig)), df_orig['counts'], label='Original')\n",
    "    plt.fill_between(range(len(df_orig)), df_orig['counts'], color='#539ecd', alpha=0.5)\n",
    "\n",
    "    plt.plot(range(len(df_syn)), df_syn['counts'], label='CTGAN')\n",
    "    plt.fill_between(range(len(df_syn)), df_syn['counts'], color='#4cad6e', alpha=0.5)\n",
    "    plt.legend(loc='upper right')\n"
   ]
  },
  {
   "cell_type": "code",
   "execution_count": 24,
   "id": "maritime-floating",
   "metadata": {},
   "outputs": [],
   "source": [
    "def transform_sparse_to_dense_data(sparse_df):\n",
    "    transformed_data = []\n",
    "    for uid in range(len(sparse_df)):\n",
    "        for item_id in sparse_df.columns:\n",
    "            rating = sparse_df.iloc[uid][item_id]\n",
    "            #print(f\"user: {uid} - item: {item_id} - rating: {rating}\")\n",
    "            if rating != 0:\n",
    "                user_id = int(uid)+1\n",
    "                sample = [user_id, int(item_id), int(rating)]\n",
    "                transformed_data.append(sample)\n",
    "            \n",
    "    df = pd.DataFrame(transformed_data, columns =['user', 'item', 'rating'])\n",
    "    return df"
   ]
  },
  {
   "cell_type": "code",
   "execution_count": 56,
   "id": "operating-devil",
   "metadata": {},
   "outputs": [],
   "source": [
    "from collections import Counter\n",
    "\n",
    "def get_division_characteristics(user_mainstreamnesses, tau_cutoff=0.02):\n",
    "    # Get the user-ids which have tau < tau_cutoff (beyond mainstream users, bmu)\n",
    "    bmu = [k for k, v in user_mainstreamnesses.items() if float(v[0]) < tau_cutoff]\n",
    "    \n",
    "    print(len(bmu))\n",
    "    \n",
    "    # Get the user-ids which have tau >= tau_cutoff (mainstream users, mu)\n",
    "    mu = [k for k, v in user_mainstreamnesses.items() if float(v[0]) >= tau_cutoff]\n",
    "    print(len(mu))\n",
    "    \n",
    "    # Since the user-id's started at 1, but for indexing we start at 0, \n",
    "    # we subtract 1 from all elements in the lists\n",
    "    bmu[:] = [n-1 for n in bmu]\n",
    "    mu[:] = [n-1 for n in mu]\n",
    "    \n",
    "    df_bmu = df.iloc[bmu]\n",
    "    df_mu = df.iloc[mu]\n",
    "    \n",
    "    # check user distribution\n",
    "    df_bmu_dense = transform_sparse_to_dense_data(df_bmu)\n",
    "    df_mu_dense = transform_sparse_to_dense_data(df_mu)\n",
    "\n",
    "    '''df_bmu_counts = df_bmu_dense.groupby('item').size().reset_index(name='counts')\n",
    "    df_bmu_counts = df_bmu_counts.sort_values(by='counts', ascending=False)\n",
    "    df_mu_counts = df_mu_dense.groupby('item').size().reset_index(name='counts')\n",
    "    df_mu_counts = df_mu_counts.sort_values(by='counts', ascending=False)\n",
    "\n",
    "    plot_distribution(df_bmu_counts, df_mu_counts)'''\n",
    "    \n",
    "    # samples = synthetic \n",
    "    # data = original\n",
    "\n",
    "    n_users_bmu = df_bmu_dense.user.unique().shape[0]\n",
    "    n_items_bmu = df_bmu_dense.item.unique().shape[0]\n",
    "    n_usersd_mu = df_mu_dense.user.unique().shape[0]\n",
    "    n_itemsd_mu = df_mu_dense.item.unique().shape[0] \n",
    "    # n_userrd = random.userid.unique().shape[0]\n",
    "    # n_itemsrd = random.itemid.unique().shape[0]\n",
    "\n",
    "    # Sort movie ratings in decreasing order of ratings\n",
    "    data_movieratings = Counter(df_mu_dense['user'])\n",
    "    ctr_movieratings = Counter(df_bmu_dense['user'])\n",
    "    # ran_movieratings = Counter(random['userid'])\n",
    "\n",
    "    #plt.xticks(rankings['movieId'])\n",
    "    plt.figure(figsize=(6,5))\n",
    "    plt.grid(linewidth=0.4, color='lightgray') \n",
    "    plt.bar(np.arange(n_users_bmu),sorted(ctr_movieratings.values(),reverse = True), edgecolor='orchid', color='None')# color= \"orchid\")\n",
    "    # plt.bar(np.arange(n_userrd),sorted(ran_movieratings.values(),reverse = True), edgecolor='deepskyblue', color='None')# color= \"deepskyblue\")\n",
    "    plt.bar(np.arange(n_usersd_mu),sorted(data_movieratings.values(),reverse = True), edgecolor='bisque', color='None')# color= \"bisque\")\n",
    "    plt.title('Distribution of ratings among users', size= 20, fontweight='bold')\n",
    "    plt.xlabel('Users', size= 20)#, fontweight='bold')\n",
    "    plt.ylabel('Number of ratings', size= 20)#, fontweight='bold')\n",
    "    plt.grid('on')\n",
    "    plt.legend([\"Ctgan\", \"Empirical\", \"Original\"], prop={'size': 18})\n",
    "    plt.savefig (\"ml100k_UIM_userDistribution.pdf\")\n",
    "    plt.show()\n",
    "    \n",
    "    # compute non-zero values per row for both dataframes\n",
    "    df_bmu['total'] = df.gt(0).sum(axis=1)\n",
    "    df_mu['total'] = df.gt(0).sum(axis=1)\n",
    "        \n",
    "        \n",
    "    # Compare the characteristics.\n",
    "    data = {'Characteristic': ['Min. #Ratings', 'Max. #Ratings', 'Mean #Ratings', '# Users'],\n",
    "                'Beyond-mainstream': [df_bmu['total'].min(), df_bmu['total'].max(), df_bmu['total'].mean(), len(bmu)],\n",
    "                'Mainstream': [df_mu['total'].min(), df_mu['total'].max(), df_mu['total'].mean(), len(mu)]}\n",
    "    \n",
    "\n",
    "    compare_df = pd.DataFrame(data)\n",
    "    print(compare_df)\n",
    "    return compare_df\n",
    "    "
   ]
  },
  {
   "cell_type": "markdown",
   "id": "consolidated-paste",
   "metadata": {},
   "source": [
    "## Look into data characteristics without removing items"
   ]
  },
  {
   "cell_type": "markdown",
   "id": "industrial-velvet",
   "metadata": {},
   "source": [
    "### Investigate taus"
   ]
  },
  {
   "cell_type": "code",
   "execution_count": 58,
   "id": "conventional-reynolds",
   "metadata": {},
   "outputs": [
    {
     "name": "stdout",
     "output_type": "stream",
     "text": [
      "Length of ranks_GIR_items: 1682\n",
      "Finished computing users' mainstreaminesses\n"
     ]
    },
    {
     "name": "stderr",
     "output_type": "stream",
     "text": [
      "<ipython-input-4-1d79585076c0>:8: FutureWarning: Support for multi-dimensional indexing (e.g. `obj[:, None]`) is deprecated and will be removed in a future version.  Convert to a numpy array before indexing instead.\n",
      "  grid.fit(d[:, None])\n"
     ]
    },
    {
     "name": "stdout",
     "output_type": "stream",
     "text": [
      "{'bandwidth': 0.1}\n"
     ]
    },
    {
     "name": "stderr",
     "output_type": "stream",
     "text": [
      "<ipython-input-58-cfbe8762e0f3>:8: FutureWarning: Support for multi-dimensional indexing (e.g. `obj[:, None]`) is deprecated and will be removed in a future version.  Convert to a numpy array before indexing instead.\n",
      "  kde.fit(taus_df[:, None])\n"
     ]
    },
    {
     "data": {
      "text/plain": [
       "(-0.001, 40.0)"
      ]
     },
     "execution_count": 58,
     "metadata": {},
     "output_type": "execute_result"
    },
    {
     "data": {
      "image/png": "[encoded data removed]",
      "text/plain": [
       "<Figure size 432x288 with 1 Axes>"
      ]
     },
     "metadata": {
      "needs_background": "light"
     },
     "output_type": "display_data"
    },
    {
     "data": {
      "image/png": "[encoded data removed]",
      "text/plain": [
       "<Figure size 432x288 with 1 Axes>"
      ]
     },
     "metadata": {
      "needs_background": "light"
     },
     "output_type": "display_data"
    }
   ],
   "source": [
    "user_mainstreamnesses, taus_df = compute_taus(df)\n",
    "best_bandwidth = compute_best_bandwidth(taus_df)\n",
    "\n",
    "# instantiate and fit the KDE model\n",
    "kde = KernelDensity(bandwidth=best_bandwidth['bandwidth'], kernel='gaussian')\n",
    "x_d2 = np.linspace(0, 0.4, 1000)\n",
    "\n",
    "kde.fit(taus_df[:, None])\n",
    "\n",
    "# score_samples returns the log of the probability density\n",
    "logprob = kde.score_samples(x_d2[:, None])\n",
    "\n",
    "plt.figure(1)\n",
    "plt.fill_between(x_d2, np.exp(logprob), alpha=0.5)\n",
    "plt.plot(taus_df, np.full_like(taus_df, -0.01), '|k', markeredgewidth=0.2)\n",
    "plt.ylim(-0.001, 40)"
   ]
  },
  {
   "cell_type": "markdown",
   "id": "suburban-quest",
   "metadata": {},
   "source": [
    "### Divide users into two groups, based on mainstreaminess score, and compare group-size characteristics"
   ]
  },
  {
   "cell_type": "code",
   "execution_count": null,
   "id": "perfect-perry",
   "metadata": {},
   "outputs": [
    {
     "name": "stdout",
     "output_type": "stream",
     "text": [
      "143\n",
      "800\n"
     ]
    }
   ],
   "source": [
    "tau_cutoff = 0.185\n",
    "compare_df = get_division_characteristics(user_mainstreamnesses, tau_cutoff)"
   ]
  },
  {
   "cell_type": "markdown",
   "id": "handed-wonder",
   "metadata": {},
   "source": [
    "### Investigate item rating count"
   ]
  },
  {
   "cell_type": "code",
   "execution_count": 11,
   "id": "racial-discrimination",
   "metadata": {},
   "outputs": [
    {
     "name": "stdout",
     "output_type": "stream",
     "text": [
      "943\n"
     ]
    },
    {
     "data": {
      "text/plain": [
       "Text(0, 0.5, 'Counts')"
      ]
     },
     "execution_count": 11,
     "metadata": {},
     "output_type": "execute_result"
    },
    {
     "data": {
      "image/png": "[encoded data removed]",
      "text/plain": [
       "<Figure size 432x288 with 1 Axes>"
      ]
     },
     "metadata": {
      "needs_background": "light"
     },
     "output_type": "display_data"
    }
   ],
   "source": [
    "# Count the amount of rating events per item\n",
    "rating_count_per_item = df.gt(0).sum(axis=0)\n",
    "print(rating_count_per_item.max())\n",
    "\n",
    "plt.hist(rating_count_per_item)\n",
    "plt.xlabel(\"# ratings\")\n",
    "plt.ylabel(\"Counts\")"
   ]
  },
  {
   "cell_type": "markdown",
   "id": "toxic-probe",
   "metadata": {},
   "source": [
    "Here, we clearly see the longtail distribution of the items."
   ]
  },
  {
   "cell_type": "markdown",
   "id": "prime-royalty",
   "metadata": {},
   "source": [
    "### Investigate user rating count"
   ]
  },
  {
   "cell_type": "code",
   "execution_count": 12,
   "id": "monthly-burlington",
   "metadata": {},
   "outputs": [
    {
     "data": {
      "text/plain": [
       "Text(0, 0.5, 'Counts')"
      ]
     },
     "execution_count": 12,
     "metadata": {},
     "output_type": "execute_result"
    },
    {
     "data": {
      "image/png": "[encoded data removed]",
      "text/plain": [
       "<Figure size 432x288 with 1 Axes>"
      ]
     },
     "metadata": {
      "needs_background": "light"
     },
     "output_type": "display_data"
    }
   ],
   "source": [
    "# Count the amount of rating events per user\n",
    "df['total'] = df.gt(0).sum(axis=1)\n",
    "rating_count_per_user = df['total']\n",
    "\n",
    "plt.hist(rating_count_per_user)\n",
    "plt.xlabel(\"# ratings\")\n",
    "plt.ylabel(\"Counts\")"
   ]
  },
  {
   "cell_type": "markdown",
   "id": "smaller-capacity",
   "metadata": {},
   "source": [
    "Here, we clearly see the longtail distribution of the user ratings. \n",
    "We will first remove the items with few ratings (<20)"
   ]
  },
  {
   "cell_type": "markdown",
   "id": "recent-employee",
   "metadata": {},
   "source": [
    "## Look into data characteristics when removing items < 20 ratings"
   ]
  },
  {
   "cell_type": "code",
   "execution_count": 13,
   "id": "alpine-administration",
   "metadata": {},
   "outputs": [
    {
     "name": "stdout",
     "output_type": "stream",
     "text": [
      "Length of ranks_GIR_items: 940\n",
      "Finished computing users' mainstreaminesses\n"
     ]
    },
    {
     "name": "stderr",
     "output_type": "stream",
     "text": [
      "<ipython-input-4-1d79585076c0>:8: FutureWarning: Support for multi-dimensional indexing (e.g. `obj[:, None]`) is deprecated and will be removed in a future version.  Convert to a numpy array before indexing instead.\n",
      "  grid.fit(d[:, None])\n"
     ]
    },
    {
     "name": "stdout",
     "output_type": "stream",
     "text": [
      "{'bandwidth': 0.1}\n"
     ]
    },
    {
     "name": "stderr",
     "output_type": "stream",
     "text": [
      "<ipython-input-13-f8770581ab24>:8: FutureWarning: Support for multi-dimensional indexing (e.g. `obj[:, None]`) is deprecated and will be removed in a future version.  Convert to a numpy array before indexing instead.\n",
      "  kde.fit(taus_df[:, None])\n"
     ]
    },
    {
     "data": {
      "text/plain": [
       "(-0.001, 40.0)"
      ]
     },
     "execution_count": 13,
     "metadata": {},
     "output_type": "execute_result"
    },
    {
     "data": {
      "image/png": "[encoded data removed]",
      "text/plain": [
       "<Figure size 432x288 with 1 Axes>"
      ]
     },
     "metadata": {
      "needs_background": "light"
     },
     "output_type": "display_data"
    },
    {
     "data": {
      "image/png": "[encoded data removed]",
      "text/plain": [
       "<Figure size 432x288 with 1 Axes>"
      ]
     },
     "metadata": {
      "needs_background": "light"
     },
     "output_type": "display_data"
    }
   ],
   "source": [
    "user_mainstreamnesses, taus_df = compute_taus(df, minimum=20)\n",
    "best_bandwidth = compute_best_bandwidth(taus_df)\n",
    "\n",
    "# instantiate and fit the KDE model\n",
    "kde = KernelDensity(bandwidth=best_bandwidth['bandwidth'], kernel='gaussian')\n",
    "x_d2 = np.linspace(-0.25, 0.4, 1000)\n",
    "\n",
    "kde.fit(taus_df[:, None])\n",
    "\n",
    "# score_samples returns the log of the probability density\n",
    "logprob = kde.score_samples(x_d2[:, None])\n",
    "\n",
    "plt.figure(1)\n",
    "plt.fill_between(x_d2, np.exp(logprob), alpha=0.5)\n",
    "plt.plot(taus_df, np.full_like(taus_df, -0.01), '|k', markeredgewidth=0.2)\n",
    "plt.ylim(-0.001, 40)"
   ]
  },
  {
   "cell_type": "code",
   "execution_count": 14,
   "id": "sufficient-program",
   "metadata": {},
   "outputs": [
    {
     "name": "stdout",
     "output_type": "stream",
     "text": [
      "943\n",
      "0\n",
      "  Characteristic  Beyond-mainstream  Mainstream\n",
      "0  Min. #Ratings          21.000000   21.000000\n",
      "1  Max. #Ratings         738.000000  738.000000\n",
      "2  Mean #Ratings         107.044539  107.044539\n",
      "3        # Users         943.000000    0.000000\n"
     ]
    }
   ],
   "source": [
    "tau_cutoff = 0.65\n",
    "compare_df = get_division_characteristics(user_mainstreamnesses, tau_cutoff)"
   ]
  },
  {
   "cell_type": "markdown",
   "id": "opposed-necklace",
   "metadata": {},
   "source": [
    "## Look into data characteristics when removing items < 50 ratings"
   ]
  },
  {
   "cell_type": "code",
   "execution_count": 15,
   "id": "checked-raise",
   "metadata": {},
   "outputs": [
    {
     "name": "stdout",
     "output_type": "stream",
     "text": [
      "Length of ranks_GIR_items: 604\n",
      "Finished computing users' mainstreaminesses\n"
     ]
    },
    {
     "name": "stderr",
     "output_type": "stream",
     "text": [
      "<ipython-input-4-1d79585076c0>:8: FutureWarning: Support for multi-dimensional indexing (e.g. `obj[:, None]`) is deprecated and will be removed in a future version.  Convert to a numpy array before indexing instead.\n",
      "  grid.fit(d[:, None])\n"
     ]
    },
    {
     "name": "stdout",
     "output_type": "stream",
     "text": [
      "{'bandwidth': 0.1}\n"
     ]
    },
    {
     "name": "stderr",
     "output_type": "stream",
     "text": [
      "<ipython-input-15-8ea21f7a5a75>:8: FutureWarning: Support for multi-dimensional indexing (e.g. `obj[:, None]`) is deprecated and will be removed in a future version.  Convert to a numpy array before indexing instead.\n",
      "  kde.fit(taus_df[:, None])\n"
     ]
    },
    {
     "data": {
      "text/plain": [
       "(-0.001, 40.0)"
      ]
     },
     "execution_count": 15,
     "metadata": {},
     "output_type": "execute_result"
    },
    {
     "data": {
      "image/png": "[encoded data removed]",
      "text/plain": [
       "<Figure size 432x288 with 1 Axes>"
      ]
     },
     "metadata": {
      "needs_background": "light"
     },
     "output_type": "display_data"
    },
    {
     "data": {
      "image/png": "[encoded data removed]",
      "text/plain": [
       "<Figure size 432x288 with 1 Axes>"
      ]
     },
     "metadata": {
      "needs_background": "light"
     },
     "output_type": "display_data"
    }
   ],
   "source": [
    "user_mainstreamnesses, taus_df = compute_taus(df, minimum=50)\n",
    "best_bandwidth = compute_best_bandwidth(taus_df)\n",
    "\n",
    "# instantiate and fit the KDE model\n",
    "kde = KernelDensity(bandwidth=best_bandwidth['bandwidth'], kernel='gaussian')\n",
    "x_d2 = np.linspace(-0.25, 0.4, 1000)\n",
    "\n",
    "kde.fit(taus_df[:, None])\n",
    "\n",
    "# score_samples returns the log of the probability density\n",
    "logprob = kde.score_samples(x_d2[:, None])\n",
    "\n",
    "plt.figure(1)\n",
    "plt.fill_between(x_d2, np.exp(logprob), alpha=0.5)\n",
    "plt.plot(taus_df, np.full_like(taus_df, -0.01), '|k', markeredgewidth=0.2)\n",
    "plt.ylim(-0.001, 40)"
   ]
  },
  {
   "cell_type": "markdown",
   "id": "center-disclaimer",
   "metadata": {},
   "source": [
    "### Divide users into two groups, based on mainstreaminess score, and compare group-size characteristics"
   ]
  },
  {
   "cell_type": "code",
   "execution_count": 16,
   "id": "written-miller",
   "metadata": {},
   "outputs": [
    {
     "name": "stdout",
     "output_type": "stream",
     "text": [
      "259\n",
      "684\n",
      "  Characteristic  Beyond-mainstream  Mainstream\n",
      "0  Min. #Ratings          21.000000   22.000000\n",
      "1  Max. #Ratings         415.000000  738.000000\n",
      "2  Mean #Ratings          72.726608  197.675676\n",
      "3        # Users         259.000000  684.000000\n"
     ]
    },
    {
     "name": "stderr",
     "output_type": "stream",
     "text": [
      "<ipython-input-9-3ed4325abf96>:20: SettingWithCopyWarning: \n",
      "A value is trying to be set on a copy of a slice from a DataFrame.\n",
      "Try using .loc[row_indexer,col_indexer] = value instead\n",
      "\n",
      "See the caveats in the documentation: https://pandas.pydata.org/pandas-docs/stable/user_guide/indexing.html#returning-a-view-versus-a-copy\n",
      "  df_bmu['total'] = df.gt(0).sum(axis=1)\n",
      "<ipython-input-9-3ed4325abf96>:21: SettingWithCopyWarning: \n",
      "A value is trying to be set on a copy of a slice from a DataFrame.\n",
      "Try using .loc[row_indexer,col_indexer] = value instead\n",
      "\n",
      "See the caveats in the documentation: https://pandas.pydata.org/pandas-docs/stable/user_guide/indexing.html#returning-a-view-versus-a-copy\n",
      "  df_mu['total'] = df.gt(0).sum(axis=1)\n"
     ]
    }
   ],
   "source": [
    "tau_cutoff = 0.06\n",
    "compare_df = get_division_characteristics(user_mainstreamnesses, tau_cutoff)"
   ]
  },
  {
   "cell_type": "markdown",
   "id": "growing-daisy",
   "metadata": {},
   "source": [
    "## Look into data characteristics when removing items < 100 ratings"
   ]
  },
  {
   "cell_type": "code",
   "execution_count": 20,
   "id": "killing-mentor",
   "metadata": {},
   "outputs": [
    {
     "name": "stdout",
     "output_type": "stream",
     "text": [
      "Length of ranks_GIR_items: 339\n",
      "Finished computing users' mainstreaminesses\n"
     ]
    },
    {
     "name": "stderr",
     "output_type": "stream",
     "text": [
      "<ipython-input-4-1d79585076c0>:8: FutureWarning: Support for multi-dimensional indexing (e.g. `obj[:, None]`) is deprecated and will be removed in a future version.  Convert to a numpy array before indexing instead.\n",
      "  grid.fit(d[:, None])\n"
     ]
    },
    {
     "name": "stdout",
     "output_type": "stream",
     "text": [
      "{'bandwidth': 0.1}\n"
     ]
    },
    {
     "name": "stderr",
     "output_type": "stream",
     "text": [
      "<ipython-input-20-4b13de2c5ab0>:8: FutureWarning: Support for multi-dimensional indexing (e.g. `obj[:, None]`) is deprecated and will be removed in a future version.  Convert to a numpy array before indexing instead.\n",
      "  kde.fit(taus_df[:, None])\n"
     ]
    },
    {
     "data": {
      "text/plain": [
       "(-0.001, 40.0)"
      ]
     },
     "execution_count": 20,
     "metadata": {},
     "output_type": "execute_result"
    },
    {
     "data": {
      "image/png": "[encoded data removed]",
      "text/plain": [
       "<Figure size 432x288 with 1 Axes>"
      ]
     },
     "metadata": {
      "needs_background": "light"
     },
     "output_type": "display_data"
    },
    {
     "data": {
      "image/png": "[encoded data removed]",
      "text/plain": [
       "<Figure size 432x288 with 1 Axes>"
      ]
     },
     "metadata": {
      "needs_background": "light"
     },
     "output_type": "display_data"
    }
   ],
   "source": [
    "user_mainstreamnesses, taus_df = compute_taus(df, minimum=100)\n",
    "best_bandwidth = compute_best_bandwidth(taus_df)\n",
    "\n",
    "# instantiate and fit the KDE model\n",
    "kde = KernelDensity(bandwidth=best_bandwidth['bandwidth'], kernel='gaussian')\n",
    "x_d2 = np.linspace(-0.25, 0.4, 1000)\n",
    "\n",
    "kde.fit(taus_df[:, None])\n",
    "\n",
    "# score_samples returns the log of the probability density\n",
    "logprob = kde.score_samples(x_d2[:, None])\n",
    "\n",
    "plt.figure(1)\n",
    "plt.fill_between(x_d2, np.exp(logprob), alpha=0.5)\n",
    "plt.plot(taus_df, np.full_like(taus_df, -0.01), '|k', markeredgewidth=0.2)\n",
    "plt.ylim(-0.001, 40)"
   ]
  },
  {
   "cell_type": "markdown",
   "id": "compound-religious",
   "metadata": {},
   "source": [
    "### Divide users into two groups, based on mainstreaminess score, and compare group-size characteristics"
   ]
  },
  {
   "cell_type": "code",
   "execution_count": 21,
   "id": "dependent-easter",
   "metadata": {},
   "outputs": [
    {
     "name": "stdout",
     "output_type": "stream",
     "text": [
      "898\n",
      "45\n",
      "  Characteristic  Beyond-mainstream  Mainstream\n",
      "0  Min. #Ratings          21.000000   21.000000\n",
      "1  Max. #Ratings         435.000000  738.000000\n",
      "2  Mean #Ratings         136.533333  105.566815\n",
      "3        # Users         898.000000   45.000000\n"
     ]
    },
    {
     "name": "stderr",
     "output_type": "stream",
     "text": [
      "<ipython-input-9-3ed4325abf96>:20: SettingWithCopyWarning: \n",
      "A value is trying to be set on a copy of a slice from a DataFrame.\n",
      "Try using .loc[row_indexer,col_indexer] = value instead\n",
      "\n",
      "See the caveats in the documentation: https://pandas.pydata.org/pandas-docs/stable/user_guide/indexing.html#returning-a-view-versus-a-copy\n",
      "  df_bmu['total'] = df.gt(0).sum(axis=1)\n",
      "<ipython-input-9-3ed4325abf96>:21: SettingWithCopyWarning: \n",
      "A value is trying to be set on a copy of a slice from a DataFrame.\n",
      "Try using .loc[row_indexer,col_indexer] = value instead\n",
      "\n",
      "See the caveats in the documentation: https://pandas.pydata.org/pandas-docs/stable/user_guide/indexing.html#returning-a-view-versus-a-copy\n",
      "  df_mu['total'] = df.gt(0).sum(axis=1)\n"
     ]
    }
   ],
   "source": [
    "tau_cutoff = 0.07\n",
    "compare_df = get_division_characteristics(user_mainstreamnesses, tau_cutoff)"
   ]
  },
  {
   "cell_type": "markdown",
   "id": "cutting-worth",
   "metadata": {},
   "source": [
    "## Look into data characteristics when removing items < 20 & > 200 ratings"
   ]
  },
  {
   "cell_type": "code",
   "execution_count": 45,
   "id": "modular-billy",
   "metadata": {},
   "outputs": [
    {
     "name": "stdout",
     "output_type": "stream",
     "text": [
      "Length of ranks_GIR_items: 822\n",
      "Finished computing users' mainstreaminesses\n"
     ]
    },
    {
     "name": "stderr",
     "output_type": "stream",
     "text": [
      "<ipython-input-4-1d79585076c0>:8: FutureWarning: Support for multi-dimensional indexing (e.g. `obj[:, None]`) is deprecated and will be removed in a future version.  Convert to a numpy array before indexing instead.\n",
      "  grid.fit(d[:, None])\n"
     ]
    },
    {
     "name": "stdout",
     "output_type": "stream",
     "text": [
      "{'bandwidth': 0.1}\n"
     ]
    },
    {
     "name": "stderr",
     "output_type": "stream",
     "text": [
      "<ipython-input-45-0b253c61dd5c>:8: FutureWarning: Support for multi-dimensional indexing (e.g. `obj[:, None]`) is deprecated and will be removed in a future version.  Convert to a numpy array before indexing instead.\n",
      "  kde.fit(taus_df[:, None])\n"
     ]
    },
    {
     "data": {
      "text/plain": [
       "(-0.001, 40.0)"
      ]
     },
     "execution_count": 45,
     "metadata": {},
     "output_type": "execute_result"
    },
    {
     "data": {
      "image/png": "[encoded data removed]",
      "text/plain": [
       "<Figure size 432x288 with 1 Axes>"
      ]
     },
     "metadata": {
      "needs_background": "light"
     },
     "output_type": "display_data"
    },
    {
     "data": {
      "image/png": "[encoded data removed]",
      "text/plain": [
       "<Figure size 432x288 with 1 Axes>"
      ]
     },
     "metadata": {
      "needs_background": "light"
     },
     "output_type": "display_data"
    }
   ],
   "source": [
    "user_mainstreamnesses, taus_df = compute_taus(df, minimum=20, maximum=200)\n",
    "best_bandwidth = compute_best_bandwidth(taus_df)\n",
    "\n",
    "# instantiate and fit the KDE model\n",
    "kde = KernelDensity(bandwidth=best_bandwidth['bandwidth'], kernel='gaussian')\n",
    "x_d2 = np.linspace(-0.25, 0.4, 1000)\n",
    "\n",
    "kde.fit(taus_df[:, None])\n",
    "\n",
    "# score_samples returns the log of the probability density\n",
    "logprob = kde.score_samples(x_d2[:, None])\n",
    "\n",
    "plt.figure(1)\n",
    "plt.fill_between(x_d2, np.exp(logprob), alpha=0.5)\n",
    "plt.plot(taus_df, np.full_like(taus_df, -0.01), '|k', markeredgewidth=0.2)\n",
    "plt.ylim(-0.001, 40)"
   ]
  },
  {
   "cell_type": "markdown",
   "id": "streaming-boxing",
   "metadata": {},
   "source": [
    "### Divide users into two groups, based on mainstreaminess score, and compare group-size characteristics"
   ]
  },
  {
   "cell_type": "code",
   "execution_count": 57,
   "id": "dominican-arrival",
   "metadata": {},
   "outputs": [
    {
     "name": "stdout",
     "output_type": "stream",
     "text": [
      "303\n",
      "640\n"
     ]
    },
    {
     "ename": "KeyboardInterrupt",
     "evalue": "",
     "output_type": "error",
     "traceback": [
      "\u001b[1;31m---------------------------------------------------------------------------\u001b[0m",
      "\u001b[1;31mKeyboardInterrupt\u001b[0m                         Traceback (most recent call last)",
      "\u001b[1;32m<ipython-input-57-3ca3a62f6284>\u001b[0m in \u001b[0;36m<module>\u001b[1;34m\u001b[0m\n\u001b[0;32m      1\u001b[0m \u001b[0mtau_cutoff\u001b[0m \u001b[1;33m=\u001b[0m \u001b[1;36m0.06\u001b[0m\u001b[1;33m\u001b[0m\u001b[1;33m\u001b[0m\u001b[0m\n\u001b[1;32m----> 2\u001b[1;33m \u001b[0mcompare_df\u001b[0m \u001b[1;33m=\u001b[0m \u001b[0mget_division_characteristics\u001b[0m\u001b[1;33m(\u001b[0m\u001b[0muser_mainstreamnesses\u001b[0m\u001b[1;33m,\u001b[0m \u001b[0mtau_cutoff\u001b[0m\u001b[1;33m)\u001b[0m\u001b[1;33m\u001b[0m\u001b[1;33m\u001b[0m\u001b[0m\n\u001b[0m",
      "\u001b[1;32m<ipython-input-56-08f4f8faab27>\u001b[0m in \u001b[0;36mget_division_characteristics\u001b[1;34m(user_mainstreamnesses, tau_cutoff)\u001b[0m\n\u001b[0;32m     21\u001b[0m     \u001b[1;31m# check user distribution\u001b[0m\u001b[1;33m\u001b[0m\u001b[1;33m\u001b[0m\u001b[1;33m\u001b[0m\u001b[0m\n\u001b[0;32m     22\u001b[0m     \u001b[0mdf_bmu_dense\u001b[0m \u001b[1;33m=\u001b[0m \u001b[0mtransform_sparse_to_dense_data\u001b[0m\u001b[1;33m(\u001b[0m\u001b[0mdf_bmu\u001b[0m\u001b[1;33m)\u001b[0m\u001b[1;33m\u001b[0m\u001b[1;33m\u001b[0m\u001b[0m\n\u001b[1;32m---> 23\u001b[1;33m     \u001b[0mdf_mu_dense\u001b[0m \u001b[1;33m=\u001b[0m \u001b[0mtransform_sparse_to_dense_data\u001b[0m\u001b[1;33m(\u001b[0m\u001b[0mdf_mu\u001b[0m\u001b[1;33m)\u001b[0m\u001b[1;33m\u001b[0m\u001b[1;33m\u001b[0m\u001b[0m\n\u001b[0m\u001b[0;32m     24\u001b[0m \u001b[1;33m\u001b[0m\u001b[0m\n\u001b[0;32m     25\u001b[0m     '''df_bmu_counts = df_bmu_dense.groupby('item').size().reset_index(name='counts')\n",
      "\u001b[1;32m<ipython-input-24-1c28ba11d0e6>\u001b[0m in \u001b[0;36mtransform_sparse_to_dense_data\u001b[1;34m(sparse_df)\u001b[0m\n\u001b[0;32m      3\u001b[0m     \u001b[1;32mfor\u001b[0m \u001b[0muid\u001b[0m \u001b[1;32min\u001b[0m \u001b[0mrange\u001b[0m\u001b[1;33m(\u001b[0m\u001b[0mlen\u001b[0m\u001b[1;33m(\u001b[0m\u001b[0msparse_df\u001b[0m\u001b[1;33m)\u001b[0m\u001b[1;33m)\u001b[0m\u001b[1;33m:\u001b[0m\u001b[1;33m\u001b[0m\u001b[1;33m\u001b[0m\u001b[0m\n\u001b[0;32m      4\u001b[0m         \u001b[1;32mfor\u001b[0m \u001b[0mitem_id\u001b[0m \u001b[1;32min\u001b[0m \u001b[0msparse_df\u001b[0m\u001b[1;33m.\u001b[0m\u001b[0mcolumns\u001b[0m\u001b[1;33m:\u001b[0m\u001b[1;33m\u001b[0m\u001b[1;33m\u001b[0m\u001b[0m\n\u001b[1;32m----> 5\u001b[1;33m             \u001b[0mrating\u001b[0m \u001b[1;33m=\u001b[0m \u001b[0msparse_df\u001b[0m\u001b[1;33m.\u001b[0m\u001b[0miloc\u001b[0m\u001b[1;33m[\u001b[0m\u001b[0muid\u001b[0m\u001b[1;33m]\u001b[0m\u001b[1;33m[\u001b[0m\u001b[0mitem_id\u001b[0m\u001b[1;33m]\u001b[0m\u001b[1;33m\u001b[0m\u001b[1;33m\u001b[0m\u001b[0m\n\u001b[0m\u001b[0;32m      6\u001b[0m             \u001b[1;31m#print(f\"user: {uid} - item: {item_id} - rating: {rating}\")\u001b[0m\u001b[1;33m\u001b[0m\u001b[1;33m\u001b[0m\u001b[1;33m\u001b[0m\u001b[0m\n\u001b[0;32m      7\u001b[0m             \u001b[1;32mif\u001b[0m \u001b[0mrating\u001b[0m \u001b[1;33m!=\u001b[0m \u001b[1;36m0\u001b[0m\u001b[1;33m:\u001b[0m\u001b[1;33m\u001b[0m\u001b[1;33m\u001b[0m\u001b[0m\n",
      "\u001b[1;32mC:\\Anaconda\\envs\\recsys\\lib\\site-packages\\pandas\\core\\series.py\u001b[0m in \u001b[0;36m__getitem__\u001b[1;34m(self, key)\u001b[0m\n\u001b[0;32m    880\u001b[0m \u001b[1;33m\u001b[0m\u001b[0m\n\u001b[0;32m    881\u001b[0m         \u001b[1;32melif\u001b[0m \u001b[0mkey_is_scalar\u001b[0m\u001b[1;33m:\u001b[0m\u001b[1;33m\u001b[0m\u001b[1;33m\u001b[0m\u001b[0m\n\u001b[1;32m--> 882\u001b[1;33m             \u001b[1;32mreturn\u001b[0m \u001b[0mself\u001b[0m\u001b[1;33m.\u001b[0m\u001b[0m_get_value\u001b[0m\u001b[1;33m(\u001b[0m\u001b[0mkey\u001b[0m\u001b[1;33m)\u001b[0m\u001b[1;33m\u001b[0m\u001b[1;33m\u001b[0m\u001b[0m\n\u001b[0m\u001b[0;32m    883\u001b[0m \u001b[1;33m\u001b[0m\u001b[0m\n\u001b[0;32m    884\u001b[0m         \u001b[1;32mif\u001b[0m \u001b[0mis_hashable\u001b[0m\u001b[1;33m(\u001b[0m\u001b[0mkey\u001b[0m\u001b[1;33m)\u001b[0m\u001b[1;33m:\u001b[0m\u001b[1;33m\u001b[0m\u001b[1;33m\u001b[0m\u001b[0m\n",
      "\u001b[1;32mC:\\Anaconda\\envs\\recsys\\lib\\site-packages\\pandas\\core\\series.py\u001b[0m in \u001b[0;36m_get_value\u001b[1;34m(self, label, takeable)\u001b[0m\n\u001b[0;32m    987\u001b[0m \u001b[1;33m\u001b[0m\u001b[0m\n\u001b[0;32m    988\u001b[0m         \u001b[1;31m# Similar to Index.get_value, but we do not fall back to positional\u001b[0m\u001b[1;33m\u001b[0m\u001b[1;33m\u001b[0m\u001b[1;33m\u001b[0m\u001b[0m\n\u001b[1;32m--> 989\u001b[1;33m         \u001b[0mloc\u001b[0m \u001b[1;33m=\u001b[0m \u001b[0mself\u001b[0m\u001b[1;33m.\u001b[0m\u001b[0mindex\u001b[0m\u001b[1;33m.\u001b[0m\u001b[0mget_loc\u001b[0m\u001b[1;33m(\u001b[0m\u001b[0mlabel\u001b[0m\u001b[1;33m)\u001b[0m\u001b[1;33m\u001b[0m\u001b[1;33m\u001b[0m\u001b[0m\n\u001b[0m\u001b[0;32m    990\u001b[0m         \u001b[1;32mreturn\u001b[0m \u001b[0mself\u001b[0m\u001b[1;33m.\u001b[0m\u001b[0mindex\u001b[0m\u001b[1;33m.\u001b[0m\u001b[0m_get_values_for_loc\u001b[0m\u001b[1;33m(\u001b[0m\u001b[0mself\u001b[0m\u001b[1;33m,\u001b[0m \u001b[0mloc\u001b[0m\u001b[1;33m,\u001b[0m \u001b[0mlabel\u001b[0m\u001b[1;33m)\u001b[0m\u001b[1;33m\u001b[0m\u001b[1;33m\u001b[0m\u001b[0m\n\u001b[0;32m    991\u001b[0m \u001b[1;33m\u001b[0m\u001b[0m\n",
      "\u001b[1;32mC:\\Anaconda\\envs\\recsys\\lib\\site-packages\\pandas\\core\\indexes\\base.py\u001b[0m in \u001b[0;36mget_loc\u001b[1;34m(self, key, method, tolerance)\u001b[0m\n\u001b[0;32m   2893\u001b[0m             \u001b[0mcasted_key\u001b[0m \u001b[1;33m=\u001b[0m \u001b[0mself\u001b[0m\u001b[1;33m.\u001b[0m\u001b[0m_maybe_cast_indexer\u001b[0m\u001b[1;33m(\u001b[0m\u001b[0mkey\u001b[0m\u001b[1;33m)\u001b[0m\u001b[1;33m\u001b[0m\u001b[1;33m\u001b[0m\u001b[0m\n\u001b[0;32m   2894\u001b[0m             \u001b[1;32mtry\u001b[0m\u001b[1;33m:\u001b[0m\u001b[1;33m\u001b[0m\u001b[1;33m\u001b[0m\u001b[0m\n\u001b[1;32m-> 2895\u001b[1;33m                 \u001b[1;32mreturn\u001b[0m \u001b[0mself\u001b[0m\u001b[1;33m.\u001b[0m\u001b[0m_engine\u001b[0m\u001b[1;33m.\u001b[0m\u001b[0mget_loc\u001b[0m\u001b[1;33m(\u001b[0m\u001b[0mcasted_key\u001b[0m\u001b[1;33m)\u001b[0m\u001b[1;33m\u001b[0m\u001b[1;33m\u001b[0m\u001b[0m\n\u001b[0m\u001b[0;32m   2896\u001b[0m             \u001b[1;32mexcept\u001b[0m \u001b[0mKeyError\u001b[0m \u001b[1;32mas\u001b[0m \u001b[0merr\u001b[0m\u001b[1;33m:\u001b[0m\u001b[1;33m\u001b[0m\u001b[1;33m\u001b[0m\u001b[0m\n\u001b[0;32m   2897\u001b[0m                 \u001b[1;32mraise\u001b[0m \u001b[0mKeyError\u001b[0m\u001b[1;33m(\u001b[0m\u001b[0mkey\u001b[0m\u001b[1;33m)\u001b[0m \u001b[1;32mfrom\u001b[0m \u001b[0merr\u001b[0m\u001b[1;33m\u001b[0m\u001b[1;33m\u001b[0m\u001b[0m\n",
      "\u001b[1;31mKeyboardInterrupt\u001b[0m: "
     ]
    }
   ],
   "source": [
    "tau_cutoff = 0.06\n",
    "compare_df = get_division_characteristics(user_mainstreamnesses, tau_cutoff)"
   ]
  },
  {
   "cell_type": "markdown",
   "id": "useful-baltimore",
   "metadata": {},
   "source": [
    "## Look into data characteristics when removing items > 100 ratings"
   ]
  },
  {
   "cell_type": "code",
   "execution_count": 24,
   "id": "disciplinary-darwin",
   "metadata": {},
   "outputs": [
    {
     "name": "stdout",
     "output_type": "stream",
     "text": [
      "Length of ranks_GIR_items: 1348\n",
      "Finished computing users' mainstreaminesses\n"
     ]
    },
    {
     "name": "stderr",
     "output_type": "stream",
     "text": [
      "<ipython-input-4-1d79585076c0>:8: FutureWarning: Support for multi-dimensional indexing (e.g. `obj[:, None]`) is deprecated and will be removed in a future version.  Convert to a numpy array before indexing instead.\n",
      "  grid.fit(d[:, None])\n"
     ]
    },
    {
     "name": "stdout",
     "output_type": "stream",
     "text": [
      "{'bandwidth': 0.1}\n"
     ]
    },
    {
     "name": "stderr",
     "output_type": "stream",
     "text": [
      "<ipython-input-24-2254ba162342>:8: FutureWarning: Support for multi-dimensional indexing (e.g. `obj[:, None]`) is deprecated and will be removed in a future version.  Convert to a numpy array before indexing instead.\n",
      "  kde.fit(taus_df[:, None])\n"
     ]
    },
    {
     "data": {
      "text/plain": [
       "(-0.001, 40.0)"
      ]
     },
     "execution_count": 24,
     "metadata": {},
     "output_type": "execute_result"
    },
    {
     "data": {
      "image/png": "[encoded data removed]",
      "text/plain": [
       "<Figure size 432x288 with 1 Axes>"
      ]
     },
     "metadata": {
      "needs_background": "light"
     },
     "output_type": "display_data"
    },
    {
     "data": {
      "image/png": "[encoded data removed]",
      "text/plain": [
       "<Figure size 432x288 with 1 Axes>"
      ]
     },
     "metadata": {
      "needs_background": "light"
     },
     "output_type": "display_data"
    }
   ],
   "source": [
    "user_mainstreamnesses, taus_df = compute_taus(df, minimum=0, maximum=100)\n",
    "best_bandwidth = compute_best_bandwidth(taus_df)\n",
    "\n",
    "# instantiate and fit the KDE model\n",
    "kde = KernelDensity(bandwidth=best_bandwidth['bandwidth'], kernel='gaussian')\n",
    "x_d2 = np.linspace(-0.25, 0.4, 1000)\n",
    "\n",
    "kde.fit(taus_df[:, None])\n",
    "\n",
    "# score_samples returns the log of the probability density\n",
    "logprob = kde.score_samples(x_d2[:, None])\n",
    "\n",
    "plt.figure(1)\n",
    "plt.fill_between(x_d2, np.exp(logprob), alpha=0.5)\n",
    "plt.plot(taus_df, np.full_like(taus_df, -0.01), '|k', markeredgewidth=0.2)\n",
    "plt.ylim(-0.001, 40)"
   ]
  },
  {
   "cell_type": "markdown",
   "id": "virtual-bangkok",
   "metadata": {},
   "source": [
    "### Divide users into two groups, based on mainstreaminess score, and compare group-size characteristics"
   ]
  },
  {
   "cell_type": "code",
   "execution_count": 25,
   "id": "expected-nirvana",
   "metadata": {},
   "outputs": [
    {
     "name": "stdout",
     "output_type": "stream",
     "text": [
      "646\n",
      "297\n",
      "  Characteristic  Beyond-mainstream  Mainstream\n",
      "0  Min. #Ratings          21.000000   21.000000\n",
      "1  Max. #Ratings         637.000000  738.000000\n",
      "2  Mean #Ratings          51.845118  132.422601\n",
      "3        # Users         646.000000  297.000000\n"
     ]
    },
    {
     "name": "stderr",
     "output_type": "stream",
     "text": [
      "<ipython-input-9-3ed4325abf96>:20: SettingWithCopyWarning: \n",
      "A value is trying to be set on a copy of a slice from a DataFrame.\n",
      "Try using .loc[row_indexer,col_indexer] = value instead\n",
      "\n",
      "See the caveats in the documentation: https://pandas.pydata.org/pandas-docs/stable/user_guide/indexing.html#returning-a-view-versus-a-copy\n",
      "  df_bmu['total'] = df.gt(0).sum(axis=1)\n",
      "<ipython-input-9-3ed4325abf96>:21: SettingWithCopyWarning: \n",
      "A value is trying to be set on a copy of a slice from a DataFrame.\n",
      "Try using .loc[row_indexer,col_indexer] = value instead\n",
      "\n",
      "See the caveats in the documentation: https://pandas.pydata.org/pandas-docs/stable/user_guide/indexing.html#returning-a-view-versus-a-copy\n",
      "  df_mu['total'] = df.gt(0).sum(axis=1)\n"
     ]
    }
   ],
   "source": [
    "tau_cutoff = 0.18\n",
    "compare_df = get_division_characteristics(user_mainstreamnesses, tau_cutoff)"
   ]
  },
  {
   "cell_type": "markdown",
   "id": "confirmed-plumbing",
   "metadata": {},
   "source": [
    "## Look into data characteristics when removing items > 200 ratings"
   ]
  },
  {
   "cell_type": "code",
   "execution_count": 26,
   "id": "perceived-guarantee",
   "metadata": {},
   "outputs": [
    {
     "name": "stdout",
     "output_type": "stream",
     "text": [
      "Length of ranks_GIR_items: 1565\n",
      "Finished computing users' mainstreaminesses\n"
     ]
    },
    {
     "name": "stderr",
     "output_type": "stream",
     "text": [
      "<ipython-input-4-1d79585076c0>:8: FutureWarning: Support for multi-dimensional indexing (e.g. `obj[:, None]`) is deprecated and will be removed in a future version.  Convert to a numpy array before indexing instead.\n",
      "  grid.fit(d[:, None])\n"
     ]
    },
    {
     "name": "stdout",
     "output_type": "stream",
     "text": [
      "{'bandwidth': 0.1}\n"
     ]
    },
    {
     "name": "stderr",
     "output_type": "stream",
     "text": [
      "<ipython-input-26-fbe1ccd2bcbb>:8: FutureWarning: Support for multi-dimensional indexing (e.g. `obj[:, None]`) is deprecated and will be removed in a future version.  Convert to a numpy array before indexing instead.\n",
      "  kde.fit(taus_df[:, None])\n"
     ]
    },
    {
     "data": {
      "text/plain": [
       "(-0.001, 40.0)"
      ]
     },
     "execution_count": 26,
     "metadata": {},
     "output_type": "execute_result"
    },
    {
     "data": {
      "image/png": "[encoded data removed]",
      "text/plain": [
       "<Figure size 432x288 with 1 Axes>"
      ]
     },
     "metadata": {
      "needs_background": "light"
     },
     "output_type": "display_data"
    },
    {
     "data": {
      "image/png": "[encoded data removed]",
      "text/plain": [
       "<Figure size 432x288 with 1 Axes>"
      ]
     },
     "metadata": {
      "needs_background": "light"
     },
     "output_type": "display_data"
    }
   ],
   "source": [
    "user_mainstreamnesses, taus_df = compute_taus(df, minimum=0, maximum=200)\n",
    "best_bandwidth = compute_best_bandwidth(taus_df)\n",
    "\n",
    "# instantiate and fit the KDE model\n",
    "kde = KernelDensity(bandwidth=best_bandwidth['bandwidth'], kernel='gaussian')\n",
    "x_d2 = np.linspace(-0.25, 0.4, 1000)\n",
    "\n",
    "kde.fit(taus_df[:, None])\n",
    "\n",
    "# score_samples returns the log of the probability density\n",
    "logprob = kde.score_samples(x_d2[:, None])\n",
    "\n",
    "plt.figure(1)\n",
    "plt.fill_between(x_d2, np.exp(logprob), alpha=0.5)\n",
    "plt.plot(taus_df, np.full_like(taus_df, -0.01), '|k', markeredgewidth=0.2)\n",
    "plt.ylim(-0.001, 40)"
   ]
  },
  {
   "cell_type": "markdown",
   "id": "grand-program",
   "metadata": {},
   "source": [
    "### Divide users into two groups, based on mainstreaminess score, and compare group-size characteristics"
   ]
  },
  {
   "cell_type": "code",
   "execution_count": 27,
   "id": "finite-amazon",
   "metadata": {},
   "outputs": [
    {
     "name": "stdout",
     "output_type": "stream",
     "text": [
      "339\n",
      "604\n",
      "  Characteristic  Beyond-mainstream  Mainstream\n",
      "0  Min. #Ratings          21.000000   40.000000\n",
      "1  Max. #Ratings         637.000000  738.000000\n",
      "2  Mean #Ratings          53.549669  202.356932\n",
      "3        # Users         339.000000  604.000000\n"
     ]
    },
    {
     "name": "stderr",
     "output_type": "stream",
     "text": [
      "<ipython-input-9-3ed4325abf96>:20: SettingWithCopyWarning: \n",
      "A value is trying to be set on a copy of a slice from a DataFrame.\n",
      "Try using .loc[row_indexer,col_indexer] = value instead\n",
      "\n",
      "See the caveats in the documentation: https://pandas.pydata.org/pandas-docs/stable/user_guide/indexing.html#returning-a-view-versus-a-copy\n",
      "  df_bmu['total'] = df.gt(0).sum(axis=1)\n",
      "<ipython-input-9-3ed4325abf96>:21: SettingWithCopyWarning: \n",
      "A value is trying to be set on a copy of a slice from a DataFrame.\n",
      "Try using .loc[row_indexer,col_indexer] = value instead\n",
      "\n",
      "See the caveats in the documentation: https://pandas.pydata.org/pandas-docs/stable/user_guide/indexing.html#returning-a-view-versus-a-copy\n",
      "  df_mu['total'] = df.gt(0).sum(axis=1)\n"
     ]
    }
   ],
   "source": [
    "tau_cutoff = 0.2\n",
    "compare_df = get_division_characteristics(user_mainstreamnesses, tau_cutoff)"
   ]
  }
 ],
 "metadata": {
  "kernelspec": {
   "display_name": "Python 3",
   "language": "python",
   "name": "python3"
  },
  "language_info": {
   "codemirror_mode": {
    "name": "ipython",
    "version": 3
   },
   "file_extension": ".py",
   "mimetype": "text/x-python",
   "name": "python",
   "nbconvert_exporter": "python",
   "pygments_lexer": "ipython3",
   "version": "3.8.5"
  }
 },
 "nbformat": 4,
 "nbformat_minor": 5
}
